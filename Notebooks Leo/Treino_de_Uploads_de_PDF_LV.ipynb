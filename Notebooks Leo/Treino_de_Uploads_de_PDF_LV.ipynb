{
  "nbformat": 4,
  "nbformat_minor": 0,
  "metadata": {
    "colab": {
      "name": "Treino de Uploads de PDF - LV.ipynb",
      "provenance": [],
      "collapsed_sections": []
    },
    "kernelspec": {
      "name": "python3",
      "display_name": "Python 3"
    }
  },
  "cells": [
    {
      "cell_type": "markdown",
      "metadata": {
        "id": "wmSoAiqC-n6z",
        "colab_type": "text"
      },
      "source": [
        "# Utilizarei esse Notebook para treinar uploads de PDF."
      ]
    },
    {
      "cell_type": "code",
      "metadata": {
        "id": "FekWglkk_OZ6",
        "colab_type": "code",
        "colab": {}
      },
      "source": [
        "# Acessando o Google Drive a partir do Colab\n",
        "\n",
        "# importando os pacotes necessários\n",
        "from google.colab import drive"
      ],
      "execution_count": 1,
      "outputs": []
    },
    {
      "cell_type": "code",
      "metadata": {
        "id": "lznOBc5a_Z6Z",
        "colab_type": "code",
        "colab": {
          "base_uri": "https://localhost:8080/",
          "height": 34
        },
        "outputId": "c0541bf7-b635-4849-c1ad-fedd63c64c84"
      },
      "source": [
        "# montando o drive\n",
        "drive.mount(\"/content/gdrive\")"
      ],
      "execution_count": 2,
      "outputs": [
        {
          "output_type": "stream",
          "text": [
            "Mounted at /content/gdrive\n"
          ],
          "name": "stdout"
        }
      ]
    },
    {
      "cell_type": "code",
      "metadata": {
        "id": "wg69PAt7_jwb",
        "colab_type": "code",
        "colab": {
          "base_uri": "https://localhost:8080/",
          "height": 192
        },
        "outputId": "db266dbb-cb8e-4fc9-edd8-7de7dc8abfdb"
      },
      "source": [
        "# listando arquivos\n",
        "!ls 'gdrive/My Drive/Notas Corretagem Helena'"
      ],
      "execution_count": 3,
      "outputs": [
        {
          "output_type": "stream",
          "text": [
            "'Nota de Corretagem 2020-03-20.pdf'\n",
            "'Nota de Corretagem 2020-03-23.pdf'\n",
            "'Nota de Corretagem 2020-03-27.pdf'\n",
            "'Nota de Corretagem 2020-04-01.pdf'\n",
            "'Nota de Corretagem 2020-04-15.pdf'\n",
            "'Nota de Corretagem 2020-04-23.pdf'\n",
            "'Nota de Corretagem 2020-05-22.pdf'\n",
            "'Nota de Corretagem 2020-07-27.pdf'\n",
            "'Nota de Corretagem 2020-08-24.pdf'\n",
            "'Venda - NOTA_DE_CORRETAGEM_12_08_2020.pdf'\n"
          ],
          "name": "stdout"
        }
      ]
    },
    {
      "cell_type": "code",
      "metadata": {
        "id": "IhSpoxoLAr9g",
        "colab_type": "code",
        "colab": {
          "base_uri": "https://localhost:8080/",
          "height": 404
        },
        "outputId": "c52a368d-623e-42fe-b57a-9bd7e1ce49ad"
      },
      "source": [
        "# instalando a biblioteca pdfplumber para extrair arquivos em PDF\n",
        "!pip install pdfplumber"
      ],
      "execution_count": 5,
      "outputs": [
        {
          "output_type": "stream",
          "text": [
            "Collecting pdfplumber\n",
            "  Downloading https://files.pythonhosted.org/packages/2c/06/eb883f00ea3d78a2f860c593645498c39120f763d30b099cc98c4392b312/pdfplumber-0.5.23.tar.gz\n",
            "Collecting pdfminer.six==20200517\n",
            "\u001b[?25l  Downloading https://files.pythonhosted.org/packages/b0/c0/ef1c8758bbd86edb10b5443700aac97d0ba27a9ca2e7696db8cd1fdbd5a8/pdfminer.six-20200517-py3-none-any.whl (5.6MB)\n",
            "\u001b[K     |████████████████████████████████| 5.6MB 6.3MB/s \n",
            "\u001b[?25hRequirement already satisfied: Pillow>=7.0.0 in /usr/local/lib/python3.6/dist-packages (from pdfplumber) (7.0.0)\n",
            "Collecting Wand\n",
            "\u001b[?25l  Downloading https://files.pythonhosted.org/packages/21/4d/0c33672e992ed80983895b36d3fbc3203f8e4a0fd36eb74ea07a563ae3ad/Wand-0.6.3-py2.py3-none-any.whl (133kB)\n",
            "\u001b[K     |████████████████████████████████| 143kB 44.6MB/s \n",
            "\u001b[?25hRequirement already satisfied: sortedcontainers in /usr/local/lib/python3.6/dist-packages (from pdfminer.six==20200517->pdfplumber) (2.2.2)\n",
            "Requirement already satisfied: chardet; python_version > \"3.0\" in /usr/local/lib/python3.6/dist-packages (from pdfminer.six==20200517->pdfplumber) (3.0.4)\n",
            "Collecting pycryptodome\n",
            "\u001b[?25l  Downloading https://files.pythonhosted.org/packages/17/55/17fa0b55849dc135f7bc400993a9206bf06d1b5d9520b0bc8d47c57aaef5/pycryptodome-3.9.8-cp36-cp36m-manylinux1_x86_64.whl (13.7MB)\n",
            "\u001b[K     |████████████████████████████████| 13.7MB 302kB/s \n",
            "\u001b[?25hBuilding wheels for collected packages: pdfplumber\n",
            "  Building wheel for pdfplumber (setup.py) ... \u001b[?25l\u001b[?25hdone\n",
            "  Created wheel for pdfplumber: filename=pdfplumber-0.5.23-cp36-none-any.whl size=29176 sha256=4b7685402611d2e6181afae6dbe638f7447e96169b176271f0139b62cf26e793\n",
            "  Stored in directory: /root/.cache/pip/wheels/f6/4d/ae/abb7b92fbed5d09a835c259f26d2a3223ea929a0ad6d322097\n",
            "Successfully built pdfplumber\n",
            "Installing collected packages: pycryptodome, pdfminer.six, Wand, pdfplumber\n",
            "Successfully installed Wand-0.6.3 pdfminer.six-20200517 pdfplumber-0.5.23 pycryptodome-3.9.8\n"
          ],
          "name": "stdout"
        }
      ]
    },
    {
      "cell_type": "code",
      "metadata": {
        "id": "MRvvdv1FA6o4",
        "colab_type": "code",
        "colab": {}
      },
      "source": [
        "import pdfplumber\n",
        "import os"
      ],
      "execution_count": 6,
      "outputs": []
    },
    {
      "cell_type": "code",
      "metadata": {
        "id": "1pYpSIUY_8JS",
        "colab_type": "code",
        "colab": {}
      },
      "source": [
        "# abrindo o documento\n",
        "pdf = pdfplumber.open('/content/gdrive/My Drive/Notas Corretagem Helena/Nota de Corretagem 2020-03-20.pdf')"
      ],
      "execution_count": 7,
      "outputs": []
    },
    {
      "cell_type": "code",
      "metadata": {
        "id": "bgmWOfZIAN1w",
        "colab_type": "code",
        "colab": {
          "base_uri": "https://localhost:8080/",
          "height": 34
        },
        "outputId": "d2d4dd04-94ff-4f14-c383-0a9eefa38a0c"
      },
      "source": [
        "pdf.pages"
      ],
      "execution_count": 8,
      "outputs": [
        {
          "output_type": "execute_result",
          "data": {
            "text/plain": [
              "[<Page:1>]"
            ]
          },
          "metadata": {
            "tags": []
          },
          "execution_count": 8
        }
      ]
    },
    {
      "cell_type": "code",
      "metadata": {
        "id": "j4J8L647BHJy",
        "colab_type": "code",
        "colab": {
          "base_uri": "https://localhost:8080/",
          "height": 34
        },
        "outputId": "07588d47-9468-4c34-f4df-25dc01c388b3"
      },
      "source": [
        "# selecionando uma página\n",
        "page = pdf.pages[0]\n",
        "page"
      ],
      "execution_count": 9,
      "outputs": [
        {
          "output_type": "execute_result",
          "data": {
            "text/plain": [
              "<Page:1>"
            ]
          },
          "metadata": {
            "tags": []
          },
          "execution_count": 9
        }
      ]
    },
    {
      "cell_type": "code",
      "metadata": {
        "id": "SgIYz114BRPJ",
        "colab_type": "code",
        "colab": {
          "base_uri": "https://localhost:8080/",
          "height": 69
        },
        "outputId": "3fe5fb04-4619-48fd-e584-2b83f0a1a41a"
      },
      "source": [
        "# coletando os metadados do arquivo\n",
        "pdf.metadata"
      ],
      "execution_count": 10,
      "outputs": [
        {
          "output_type": "execute_result",
          "data": {
            "text/plain": [
              "{'CreationDate': \"D:20200323095947-03'00'\",\n",
              " 'Creator': 'PDFsharp 1.50.5147 (www.pdfsharp.com)',\n",
              " 'Producer': 'PDFsharp 1.50.5147 (www.pdfsharp.com)'}"
            ]
          },
          "metadata": {
            "tags": []
          },
          "execution_count": 10
        }
      ]
    },
    {
      "cell_type": "code",
      "metadata": {
        "id": "tMa38snuBSP-",
        "colab_type": "code",
        "colab": {
          "base_uri": "https://localhost:8080/",
          "height": 944
        },
        "outputId": "a7cb15cb-6fa6-4711-8450-c1a3c6dc515a"
      },
      "source": [
        "# extraindo o texto do arquivo\n",
        "text = page.extract_text()\n",
        "print(text)"
      ],
      "execution_count": 11,
      "outputs": [
        {
          "output_type": "stream",
          "text": [
            "NOTA DE NEGOCIAÇÃO\n",
            "Nr. nota Folha Data pregão\n",
            "1041603 1 20/03/2020\n",
            "Rico Investimentos - Grupo XP\n",
            "Av. Presidente Juscelino Kubitschek - Torre Sul, 1909 - 25º ANDAR VILA OLIMPIA 4543-907 SÃO PAULO - SP\n",
            "Tel. 3003-5465   Fax: (55 11) 4007-2465\n",
            "Internet: www.rico.com.vc SAC: 0800-774-0402 e-mail: atendimento@rico.com.vc\n",
            "C.N.P.J: 02.332.886/0016-82 Carta Patente:\n",
            "Ouvidoria: Tel. 08007740402 e-mail ouvidoria:\n",
            "Cliente C.P.F./C.N.P.J/C.V.M./C.O.B.\n",
            "2117147 HELENA DE OLIVEIRA VALESE 844.956.188-49\n",
            "R DONA GABRIELA, 151 - APTO 73 VILA DOM PEDRO II Tel. Código cliente Assessor\n",
            "02244-060 SAO PAULO - SP 386-7   2117147 5003\n",
            "Participante destino do repasse Cliente Valor Custodiante C.I\n",
            "- 0 N\n",
            "Banco Agência Conta corrente Acionista Administrador Complemento nome P. Vinc\n",
            "237 1330 6087 N\n",
            "Negócios realizados\n",
            "Q Negociação C/V Tipo mercado Prazo Especificação do título Obs. (*) Quantidade Preço / Ajuste Valor Operação / Ajuste D/C\n",
            "1-BOVESPA C VISTA FII HECTARE          HCTR11          CI 35 104,60 3.661,00 D\n",
            "1-BOVESPA C VISTA FII IRIDIUM          IRDM11          CI ER 35 100,00 3.500,00 D\n",
            "1-BOVESPA C VISTA FII XP LOG          XPLG11          CI 11 97,00 1.067,00 D\n",
            "1-BOVESPA C VISTA FII XP LOG          XPLG11          CI 24 97,00 2.328,00 D\n",
            "Resumo dos Negócios Resumo Financeiro\n",
            "Debêntures 0,00 Clearing\n",
            "Vendas à vista 0,00 Valor líquido das operações 10.556,00 D\n",
            "Compras à vista 10.556,00 Taxa de liquidação 2,90 D\n",
            "Opções - compras 0,00 Taxa de Registro 0,00 D\n",
            "Opções - vendas 0,00 Total CBLC 10.558,90 D\n",
            "Operações à termo 0,00 Bolsa\n",
            "Valor das oper. c/ títulos públ. (v. nom.) 0,00 Taxa de termo/opções 0,00 D\n",
            "Valor das operações  10.556,00 Taxa A.N.A. 0,00 D\n",
            "Emolumentos 0,34 D\n",
            "Total Bovespa / Soma 0,34 D\n",
            "Especificações diversas Custos Operacionais\n",
            "   \n",
            "Taxa Operacional 0,00 D\n",
            "Execução 0,00\n",
            "A coluna Q indica liquidação no Agente do Qualificado. Taxa de Custódia 0,00\n",
            "Impostos 0,00\n",
            "I.R.R.F. s/ operações, base R$0,00 0,00\n",
            "Outros 0,00 C\n",
            "Total Custos / Despesas 0,00 D\n",
            "Líquido para 24/03/2020 10.559,24 D\n",
            "(*) Observações A - Posição futuro T - Liquidação pelo Bruto\n",
            "Observação: (1) As operações a termo não são computadas no líquido da fatura.\n",
            "2 - Corretora ou pessoa vinculada atuou na contra parte. C - Clubes e fundos de Ações I - POP\n",
            "# - Negócio direto P - Carteira Própria\n",
            "8 - Liquidação Institucional H - Home Broker\n",
            "D - Day Trade X - Box\n",
            "F - Cobertura Y - Desmanche de Box\n",
            "B - Debêntures L - Precatório\n",
            "Capitais e regiões metropolitanas: 3003-5465 ou 4007-2465 Demais localidades: 0800-771-5465 SAC: 0800-774-0402 Ouvidoria: 0800 771 5454\n"
          ],
          "name": "stdout"
        }
      ]
    },
    {
      "cell_type": "code",
      "metadata": {
        "id": "UrESlDzMBS_8",
        "colab_type": "code",
        "colab": {}
      },
      "source": [
        ""
      ],
      "execution_count": null,
      "outputs": []
    },
    {
      "cell_type": "code",
      "metadata": {
        "id": "DYzeicxKBTek",
        "colab_type": "code",
        "colab": {}
      },
      "source": [
        ""
      ],
      "execution_count": null,
      "outputs": []
    },
    {
      "cell_type": "code",
      "metadata": {
        "id": "CID5TgN1BTt_",
        "colab_type": "code",
        "colab": {}
      },
      "source": [
        ""
      ],
      "execution_count": null,
      "outputs": []
    },
    {
      "cell_type": "code",
      "metadata": {
        "id": "jcZBY_i4BT7d",
        "colab_type": "code",
        "colab": {}
      },
      "source": [
        ""
      ],
      "execution_count": null,
      "outputs": []
    }
  ]
}