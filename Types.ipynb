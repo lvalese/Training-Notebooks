{
  "nbformat": 4,
  "nbformat_minor": 0,
  "metadata": {
    "colab": {
      "name": "Types.ipynb",
      "provenance": [],
      "collapsed_sections": [],
      "toc_visible": true,
      "authorship_tag": "ABX9TyNzwdHLDg8MNIbo+0rYKfNW",
      "include_colab_link": true
    },
    "kernelspec": {
      "name": "python3",
      "display_name": "Python 3"
    }
  },
  "cells": [
    {
      "cell_type": "markdown",
      "metadata": {
        "id": "view-in-github",
        "colab_type": "text"
      },
      "source": [
        "<a href=\"https://colab.research.google.com/github/lvalese/Training-Notebooks/blob/master/Types.ipynb\" target=\"_parent\"><img src=\"https://colab.research.google.com/assets/colab-badge.svg\" alt=\"Open In Colab\"/></a>"
      ]
    },
    {
      "cell_type": "markdown",
      "metadata": {
        "id": "IhU3_VbIlTyX",
        "colab_type": "text"
      },
      "source": [
        "## Types in Python\n",
        "There are many different types of objects in Python.\n",
        "\n",
        "\n",
        "The most common TYPES used in Python are:\n",
        "\n",
        "---\n",
        "\n",
        "* `Str`   Strings\n",
        "* `Int`   Integers\n",
        "* `Float` Floats\n",
        "* `Bool`  Boolean"
      ]
    },
    {
      "cell_type": "markdown",
      "metadata": {
        "id": "z93BRlHuwarM",
        "colab_type": "text"
      },
      "source": [
        "#####*Strings (Str):*\n",
        "\n"
      ]
    },
    {
      "cell_type": "code",
      "metadata": {
        "id": "MDTc2_jEw9Ql",
        "colab_type": "code",
        "outputId": "9d695053-3b9b-47de-8b2f-471361899ab1",
        "colab": {
          "base_uri": "https://localhost:8080/",
          "height": 35
        }
      },
      "source": [
        "# Strings(Str) - Anytime you write text in Python, you're using character strings. See some examples below:\n",
        "\n",
        "\"Hello, World\"\n",
        "\"My name is Leonardo\"\n",
        "\"The best soccer club in the world is Palmeiras\"\n",
        "\"Good studies to all\""
      ],
      "execution_count": 2,
      "outputs": [
        {
          "output_type": "execute_result",
          "data": {
            "text/plain": [
              "'Good studies to all'"
            ]
          },
          "metadata": {
            "tags": []
          },
          "execution_count": 2
        }
      ]
    },
    {
      "cell_type": "markdown",
      "metadata": {
        "colab_type": "text",
        "id": "1GG6Wn32n4km"
      },
      "source": [
        "#####*Integers (Int):*\n",
        "\n"
      ]
    },
    {
      "cell_type": "code",
      "metadata": {
        "id": "5VwTWI-3nr6_",
        "colab_type": "code",
        "colab": {
          "base_uri": "https://localhost:8080/",
          "height": 35
        },
        "outputId": "4f0a0a38-81cc-4dec-aa17-66191971de45"
      },
      "source": [
        "# Integers (Int) - Anytime you write a positive or negative whole numbers with no decimal point, you're using integers type. See some examples below:\n",
        "\n",
        "-2\n",
        "0\n",
        "2\n"
      ],
      "execution_count": 3,
      "outputs": [
        {
          "output_type": "execute_result",
          "data": {
            "text/plain": [
              "2"
            ]
          },
          "metadata": {
            "tags": []
          },
          "execution_count": 3
        }
      ]
    },
    {
      "cell_type": "markdown",
      "metadata": {
        "colab_type": "text",
        "id": "5P7rhki6pYdO"
      },
      "source": [
        "#####*Float (float):*\n",
        "\n"
      ]
    },
    {
      "cell_type": "code",
      "metadata": {
        "id": "ML8x2LoOpUlw",
        "colab_type": "code",
        "colab": {
          "base_uri": "https://localhost:8080/",
          "height": 35
        },
        "outputId": "2fb3f5bd-b378-4297-b74b-ce45544cc592"
      },
      "source": [
        "# Floats (float) - They represent real numbers and are written with a decimal point dividing the integer and fractional parts. See some examples below:\n",
        "\n",
        "-2.0\n",
        "1.0\n",
        "0.5"
      ],
      "execution_count": 4,
      "outputs": [
        {
          "output_type": "execute_result",
          "data": {
            "text/plain": [
              "0.5"
            ]
          },
          "metadata": {
            "tags": []
          },
          "execution_count": 4
        }
      ]
    },
    {
      "cell_type": "markdown",
      "metadata": {
        "colab_type": "text",
        "id": "O6-b0t40qGR-"
      },
      "source": [
        "#####*Boolean (bool):*\n",
        "\n"
      ]
    },
    {
      "cell_type": "code",
      "metadata": {
        "id": "vhBiJRITp5Gy",
        "colab_type": "code",
        "colab": {
          "base_uri": "https://localhost:8080/",
          "height": 35
        },
        "outputId": "8b2664d2-47cd-4364-9aa7-dc47691aa9e1"
      },
      "source": [
        "# Boolean (bool) - Bool is used to test whether the result of an expression is true or false. See the examples below:\n",
        "\n",
        "True\n",
        "False\n"
      ],
      "execution_count": 5,
      "outputs": [
        {
          "output_type": "execute_result",
          "data": {
            "text/plain": [
              "False"
            ]
          },
          "metadata": {
            "tags": []
          },
          "execution_count": 5
        }
      ]
    },
    {
      "cell_type": "markdown",
      "metadata": {
        "colab_type": "text",
        "id": "iVGu2onvsisL"
      },
      "source": [
        "#####*How do you find the type of an expression in Python?*\n",
        "\n"
      ]
    },
    {
      "cell_type": "code",
      "metadata": {
        "id": "muNk8k5Nst0Z",
        "colab_type": "code",
        "colab": {}
      },
      "source": [
        "# You can get Python to tell you the type of an expression by using the built-in type() function. See some examples below:\n"
      ],
      "execution_count": 0,
      "outputs": []
    },
    {
      "cell_type": "code",
      "metadata": {
        "id": "p2q-SIv8tHd-",
        "colab_type": "code",
        "colab": {
          "base_uri": "https://localhost:8080/",
          "height": 35
        },
        "outputId": "fa447e67-77b6-48d0-de0b-7da82d71fa58"
      },
      "source": [
        "# Type of 'Hello, World'\n",
        "type('Hello, World')"
      ],
      "execution_count": 9,
      "outputs": [
        {
          "output_type": "execute_result",
          "data": {
            "text/plain": [
              "str"
            ]
          },
          "metadata": {
            "tags": []
          },
          "execution_count": 9
        }
      ]
    },
    {
      "cell_type": "code",
      "metadata": {
        "id": "LxcsTZHltBrS",
        "colab_type": "code",
        "colab": {
          "base_uri": "https://localhost:8080/",
          "height": 35
        },
        "outputId": "d21d1120-292c-4fec-f2cf-12e89f87788d"
      },
      "source": [
        "# Type of 2\n",
        "type(2)"
      ],
      "execution_count": 6,
      "outputs": [
        {
          "output_type": "execute_result",
          "data": {
            "text/plain": [
              "int"
            ]
          },
          "metadata": {
            "tags": []
          },
          "execution_count": 6
        }
      ]
    },
    {
      "cell_type": "code",
      "metadata": {
        "id": "zyyxIcewtE8p",
        "colab_type": "code",
        "colab": {
          "base_uri": "https://localhost:8080/",
          "height": 35
        },
        "outputId": "9ca81ff2-8ca6-4b42-c519-73135828c2e9"
      },
      "source": [
        "# Type of 2.0\n",
        "type(2.0)"
      ],
      "execution_count": 8,
      "outputs": [
        {
          "output_type": "execute_result",
          "data": {
            "text/plain": [
              "float"
            ]
          },
          "metadata": {
            "tags": []
          },
          "execution_count": 8
        }
      ]
    },
    {
      "cell_type": "code",
      "metadata": {
        "id": "cPQ-9rsLtQt9",
        "colab_type": "code",
        "colab": {
          "base_uri": "https://localhost:8080/",
          "height": 35
        },
        "outputId": "f9460feb-62b2-40cb-d828-84dda741b7e7"
      },
      "source": [
        "# Type of True\n",
        "type(True)"
      ],
      "execution_count": 10,
      "outputs": [
        {
          "output_type": "execute_result",
          "data": {
            "text/plain": [
              "bool"
            ]
          },
          "metadata": {
            "tags": []
          },
          "execution_count": 10
        }
      ]
    },
    {
      "cell_type": "markdown",
      "metadata": {
        "colab_type": "text",
        "id": "0zUN5c5AtsCl"
      },
      "source": [
        "#####*How to convert from one object type to a different object type?*\n",
        "\n"
      ]
    },
    {
      "cell_type": "code",
      "metadata": {
        "colab_type": "code",
        "id": "dPthrZtJuDX9",
        "colab": {}
      },
      "source": [
        "# You can get Python to convert to you the type of an expression. See some examples below:\n"
      ],
      "execution_count": 0,
      "outputs": []
    },
    {
      "cell_type": "code",
      "metadata": {
        "id": "ovSstlIytdfe",
        "colab_type": "code",
        "colab": {
          "base_uri": "https://localhost:8080/",
          "height": 35
        },
        "outputId": "54bbcf21-e4b7-4b5b-dd44-33b87e56230c"
      },
      "source": [
        "# Convert 2.0 to an int\n",
        "\n",
        "int(2.0)"
      ],
      "execution_count": 11,
      "outputs": [
        {
          "output_type": "execute_result",
          "data": {
            "text/plain": [
              "2"
            ]
          },
          "metadata": {
            "tags": []
          },
          "execution_count": 11
        }
      ]
    },
    {
      "cell_type": "code",
      "metadata": {
        "id": "HmUQvrqNt8rD",
        "colab_type": "code",
        "colab": {
          "base_uri": "https://localhost:8080/",
          "height": 35
        },
        "outputId": "547483f7-17ca-486a-fa30-7e9449f47a06"
      },
      "source": [
        "# Convert 2 to a float\n",
        "\n",
        "float(2)"
      ],
      "execution_count": 12,
      "outputs": [
        {
          "output_type": "execute_result",
          "data": {
            "text/plain": [
              "2.0"
            ]
          },
          "metadata": {
            "tags": []
          },
          "execution_count": 12
        }
      ]
    },
    {
      "cell_type": "code",
      "metadata": {
        "id": "gpl5Bwint_0g",
        "colab_type": "code",
        "colab": {
          "base_uri": "https://localhost:8080/",
          "height": 35
        },
        "outputId": "b9e83897-1ea6-4df2-9da1-e31961f72101"
      },
      "source": [
        "# Convert a string into an integer\n",
        "\n",
        "int('2')"
      ],
      "execution_count": 13,
      "outputs": [
        {
          "output_type": "execute_result",
          "data": {
            "text/plain": [
              "2"
            ]
          },
          "metadata": {
            "tags": []
          },
          "execution_count": 13
        }
      ]
    },
    {
      "cell_type": "code",
      "metadata": {
        "id": "a_q4krGIuQm_",
        "colab_type": "code",
        "colab": {
          "base_uri": "https://localhost:8080/",
          "height": 35
        },
        "outputId": "bdb53ab7-cfda-4b5b-b9b3-732ee3ec278c"
      },
      "source": [
        "# Convert the string \"0.5\" into a float\n",
        "\n",
        "float('0.5')"
      ],
      "execution_count": 14,
      "outputs": [
        {
          "output_type": "execute_result",
          "data": {
            "text/plain": [
              "0.5"
            ]
          },
          "metadata": {
            "tags": []
          },
          "execution_count": 14
        }
      ]
    },
    {
      "cell_type": "code",
      "metadata": {
        "id": "1_T9clOruXPG",
        "colab_type": "code",
        "colab": {
          "base_uri": "https://localhost:8080/",
          "height": 35
        },
        "outputId": "df445056-fe01-4681-eff7-dbe9a6030149"
      },
      "source": [
        "# Convert an integer to a string\n",
        "\n",
        "str(2)"
      ],
      "execution_count": 15,
      "outputs": [
        {
          "output_type": "execute_result",
          "data": {
            "text/plain": [
              "'2'"
            ]
          },
          "metadata": {
            "tags": []
          },
          "execution_count": 15
        }
      ]
    },
    {
      "cell_type": "code",
      "metadata": {
        "id": "jdehAldlueGe",
        "colab_type": "code",
        "colab": {
          "base_uri": "https://localhost:8080/",
          "height": 35
        },
        "outputId": "c0f67d08-2e53-4620-8f8c-2dd9e681c127"
      },
      "source": [
        "# Convert a float to a string\n",
        "\n",
        "str(0.5)"
      ],
      "execution_count": 16,
      "outputs": [
        {
          "output_type": "execute_result",
          "data": {
            "text/plain": [
              "'0.5'"
            ]
          },
          "metadata": {
            "tags": []
          },
          "execution_count": 16
        }
      ]
    },
    {
      "cell_type": "markdown",
      "metadata": {
        "colab_type": "text",
        "id": "oPefFBxEvWgF"
      },
      "source": [
        "#####*Convertions are applicable for Boolean expressions?*\n",
        "\n"
      ]
    },
    {
      "cell_type": "code",
      "metadata": {
        "id": "f1-rs2GBumX9",
        "colab_type": "code",
        "colab": {}
      },
      "source": [
        "# YES. But please note: If we would like to change a boolean with a value of True to an integer or float we will get a one. If we would like to change a boolean with a value of False to an integer or float we will get a zero. Similarly, if we change a 1 to a Boolean, you get a True. And if we change a 0 to a Boolean we will get a False. See some examples below:"
      ],
      "execution_count": 0,
      "outputs": []
    },
    {
      "cell_type": "code",
      "metadata": {
        "id": "p9rotYkBvMtU",
        "colab_type": "code",
        "colab": {
          "base_uri": "https://localhost:8080/",
          "height": 35
        },
        "outputId": "1b357e31-2806-41b5-8666-4862c8c4d586"
      },
      "source": [
        "# Convert True to int\n",
        "\n",
        "int(True)"
      ],
      "execution_count": 19,
      "outputs": [
        {
          "output_type": "execute_result",
          "data": {
            "text/plain": [
              "1"
            ]
          },
          "metadata": {
            "tags": []
          },
          "execution_count": 19
        }
      ]
    },
    {
      "cell_type": "code",
      "metadata": {
        "id": "syMj69ayvrbh",
        "colab_type": "code",
        "colab": {
          "base_uri": "https://localhost:8080/",
          "height": 35
        },
        "outputId": "734be583-0c82-4bf6-e576-2a52594f6246"
      },
      "source": [
        "# Convert 1 to boolean\n",
        "\n",
        "bool(1)"
      ],
      "execution_count": 20,
      "outputs": [
        {
          "output_type": "execute_result",
          "data": {
            "text/plain": [
              "True"
            ]
          },
          "metadata": {
            "tags": []
          },
          "execution_count": 20
        }
      ]
    },
    {
      "cell_type": "code",
      "metadata": {
        "id": "h316QKufvts6",
        "colab_type": "code",
        "colab": {
          "base_uri": "https://localhost:8080/",
          "height": 35
        },
        "outputId": "e7a85e4e-3980-455c-bfc6-2a183330a9b8"
      },
      "source": [
        "# Convert 0 to boolean\n",
        "\n",
        "bool(0)"
      ],
      "execution_count": 21,
      "outputs": [
        {
          "output_type": "execute_result",
          "data": {
            "text/plain": [
              "False"
            ]
          },
          "metadata": {
            "tags": []
          },
          "execution_count": 21
        }
      ]
    },
    {
      "cell_type": "code",
      "metadata": {
        "id": "RscQmXMZvvzH",
        "colab_type": "code",
        "colab": {
          "base_uri": "https://localhost:8080/",
          "height": 35
        },
        "outputId": "375cc779-ccbc-434c-9e55-3cdee8c87ebd"
      },
      "source": [
        "# Convert True to float\n",
        "\n",
        "float(True)"
      ],
      "execution_count": 22,
      "outputs": [
        {
          "output_type": "execute_result",
          "data": {
            "text/plain": [
              "1.0"
            ]
          },
          "metadata": {
            "tags": []
          },
          "execution_count": 22
        }
      ]
    },
    {
      "cell_type": "code",
      "metadata": {
        "id": "rCrxTLEvvxuI",
        "colab_type": "code",
        "colab": {}
      },
      "source": [
        "# This is the end of this Notebbok with some examples of the most common expression Types."
      ],
      "execution_count": 0,
      "outputs": []
    },
    {
      "cell_type": "markdown",
      "metadata": {
        "id": "XZFNsgr81ZgR",
        "colab_type": "text"
      },
      "source": [
        "Feel free to use and share at any time!\n",
        "\n",
        "Rgds,\n",
        "####**L.V.**"
      ]
    }
  ]
}