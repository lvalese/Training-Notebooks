{
  "nbformat": 4,
  "nbformat_minor": 0,
  "metadata": {
    "colab": {
      "name": "Types.ipynb",
      "provenance": [],
      "collapsed_sections": [],
      "toc_visible": true,
      "authorship_tag": "ABX9TyMRppbOK4VEJIMwBuRpDNW7",
      "include_colab_link": true
    },
    "kernelspec": {
      "name": "python3",
      "display_name": "Python 3"
    }
  },
  "cells": [
    {
      "cell_type": "markdown",
      "metadata": {
        "id": "view-in-github",
        "colab_type": "text"
      },
      "source": [
        "<a href=\"https://colab.research.google.com/github/lvalese/Training-Notebooks/blob/master/Types.ipynb\" target=\"_parent\"><img src=\"https://colab.research.google.com/assets/colab-badge.svg\" alt=\"Open In Colab\"/></a>"
      ]
    },
    {
      "cell_type": "markdown",
      "metadata": {
        "id": "IhU3_VbIlTyX",
        "colab_type": "text"
      },
      "source": [
        "## Types in Python\n",
        "There are many different types of objects in Python.\n",
        "\n",
        "\n",
        "The most common TYPES used in Python are:\n",
        "\n",
        "---\n",
        "\n",
        "* `Str`   Strings\n",
        "* `Int`   Integers\n",
        "* `Float` Floats\n",
        "* `Bool`  Boolean"
      ]
    },
    {
      "cell_type": "markdown",
      "metadata": {
        "id": "z93BRlHuwarM",
        "colab_type": "text"
      },
      "source": [
        "#####*Strings (Str):*\n",
        "\n"
      ]
    },
    {
      "cell_type": "code",
      "metadata": {
        "id": "MDTc2_jEw9Ql",
        "colab_type": "code",
        "outputId": "9d695053-3b9b-47de-8b2f-471361899ab1",
        "colab": {
          "base_uri": "https://localhost:8080/",
          "height": 35
        }
      },
      "source": [
        "# Strings(Str) - Anytime you write text in Python, you're using character strings. See some examples below:\n",
        "\n",
        "\"Hello, World\"\n",
        "\"My name is Leonardo\"\n",
        "\"The best soccer club in the world is Palmeiras\"\n",
        "\"Good studies to all\""
      ],
      "execution_count": 2,
      "outputs": [
        {
          "output_type": "execute_result",
          "data": {
            "text/plain": [
              "'Good studies to all'"
            ]
          },
          "metadata": {
            "tags": []
          },
          "execution_count": 2
        }
      ]
    },
    {
      "cell_type": "markdown",
      "metadata": {
        "colab_type": "text",
        "id": "1GG6Wn32n4km"
      },
      "source": [
        "#####*Integers (Int):*\n",
        "\n"
      ]
    },
    {
      "cell_type": "code",
      "metadata": {
        "id": "5VwTWI-3nr6_",
        "colab_type": "code",
        "colab": {
          "base_uri": "https://localhost:8080/",
          "height": 35
        },
        "outputId": "4f0a0a38-81cc-4dec-aa17-66191971de45"
      },
      "source": [
        "# Integers (Int) - Anytime you write a positive or negative whole numbers with no decimal point, you're using integers type. See some examples below:\n",
        "\n",
        "-2\n",
        "0\n",
        "2\n"
      ],
      "execution_count": 3,
      "outputs": [
        {
          "output_type": "execute_result",
          "data": {
            "text/plain": [
              "2"
            ]
          },
          "metadata": {
            "tags": []
          },
          "execution_count": 3
        }
      ]
    },
    {
      "cell_type": "markdown",
      "metadata": {
        "colab_type": "text",
        "id": "5P7rhki6pYdO"
      },
      "source": [
        "#####*Float (float):*\n",
        "\n"
      ]
    },
    {
      "cell_type": "code",
      "metadata": {
        "id": "ML8x2LoOpUlw",
        "colab_type": "code",
        "colab": {
          "base_uri": "https://localhost:8080/",
          "height": 35
        },
        "outputId": "2fb3f5bd-b378-4297-b74b-ce45544cc592"
      },
      "source": [
        "# Floats (float) - They represent real numbers and are written with a decimal point dividing the integer and fractional parts. See some examples below:\n",
        "\n",
        "-2.0\n",
        "1.0\n",
        "0.5"
      ],
      "execution_count": 4,
      "outputs": [
        {
          "output_type": "execute_result",
          "data": {
            "text/plain": [
              "0.5"
            ]
          },
          "metadata": {
            "tags": []
          },
          "execution_count": 4
        }
      ]
    },
    {
      "cell_type": "markdown",
      "metadata": {
        "colab_type": "text",
        "id": "O6-b0t40qGR-"
      },
      "source": [
        "#####*Boolean (bool):*\n",
        "\n"
      ]
    },
    {
      "cell_type": "code",
      "metadata": {
        "id": "vhBiJRITp5Gy",
        "colab_type": "code",
        "colab": {
          "base_uri": "https://localhost:8080/",
          "height": 35
        },
        "outputId": "8b2664d2-47cd-4364-9aa7-dc47691aa9e1"
      },
      "source": [
        "# Boolean (bool) - Bool is used to test whether the result of an expression is true or false. See the examples below:\n",
        "\n",
        "True\n",
        "False\n"
      ],
      "execution_count": 5,
      "outputs": [
        {
          "output_type": "execute_result",
          "data": {
            "text/plain": [
              "False"
            ]
          },
          "metadata": {
            "tags": []
          },
          "execution_count": 5
        }
      ]
    }
  ]
}