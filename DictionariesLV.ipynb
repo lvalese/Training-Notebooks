{
  "nbformat": 4,
  "nbformat_minor": 0,
  "metadata": {
    "colab": {
      "name": "DictionariesLV.ipynb",
      "provenance": [],
      "collapsed_sections": [],
      "authorship_tag": "ABX9TyNjCt5k3ze3uzH+3X17Qz1D",
      "include_colab_link": true
    },
    "kernelspec": {
      "name": "python3",
      "display_name": "Python 3"
    }
  },
  "cells": [
    {
      "cell_type": "markdown",
      "metadata": {
        "id": "view-in-github",
        "colab_type": "text"
      },
      "source": [
        "<a href=\"https://colab.research.google.com/github/lvalese/Training-Notebooks/blob/master/DictionariesLV.ipynb\" target=\"_parent\"><img src=\"https://colab.research.google.com/assets/colab-badge.svg\" alt=\"Open In Colab\"/></a>"
      ]
    },
    {
      "cell_type": "markdown",
      "metadata": {
        "id": "IhU3_VbIlTyX",
        "colab_type": "text"
      },
      "source": [
        "## Dictionaries in Python\n",
        "Unlike sequences, which are indexed by a range of numbers, dictionaries are indexed by keys, which can be any immutable type; strings and numbers can always be keys. Tuples can be used as keys if they contain only strings, numbers, or tuples.\n",
        "\n",
        "---\n"
      ]
    },
    {
      "cell_type": "code",
      "metadata": {
        "id": "fCAqPXfcFAT8",
        "colab_type": "code",
        "colab": {
          "base_uri": "https://localhost:8080/",
          "height": 33
        },
        "outputId": "c2b5373e-46b1-4455-a64f-6a0a46638586"
      },
      "source": [
        "# Creation of a dictionary\n",
        "\n",
        "year_of_foundation = {\"Palmeiras\": \"1914\", \"Flamengo\": \"1895\", \"Cruzeiro\": \"1921\", \"Bahia\": \"1931\"}\n",
        "year_of_foundation"
      ],
      "execution_count": 2,
      "outputs": [
        {
          "output_type": "execute_result",
          "data": {
            "text/plain": [
              "{'Bahia': '1931', 'Cruzeiro': '1921', 'Flamengo': '1895', 'Palmeiras': '1914'}"
            ]
          },
          "metadata": {
            "tags": []
          },
          "execution_count": 2
        }
      ]
    },
    {
      "cell_type": "markdown",
      "metadata": {
        "id": "sIaVdtZLGX3B",
        "colab_type": "text"
      },
      "source": [
        "In summary, like a list, a dictionary holds a sequence of elements. Each element is represented by a key and its corresponding value. Dictionaries are created with two curly braces containing keys and values separated by a colon. For every key, there can only be one single value, however, multiple keys can hold the same value. Keys can only be strings, numbers, or tuples, but values can be any data type."
      ]
    },
    {
      "cell_type": "code",
      "metadata": {
        "id": "0RM1jpDHFowk",
        "colab_type": "code",
        "colab": {
          "base_uri": "https://localhost:8080/",
          "height": 33
        },
        "outputId": "dd8b0d1e-8796-4c5b-cae5-4e84c1d9a4ce"
      },
      "source": [
        "# We can get value by keys\n",
        "\n",
        "year_of_foundation [\"Bahia\"] "
      ],
      "execution_count": 3,
      "outputs": [
        {
          "output_type": "execute_result",
          "data": {
            "text/plain": [
              "'1931'"
            ]
          },
          "metadata": {
            "tags": []
          },
          "execution_count": 3
        }
      ]
    },
    {
      "cell_type": "code",
      "metadata": {
        "id": "h-YA3aNMGZm7",
        "colab_type": "code",
        "colab": {
          "base_uri": "https://localhost:8080/",
          "height": 33
        },
        "outputId": "e11e23ba-e129-4e8e-9887-9cd2ea553100"
      },
      "source": [
        "# We can get all the keys of an specific dictionary\n",
        "\n",
        "year_of_foundation.keys() "
      ],
      "execution_count": 4,
      "outputs": [
        {
          "output_type": "execute_result",
          "data": {
            "text/plain": [
              "dict_keys(['Palmeiras', 'Flamengo', 'Cruzeiro', 'Bahia'])"
            ]
          },
          "metadata": {
            "tags": []
          },
          "execution_count": 4
        }
      ]
    },
    {
      "cell_type": "code",
      "metadata": {
        "id": "yO6Hqww_G2Jr",
        "colab_type": "code",
        "colab": {
          "base_uri": "https://localhost:8080/",
          "height": 100
        },
        "outputId": "daf10d9b-8331-4ab3-c003-b42cedac60b0"
      },
      "source": [
        "# We can append value with key into dictionary\n",
        "\n",
        "year_of_foundation [\"Gremio\"] = \"1903\"\n",
        "year_of_foundation"
      ],
      "execution_count": 5,
      "outputs": [
        {
          "output_type": "execute_result",
          "data": {
            "text/plain": [
              "{'Bahia': '1931',\n",
              " 'Cruzeiro': '1921',\n",
              " 'Flamengo': '1895',\n",
              " 'Gremio': '1903',\n",
              " 'Palmeiras': '1914'}"
            ]
          },
          "metadata": {
            "tags": []
          },
          "execution_count": 5
        }
      ]
    },
    {
      "cell_type": "code",
      "metadata": {
        "id": "1qUO4GF1HHgH",
        "colab_type": "code",
        "colab": {
          "base_uri": "https://localhost:8080/",
          "height": 33
        },
        "outputId": "8f902f03-256f-4f1b-e101-2b6bff7ea36b"
      },
      "source": [
        "# We can delete entries by key\n",
        "\n",
        "del(year_of_foundation [\"Cruzeiro\"])\n",
        "year_of_foundation"
      ],
      "execution_count": 6,
      "outputs": [
        {
          "output_type": "execute_result",
          "data": {
            "text/plain": [
              "{'Bahia': '1931', 'Flamengo': '1895', 'Gremio': '1903', 'Palmeiras': '1914'}"
            ]
          },
          "metadata": {
            "tags": []
          },
          "execution_count": 6
        }
      ]
    },
    {
      "cell_type": "code",
      "metadata": {
        "id": "7YE-UHzEHZW4",
        "colab_type": "code",
        "colab": {
          "base_uri": "https://localhost:8080/",
          "height": 33
        },
        "outputId": "bea91949-312c-48f9-c98e-6548fa60e479"
      },
      "source": [
        "# We can verify if an specific key is in the dictionary\n",
        "\n",
        "\"Palmeiras\" in year_of_foundation"
      ],
      "execution_count": 7,
      "outputs": [
        {
          "output_type": "execute_result",
          "data": {
            "text/plain": [
              "True"
            ]
          },
          "metadata": {
            "tags": []
          },
          "execution_count": 7
        }
      ]
    },
    {
      "cell_type": "code",
      "metadata": {
        "id": "37t9zLN6Hma0",
        "colab_type": "code",
        "colab": {
          "base_uri": "https://localhost:8080/",
          "height": 33
        },
        "outputId": "e19c99c7-5ab5-4cde-ca39-bb8dfdaf1e20"
      },
      "source": [
        "# We can verify if an specific key is in the dictionary. See below, that the Key we have deleted, is not anymore in the Dictionarie.\n",
        "\n",
        "\"Cruzeiro\" in year_of_foundation"
      ],
      "execution_count": 8,
      "outputs": [
        {
          "output_type": "execute_result",
          "data": {
            "text/plain": [
              "False"
            ]
          },
          "metadata": {
            "tags": []
          },
          "execution_count": 8
        }
      ]
    },
    {
      "cell_type": "code",
      "metadata": {
        "id": "UwK1b4x-HrRD",
        "colab_type": "code",
        "colab": {}
      },
      "source": [
        "# This is the end of this Notebook with some examples of the most common expression Types."
      ],
      "execution_count": 0,
      "outputs": []
    },
    {
      "cell_type": "markdown",
      "metadata": {
        "id": "XZFNsgr81ZgR",
        "colab_type": "text"
      },
      "source": [
        "Feel free to use and share at any time!\n",
        "\n",
        "Rgds,\n",
        "####**L.V.**"
      ]
    }
  ]
}