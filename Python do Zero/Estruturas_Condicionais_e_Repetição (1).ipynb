{
  "nbformat": 4,
  "nbformat_minor": 0,
  "metadata": {
    "colab": {
      "name": "Estruturas Condicionais e Repetição",
      "provenance": [],
      "collapsed_sections": []
    },
    "kernelspec": {
      "name": "python3",
      "display_name": "Python 3"
    }
  },
  "cells": [
    {
      "cell_type": "markdown",
      "metadata": {
        "id": "sZ5OjtVEoFUF"
      },
      "source": [
        "<img alt=\"Colaboratory logo\" width=\"15%\" src=\"https://raw.githubusercontent.com/carlosfab/escola-data-science/master/img/novo_logo_bg_claro.png\">\n",
        "\n",
        "#### **Python do Zero**\n",
        "*by [sigmoidal.ai](https://sigmoidal.ai)*\n",
        "\n",
        "---\n",
        "\n",
        "## Estruturas Condicionais e de Repetição\n",
        "\n",
        "\n",
        "<center><img width=\"45%\" src=\"https://github.com/rafaelnduarte/sigmoidal_data/blob/master/loops.png?raw=true\"></center>\n",
        "\n",
        "\n",
        "Nesta aula, você irá aprender algumas das principais estruturas lógicas e de repetição, que irão agregar muitas funcionalidades para o seu código.\n",
        "\n",
        "Obviamente, as estruturas existentes são bem mais extensas que as apresentadas aqui. Porém, aqui você terá uma visão geral daquelas que fazem mais sentido neste momento, com foco sempre no curso Data Science na Prática.\n",
        "\n",
        "É importante ressaltar que a identação é muito importante aqui, pois podemos encontrar erros simplesmente por não ter feito a identação corretamente. Portanto, muita atenção ao criar essas estruturas."
      ]
    },
    {
      "cell_type": "markdown",
      "metadata": {
        "id": "mbfYlMXJoV-f"
      },
      "source": [
        "### If Statement\n",
        "\n",
        "O `if` , que significa \"se\", faz uma análise baseada em condições. Pode rodar ou pular frações de códigos, dependendo se a condição recebe um `True` ou `False`."
      ]
    },
    {
      "cell_type": "code",
      "metadata": {
        "id": "m7c_LRMxpCdB",
        "outputId": "3f0874b7-9ab6-4b46-9ef4-a981d0a98c03",
        "colab": {
          "base_uri": "https://localhost:8080/",
          "height": 35
        }
      },
      "source": [
        "# associando a idade\n",
        "carlos = 35\n",
        "\n",
        "# criando a condição\n",
        "if carlos >= 18:\n",
        "    print(\"Pode comprar bebida.\")\n",
        "else:\n",
        "    print(\"Não pode comprar bebida.\")"
      ],
      "execution_count": null,
      "outputs": [
        {
          "output_type": "stream",
          "text": [
            "Pode comprar bebida.\n"
          ],
          "name": "stdout"
        }
      ]
    },
    {
      "cell_type": "code",
      "metadata": {
        "id": "0Bn4A19GpcL3",
        "outputId": "cbbeb0b6-6bf3-444d-fa55-40e53e940845",
        "colab": {
          "base_uri": "https://localhost:8080/",
          "height": 35
        }
      },
      "source": [
        "# associando a idade\n",
        "pedro = 17\n",
        "\n",
        "# criando a condição\n",
        "if pedro >= 18:\n",
        "    print(\"Pode comprar bebida.\")\n",
        "else:\n",
        "    print(\"Não pode comprar bebida.\")"
      ],
      "execution_count": null,
      "outputs": [
        {
          "output_type": "stream",
          "text": [
            "Não pode comprar bebida.\n"
          ],
          "name": "stdout"
        }
      ]
    },
    {
      "cell_type": "code",
      "metadata": {
        "id": "iTFHgrTvpeyU",
        "outputId": "2ff960b4-acab-4a50-b6b2-c4b13d6b7af2",
        "colab": {
          "base_uri": "https://localhost:8080/",
          "height": 35
        }
      },
      "source": [
        "# criando variáveis\n",
        "carlos_idade = 35\n",
        "carlos_cnh = True\n",
        "carlos_pontos_cnh = 16\n",
        "\n",
        "# criando a condição\n",
        "if carlos_idade >= 18 and carlos_cnh and carlos_pontos_cnh < 20:\n",
        "    print(\"Pode alugar carro!\")\n",
        "else:\n",
        "    print(\"Não pode alugar carro.\")"
      ],
      "execution_count": null,
      "outputs": [
        {
          "output_type": "stream",
          "text": [
            "Pode alugar carro!\n"
          ],
          "name": "stdout"
        }
      ]
    },
    {
      "cell_type": "code",
      "metadata": {
        "id": "VnwUp9F9qSXZ",
        "outputId": "b7f17da3-97ea-4872-d5c1-09629c02cc21",
        "colab": {
          "base_uri": "https://localhost:8080/",
          "height": 52
        }
      },
      "source": [
        "# criando variáveis\n",
        "saldo = 100.00\n",
        "compra_efetuada = 25.90\n",
        "\n",
        "# criando condição\n",
        "print(\"Saldo Inicial:\", saldo)\n",
        "if compra_efetuada:\n",
        "    saldo = saldo - compra_efetuada\n",
        "    print(\"Saldo Atual:\", saldo)"
      ],
      "execution_count": null,
      "outputs": [
        {
          "output_type": "stream",
          "text": [
            "Saldo Inicial: 100.0\n",
            "Saldo Atual: 74.1\n"
          ],
          "name": "stdout"
        }
      ]
    },
    {
      "cell_type": "markdown",
      "metadata": {
        "id": "yjmePENrrSmt"
      },
      "source": [
        "### For Loops\n",
        "\n",
        "Permite que você **repita** pedaços de códigos, evitando que você tenha que repetir códigos manualmente. O `For` permite que você execute uma determinada ação **até que** uma determinada condição tenha sido atingida.\n",
        "\n",
        "<center><img width=\"45%\" src=\"https://www.thoughtco.com/thmb/vydcEQSm6eJeuNKYYy5EtViCtQw=/3429x2572/smart/filters:no_upscale()/Getty_repetition-183814724-58b9a3843df78c353c11806d.jpg\"></center>\n",
        "\n"
      ]
    },
    {
      "cell_type": "code",
      "metadata": {
        "id": "VcHnzvgJr1qO",
        "outputId": "08b1fdfe-3309-4dd4-e223-e170746117e2",
        "colab": {
          "base_uri": "https://localhost:8080/",
          "height": 193
        }
      },
      "source": [
        "import time\n",
        "\n",
        "# listando números no range 10\n",
        "for n in range(10):\n",
        "    print(n)\n",
        "    time.sleep(1)"
      ],
      "execution_count": null,
      "outputs": [
        {
          "output_type": "stream",
          "text": [
            "0\n",
            "1\n",
            "2\n",
            "3\n",
            "4\n",
            "5\n",
            "6\n",
            "7\n",
            "8\n",
            "9\n"
          ],
          "name": "stdout"
        }
      ]
    },
    {
      "cell_type": "code",
      "metadata": {
        "id": "6UDVWn7erUKD",
        "outputId": "44c3d93e-ce9c-4dfb-cc6d-9cb3a638e1d3",
        "colab": {
          "base_uri": "https://localhost:8080/",
          "height": 87
        }
      },
      "source": [
        "# listando convidados na lista, enquanto houverem convidados\n",
        "lista_convidados = [\"Carlos\", \"Fernanda\", \"Theo\", \"Snow\"]\n",
        "\n",
        "for a in lista_convidados:\n",
        "    print(a)\n",
        "    time.sleep(1)"
      ],
      "execution_count": null,
      "outputs": [
        {
          "output_type": "stream",
          "text": [
            "Carlos\n",
            "Fernanda\n",
            "Theo\n",
            "Snow\n"
          ],
          "name": "stdout"
        }
      ]
    },
    {
      "cell_type": "code",
      "metadata": {
        "id": "I4meWtCjsEXA",
        "outputId": "c3897dd1-0c15-4972-f2eb-c3e9a457d835",
        "colab": {
          "base_uri": "https://localhost:8080/",
          "height": 210
        }
      },
      "source": [
        "# multiplicando números dentro do range\n",
        "for i in range(11):\n",
        "    resultado = i * 9\n",
        "    print(\"9 x\", i, \"=\", resultado)"
      ],
      "execution_count": null,
      "outputs": [
        {
          "output_type": "stream",
          "text": [
            "9 x 0 = 0\n",
            "9 x 1 = 9\n",
            "9 x 2 = 18\n",
            "9 x 3 = 27\n",
            "9 x 4 = 36\n",
            "9 x 5 = 45\n",
            "9 x 6 = 54\n",
            "9 x 7 = 63\n",
            "9 x 8 = 72\n",
            "9 x 9 = 81\n",
            "9 x 10 = 90\n"
          ],
          "name": "stdout"
        }
      ]
    },
    {
      "cell_type": "markdown",
      "metadata": {
        "id": "X-utqQV7sVFK"
      },
      "source": [
        "### While Loops\n",
        "\n",
        "Similar ao `for` *loop*, o `while` *loop* cria uma repetição em cima de determinada ação. No entanto, enquanto no *for* nós indicávamos a quantidade de vezes que determinada ação deveria ser executada, o *while* continua repetindo uma ação até que determinada condição de parada seja atingida."
      ]
    },
    {
      "cell_type": "code",
      "metadata": {
        "id": "CJ_NljR_tE_p",
        "outputId": "669b5d6a-3763-44dc-c069-8042be812a0c",
        "colab": {
          "base_uri": "https://localhost:8080/",
          "height": 52
        }
      },
      "source": [
        "saldo = 300.00\n",
        "preco_pizza = 80.50\n",
        "\n",
        "counter = 0\n",
        "while saldo >= preco_pizza:\n",
        "    counter = counter + 1  # 1 + 1\n",
        "    saldo = saldo - preco_pizza  # 300 - 80.50 -80.50\n",
        "\n",
        "print(\"Você comprou\", counter, \"pizzas!\")\n",
        "print(\"Saldo remanescente: R$\",saldo)"
      ],
      "execution_count": null,
      "outputs": [
        {
          "output_type": "stream",
          "text": [
            "Você comprou 3 pizzas!\n",
            "Saldo remanescente: R$ 58.5\n"
          ],
          "name": "stdout"
        }
      ]
    },
    {
      "cell_type": "code",
      "metadata": {
        "id": "6J9CfXKutysb",
        "outputId": "86777838-6834-429d-909a-7d377169bddc",
        "colab": {
          "base_uri": "https://localhost:8080/",
          "height": 210
        }
      },
      "source": [
        "validade_yakult = 10\n",
        "\n",
        "while validade_yakult > 0:\n",
        "    print(\"[+] Produto na validade. Faltam\", validade_yakult, \"dias.\")\n",
        "    validade_yakult = validade_yakult - 1\n",
        "\n",
        "print(\"[-] ATENÇÃO: Yogurt vencido. Faltam\", validade_yakult, \"dias.\")"
      ],
      "execution_count": null,
      "outputs": [
        {
          "output_type": "stream",
          "text": [
            "[+] Produto na validade. Faltam 10 dias.\n",
            "[+] Produto na validade. Faltam 9 dias.\n",
            "[+] Produto na validade. Faltam 8 dias.\n",
            "[+] Produto na validade. Faltam 7 dias.\n",
            "[+] Produto na validade. Faltam 6 dias.\n",
            "[+] Produto na validade. Faltam 5 dias.\n",
            "[+] Produto na validade. Faltam 4 dias.\n",
            "[+] Produto na validade. Faltam 3 dias.\n",
            "[+] Produto na validade. Faltam 2 dias.\n",
            "[+] Produto na validade. Faltam 1 dias.\n",
            "[-] ATENÇÃO: Yogurt vencido. Faltam 0 dias.\n"
          ],
          "name": "stdout"
        }
      ]
    },
    {
      "cell_type": "markdown",
      "metadata": {
        "id": "ObJ8s4032qQ_"
      },
      "source": [
        "## Exercícios\n",
        "Agora estamos prontos para colocar a mão na massa e criar algumas estruturas condicionais.\n",
        "\n",
        "<center><img width=\"45%\" src=\"https://l3leadership.org/wp-content/uploads/2017/01/repitition.jpg\"></center>"
      ]
    },
    {
      "cell_type": "markdown",
      "metadata": {
        "id": "v4NYJnMa467s"
      },
      "source": [
        "### Exercício 1\n",
        "Crie uma estrutura condicional para verificar se a pessoa pode alugar um carro."
      ]
    },
    {
      "cell_type": "code",
      "metadata": {
        "id": "CL0mJMXou1Pj"
      },
      "source": [
        "# resposta"
      ],
      "execution_count": null,
      "outputs": []
    },
    {
      "cell_type": "code",
      "metadata": {
        "id": "F5SWy7g75skL",
        "cellView": "form"
      },
      "source": [
        "#@title Solução\n",
        "idade= 25\n",
        "cnh = True\n",
        "\n",
        "if idade >= 21 & cnh == True:\n",
        "  print(\"Você pode alugar um carro.\")\n",
        "else:\n",
        "  print(\"Você não pode alugar um carro.\")"
      ],
      "execution_count": null,
      "outputs": []
    },
    {
      "cell_type": "markdown",
      "metadata": {
        "id": "7uzqD0Gg7U01"
      },
      "source": [
        "### Exercício 2\n",
        "Crie uma lista com 5 elementos, e crie uma estrutura condicional para listar todos os items da lista."
      ]
    },
    {
      "cell_type": "code",
      "metadata": {
        "id": "wWADidSy6hMx"
      },
      "source": [
        "# resposta"
      ],
      "execution_count": null,
      "outputs": []
    },
    {
      "cell_type": "code",
      "metadata": {
        "id": "UbaRLJVS98Ib",
        "cellView": "form"
      },
      "source": [
        "#@title Solução\n",
        "frutas = ['Banana', 'Laranja', 'Macã', 'Abacaxi', 'Morango']\n",
        "\n",
        "for i in frutas:\n",
        "  print(i)"
      ],
      "execution_count": null,
      "outputs": []
    },
    {
      "cell_type": "markdown",
      "metadata": {
        "id": "PQwcMhc2_afi"
      },
      "source": [
        "### Exercício 3\n",
        "Crie uma estrutura condicional para calcular os dias até o final do mês."
      ]
    },
    {
      "cell_type": "code",
      "metadata": {
        "id": "6tHJEBelwENf"
      },
      "source": [
        "# resposta"
      ],
      "execution_count": null,
      "outputs": []
    },
    {
      "cell_type": "code",
      "metadata": {
        "id": "iIB8Zjag_q3r",
        "cellView": "form"
      },
      "source": [
        "#@title Solução\n",
        "dia_mes = 30\n",
        "\n",
        "while dia_mes > 0:\n",
        "    print(\"Faltam\", dia_mes, \"dias.\")\n",
        "    dia_mes -= 1\n",
        "\n",
        "print(\"Fim do mês! Faltam\", dia_mes, \"dias.\")"
      ],
      "execution_count": null,
      "outputs": []
    },
    {
      "cell_type": "code",
      "metadata": {
        "id": "azptzq2QAm5X"
      },
      "source": [
        ""
      ],
      "execution_count": null,
      "outputs": []
    }
  ]
}