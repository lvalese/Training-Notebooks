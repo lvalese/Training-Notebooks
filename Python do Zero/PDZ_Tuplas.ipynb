{
  "nbformat": 4,
  "nbformat_minor": 0,
  "metadata": {
    "colab": {
      "name": "PDZ - Tuplas",
      "provenance": [],
      "collapsed_sections": []
    },
    "kernelspec": {
      "name": "python3",
      "display_name": "Python 3"
    }
  },
  "cells": [
    {
      "cell_type": "markdown",
      "metadata": {
        "id": "EO0cXXy93Aid"
      },
      "source": [
        "<img alt=\"Colaboratory logo\" width=\"15%\" src=\"https://raw.githubusercontent.com/carlosfab/escola-data-science/master/img/novo_logo_bg_claro.png\">\n",
        "\n",
        "#### **Python do Zero**\n",
        "*by [sigmoidal.ai](https://sigmoidal.ai)*\n",
        "\n",
        "---\n",
        "\n",
        "# Tuplas\n",
        "\n",
        "Tuplas são um outro tipo de estrutura, porém é uma estrutura voltada a sequência ordenada de itens imutáveis.\n",
        "\n",
        "<center><img width=\"45%\" src=\"https://image.freepik.com/free-vector/computer-coding-icons-set_1284-37673.jpg\"></center>\n",
        "\n",
        "Normalmente, são utilizadas para armazenar pedaços de informações que estejam relacionadas.\n",
        "\n",
        "Podem ser acessadas pelo índice, porém não podem ser mudadas. Ou seja, você não consegue alterar, adicionar ou remover itens delas."
      ]
    },
    {
      "cell_type": "code",
      "metadata": {
        "id": "MkugBG8j3iiA"
      },
      "source": [
        "# criando uma tupla\n",
        "teste = ()"
      ],
      "execution_count": null,
      "outputs": []
    },
    {
      "cell_type": "code",
      "metadata": {
        "id": "BcDid6np3kZv",
        "outputId": "2630cfdb-b37d-4fe6-efb1-5351d221cddd",
        "colab": {
          "base_uri": "https://localhost:8080/",
          "height": 35
        }
      },
      "source": [
        "# verificando o tipo\n",
        "type(teste)"
      ],
      "execution_count": null,
      "outputs": [
        {
          "output_type": "execute_result",
          "data": {
            "text/plain": [
              "tuple"
            ]
          },
          "metadata": {
            "tags": []
          },
          "execution_count": 4
        }
      ]
    },
    {
      "cell_type": "markdown",
      "metadata": {
        "id": "ucLboMzRrCAr"
      },
      "source": [
        "Ao criar uma tupla, precisamos levar em consideração que é necessário inserir uma vírgula, mesmo que o intuito seja criar uma lista com um único valor.\n",
        "\n",
        "Já que o Python também entende parênteses como operadores matemáticos, caso tentemos criar uma tupla com um valor sem a vírgula, o Python irá entendê-lo como um objeto do tipo `int`.\n",
        "\n",
        "Apesar dessa não ser uma operação comum, agora você saberá como proceder caso seja necessário."
      ]
    },
    {
      "cell_type": "code",
      "metadata": {
        "id": "WT0C8zfIrWZF",
        "outputId": "2c868e2b-f9d0-499c-bc66-8886f1c9b763",
        "colab": {
          "base_uri": "https://localhost:8080/",
          "height": 35
        }
      },
      "source": [
        "# tentando criar uma tupla sem vírgula\n",
        "t = (2)\n",
        "type(t)"
      ],
      "execution_count": null,
      "outputs": [
        {
          "output_type": "execute_result",
          "data": {
            "text/plain": [
              "int"
            ]
          },
          "metadata": {
            "tags": []
          },
          "execution_count": 5
        }
      ]
    },
    {
      "cell_type": "code",
      "metadata": {
        "id": "y5p-_WWWrWTq",
        "outputId": "1589b6fe-520d-4329-e03c-0f09c179b12f",
        "colab": {
          "base_uri": "https://localhost:8080/",
          "height": 35
        }
      },
      "source": [
        "# criando tupla de um valor, com a vírgula\n",
        "t = (2,)\n",
        "type(t)"
      ],
      "execution_count": null,
      "outputs": [
        {
          "output_type": "execute_result",
          "data": {
            "text/plain": [
              "tuple"
            ]
          },
          "metadata": {
            "tags": []
          },
          "execution_count": 8
        }
      ]
    },
    {
      "cell_type": "code",
      "metadata": {
        "id": "gs_Prmg63lBn",
        "outputId": "4b712053-84c9-478c-cc35-c1efe7dbda9c",
        "colab": {
          "base_uri": "https://localhost:8080/",
          "height": 35
        }
      },
      "source": [
        "# exemplos das dimensões de uma caixa\n",
        "caixa_sapato = (18, 28, 10)\n",
        "\n",
        "print(caixa_sapato)"
      ],
      "execution_count": null,
      "outputs": [
        {
          "output_type": "stream",
          "text": [
            "(18, 28, 10)\n"
          ],
          "name": "stdout"
        }
      ]
    },
    {
      "cell_type": "markdown",
      "metadata": {
        "id": "fakBYwPhpBH8"
      },
      "source": [
        "Também podemos associar variáveis a cada valor de uma tupla.\n",
        "\n",
        "Além disso, uma tupla pode ter quantos valores forem necessários."
      ]
    },
    {
      "cell_type": "code",
      "metadata": {
        "id": "8QTCwe3X3s02"
      },
      "source": [
        "# latitude e longitude de brasilia\n",
        "brasilia = (-15.77, -47.92)"
      ],
      "execution_count": null,
      "outputs": []
    },
    {
      "cell_type": "code",
      "metadata": {
        "id": "eTbFlzZo3-5W",
        "outputId": "65923c30-a077-41d8-aa96-42cb07f4d3f8",
        "colab": {
          "base_uri": "https://localhost:8080/",
          "height": 108
        }
      },
      "source": [
        "print(\"Latitude:\", lat)\n",
        "print(\"Longitude:\", lon)\n",
        "\n",
        "print(\"\\n\\n\", brasilia)"
      ],
      "execution_count": null,
      "outputs": [
        {
          "output_type": "stream",
          "text": [
            "Latitude: -15.77\n",
            "Longitude: -47.92\n",
            "\n",
            "\n",
            " (-15.77, -47.92)\n"
          ],
          "name": "stdout"
        }
      ]
    },
    {
      "cell_type": "markdown",
      "metadata": {
        "id": "K7IPoLy_p0zW"
      },
      "source": [
        "### Se tuplas são imutáveis, por que usá-las ao invés de listas?\n",
        "\n",
        "Pode parece estranho criarmos um objeto que não pode ser modificado, mas apesar dessa desvantagem em relação às listas, existem vantagens para o uso das tuplas, como por exemplo:\n",
        "\n",
        "* A execução de um programa é mais rápida ao maniuplar tuplas do que seu equivalente em formato de lista. De qualquer forma, isso não será perceptível caso sejam muito pequenas.\n",
        "* Às vezes nós **não queremos** que os dados sejam modificados. Se uma coleção de valores precisam se manter constantes por todo o ciclo do programa, usar tuplas ao invés de listas proporciona mais segurança contra modificação acidental.\n",
        "* Ao utilizar dicionários, podemos ter dentro deles tuplas, que serão imutáveis, carregando para os dicionários os benefícios do ponto anterior, quando comparamos com as listas."
      ]
    },
    {
      "cell_type": "markdown",
      "metadata": {
        "id": "SDyrNtn-pseJ"
      },
      "source": [
        "Apesar de sua imutabilidade, nós podemos acessá-las e explorá-las.\n",
        "\n",
        "Além disso, tuplas podem conter qualquer tipo de dados, como `int`, `float` e `string`.\n",
        "\n"
      ]
    },
    {
      "cell_type": "code",
      "metadata": {
        "id": "b8ODK6rfjdLG"
      },
      "source": [
        "coordenadas = {\n",
        "    \"Brasília\": (15.76, 47.92),\n",
        "    \"São Paulo\": (16.41, 46.75),\n",
        "    \"Araraquara\": (18.21, 47.21)\n",
        "}"
      ],
      "execution_count": null,
      "outputs": []
    },
    {
      "cell_type": "code",
      "metadata": {
        "id": "xNrswHFujsol",
        "outputId": "330c2920-a4b7-4ba5-e561-7a5b1b6948b2",
        "colab": {
          "base_uri": "https://localhost:8080/",
          "height": 35
        }
      },
      "source": [
        "type(coordenadas)"
      ],
      "execution_count": null,
      "outputs": [
        {
          "output_type": "execute_result",
          "data": {
            "text/plain": [
              "dict"
            ]
          },
          "metadata": {
            "tags": []
          },
          "execution_count": 26
        }
      ]
    },
    {
      "cell_type": "code",
      "metadata": {
        "id": "EMXISzOmj9S4",
        "outputId": "e2710f7b-0687-42c5-b20a-7825afd265be",
        "colab": {
          "base_uri": "https://localhost:8080/",
          "height": 35
        }
      },
      "source": [
        "type(coordenadas[\"Brasília\"])"
      ],
      "execution_count": null,
      "outputs": [
        {
          "output_type": "execute_result",
          "data": {
            "text/plain": [
              "tuple"
            ]
          },
          "metadata": {
            "tags": []
          },
          "execution_count": 27
        }
      ]
    },
    {
      "cell_type": "code",
      "metadata": {
        "id": "L8Pj0o3C4HO1",
        "outputId": "f5f3a638-20ff-4258-bad2-a84b37088872",
        "colab": {
          "base_uri": "https://localhost:8080/",
          "height": 35
        }
      },
      "source": [
        "# tupla de strings\n",
        "estados = ('Rio de Janeiro', 'São Paulo', 'Minas Gerais')\n",
        "type(estados)"
      ],
      "execution_count": null,
      "outputs": [
        {
          "output_type": "execute_result",
          "data": {
            "text/plain": [
              "tuple"
            ]
          },
          "metadata": {
            "tags": []
          },
          "execution_count": 32
        }
      ]
    },
    {
      "cell_type": "markdown",
      "metadata": {
        "id": "UzyFxcPGsEjt"
      },
      "source": [
        "Cada item dentro da tupla, possui um índice, que pode ser acessado."
      ]
    },
    {
      "cell_type": "code",
      "metadata": {
        "id": "4vVXgqRxr_Mx",
        "outputId": "b3afd12d-ef12-4199-b433-2495d46fae01",
        "colab": {
          "base_uri": "https://localhost:8080/",
          "height": 54
        }
      },
      "source": [
        "# acessando o primeiro item da tupla\n",
        "print(estados[0])\n",
        "\n",
        "# acessando o último item da tupla\n",
        "print(estados[-1])\n"
      ],
      "execution_count": null,
      "outputs": [
        {
          "output_type": "stream",
          "text": [
            "Rio de Janeiro\n",
            "Minas Gerais\n"
          ],
          "name": "stdout"
        }
      ]
    },
    {
      "cell_type": "markdown",
      "metadata": {
        "id": "CRvwbrJysr-U"
      },
      "source": [
        "## Exercícios\n",
        "Apesar de não poderem ser mudados, vamos praticar a criação e o acesso aos valores de uma tupla.\n",
        "\n",
        "<center><img width=\"45%\" src=\"https://image.freepik.com/free-photo/close-up-man-writing-code-laptop_158595-5169.jpg\"></center>\n"
      ]
    },
    {
      "cell_type": "markdown",
      "metadata": {
        "id": "5RChxzFtszz2"
      },
      "source": [
        "### Exercício 1\n",
        "Crie uma tupla com os nomes dos estados da sua região."
      ]
    },
    {
      "cell_type": "code",
      "metadata": {
        "id": "HmBWcCHpsP8i"
      },
      "source": [
        "# resposta\n"
      ],
      "execution_count": null,
      "outputs": []
    },
    {
      "cell_type": "code",
      "metadata": {
        "id": "oB5qoxSgspgK",
        "cellView": "form"
      },
      "source": [
        "#@title Solução\n",
        "centro_oeste = ('Distrito Federal', 'Goiás', 'Mato Grosso', 'Mato Grosso do Sul')\n",
        "type(centro_oeste)"
      ],
      "execution_count": null,
      "outputs": []
    },
    {
      "cell_type": "markdown",
      "metadata": {
        "id": "gVmmEs_ktodb"
      },
      "source": [
        "### Exercício 2\n",
        "Associe cada estado a uma variável e crie uma nova tupla, utilizando essas variáveis."
      ]
    },
    {
      "cell_type": "code",
      "metadata": {
        "id": "Z6zbisNfuG7m"
      },
      "source": [
        "# resposta\n"
      ],
      "execution_count": null,
      "outputs": []
    },
    {
      "cell_type": "code",
      "metadata": {
        "id": "ZZm7nzwWtk4D",
        "cellView": "form"
      },
      "source": [
        "#@title Solução\n",
        "centro_oeste = ('Distrito Federal', 'Goiás', 'Mato Grosso', 'Mato Grosso do Sul')\n",
        "df = centro_oeste[0]\n",
        "go = centro_oeste[1]\n",
        "mt = centro_oeste[2]\n",
        "ms = centro_oeste[3]\n",
        "co = (df,go,mt,ms)\n",
        "print(type(co))\n",
        "print(co)"
      ],
      "execution_count": null,
      "outputs": []
    },
    {
      "cell_type": "markdown",
      "metadata": {
        "id": "rhrPY7pquKXp"
      },
      "source": [
        "### Exercício 3\n",
        "Utilizando as tuplas criadas anteriormente, faça o que se pede em cada célula."
      ]
    },
    {
      "cell_type": "code",
      "metadata": {
        "id": "IT5iIPaNuAbz"
      },
      "source": [
        "# imprima o último item da tupla\n"
      ],
      "execution_count": null,
      "outputs": []
    },
    {
      "cell_type": "code",
      "metadata": {
        "id": "k6kP4ExxucSv"
      },
      "source": [
        "# imprima o item que se encontra no meio da tupla\n"
      ],
      "execution_count": null,
      "outputs": []
    },
    {
      "cell_type": "code",
      "metadata": {
        "id": "srcEJN-Uubml"
      },
      "source": [
        "# imprima os itens da tupla, pulando um\n"
      ],
      "execution_count": null,
      "outputs": []
    },
    {
      "cell_type": "code",
      "metadata": {
        "id": "CH2dRz7ouRxw",
        "cellView": "form"
      },
      "source": [
        "#@title Solução\n",
        "# último\n",
        "print(co[-1])\n",
        "\n",
        "# meio\n",
        "print(co[2])\n",
        "\n",
        "# itens pulando um\n",
        "print(co[::2])"
      ],
      "execution_count": null,
      "outputs": []
    }
  ]
}