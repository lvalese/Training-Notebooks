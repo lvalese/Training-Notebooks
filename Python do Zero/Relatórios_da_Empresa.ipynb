{
  "nbformat": 4,
  "nbformat_minor": 0,
  "metadata": {
    "colab": {
      "name": "Relatórios da Empresa",
      "provenance": [],
      "toc_visible": true
    },
    "kernelspec": {
      "name": "python3",
      "display_name": "Python 3"
    }
  },
  "cells": [
    {
      "cell_type": "markdown",
      "metadata": {
        "id": "fxBBG9YX_Tbg",
        "colab_type": "text"
      },
      "source": [
        "<img alt=\"Colaboratory logo\" width=\"15%\" src=\"https://raw.githubusercontent.com/carlosfab/escola-data-science/master/img/novo_logo_bg_claro.png\">\n",
        "\n",
        "#### **Python do Zero**\n",
        "*by [sigmoidal.ai](https://sigmoidal.ai)*\n",
        "\n",
        "---\n",
        "\n",
        "## Relatórios da Empresa\n",
        "\n",
        "Agora que temos as ferramentas e o conhecimento para usá-las, é hora de botar a mão na massa, e botar todo o poder de tudo que aprendemos pra funcionar na prática.\n",
        "\n",
        "\n",
        "<center><img width=\"50%\" src=\"https://image.freepik.com/free-photo/workplace-results-professional-report-accounting-during_1418-61.jpg\"></center>\n",
        "\n",
        "Em nossa jornada rumo à automação de tarefas repetitivas em nossa rotina de trabalho, vamos aprender a extrair e utilizar informações úteis de nossos documentos.\n",
        "\n",
        "Mais uma vez utilizando a biblioteca [PDF Plumber](https://github.com/jsvine/pdfplumber) vamos extrair e manipular informações de diversos relatórios em pdf ao mesmo tempo.\n",
        "\n",
        "Para isso, vamos precisar fazer o download dos arquivos de apoio que foram disponibilizados como material complementar dessa aula. \n",
        "\n",
        "Lembrando: Nativamente, o Google Colab não possui essa biblioteca instalada, então nós precisamos instalar a mesma no nosso ambiente.\n",
        "\n",
        "Para isso, vamos utilizar o gerenciador de pacotes `pip`, e com o comando `install` vamos instalar a biblioteca."
      ]
    },
    {
      "cell_type": "code",
      "metadata": {
        "id": "I2_7tlvJtpm-",
        "colab_type": "code",
        "colab": {}
      },
      "source": [
        "# instalando o pdfplumber\n",
        "!pip install pdfplumber"
      ],
      "execution_count": null,
      "outputs": []
    },
    {
      "cell_type": "code",
      "metadata": {
        "id": "7bBtbhLftg2k",
        "colab_type": "code",
        "colab": {
          "base_uri": "https://localhost:8080/",
          "height": 55
        },
        "outputId": "81d6d097-934d-4ab5-a72a-a41aa0634beb"
      },
      "source": [
        "# importando os pacotes necessários\n",
        "from google.colab import drive\n",
        "import pdfplumber\n",
        "import os\n",
        "\n",
        "# montando o drive\n",
        "drive.mount('/content/gdrive')"
      ],
      "execution_count": null,
      "outputs": [
        {
          "output_type": "stream",
          "text": [
            "Drive already mounted at /content/gdrive; to attempt to forcibly remount, call drive.mount(\"/content/gdrive\", force_remount=True).\n"
          ],
          "name": "stdout"
        }
      ]
    },
    {
      "cell_type": "markdown",
      "metadata": {
        "id": "6kSCw5AHBWjn",
        "colab_type": "text"
      },
      "source": [
        "Assim que montamos o nosso drive, estamos na raiz dele. Atente-se sempre para o caminho que leva ao arquivo que você deseja acessar.\n",
        "\n",
        "Você pode fazer o upload em qualquer lugar no seu drive. Sabendo o caminho, fica fácil acessar. \n",
        "\n",
        "Normalmente, aquela tela inicial do seu drive é `/content/gdrive/My Drive`. \n",
        "\n",
        "Aqui, eu criei uma pasta `relatorios`, onde todos os arquivos de relatórios estão. Para acessar essa pasta, o caminho é:\n",
        "\n",
        "<center> /content/gdrive/My Drive/relatorios</center>\n",
        "\n",
        "Portanto, usando o método *Change Directory* através do comando `chdir` da biblioteca `os`, vamos navegar até a pasta onde se encontram os arquivos que desejamos usar."
      ]
    },
    {
      "cell_type": "code",
      "metadata": {
        "id": "ZaF8aKhZt04p",
        "colab_type": "code",
        "colab": {}
      },
      "source": [
        "# mudar para diretório com pdfs da semana\n",
        "os.chdir(\"/content/gdrive/My Drive/relatorios\")"
      ],
      "execution_count": null,
      "outputs": []
    },
    {
      "cell_type": "markdown",
      "metadata": {
        "id": "msLIW_VVCbwV",
        "colab_type": "text"
      },
      "source": [
        "É sempre bom garantir logo que você chegou ao diretório que deseja, antes de dar continuidade ao projeto e se deparar com erros que você não saberão a origem. Ela pode estar aqui.\n",
        "\n",
        "Para isso, mais uma vez utilizamos a biblioteca `os`, com o comando `getcwd`."
      ]
    },
    {
      "cell_type": "code",
      "metadata": {
        "id": "oshXfAkCuQl5",
        "colab_type": "code",
        "colab": {
          "base_uri": "https://localhost:8080/",
          "height": 35
        },
        "outputId": "7dfc2f68-1fc0-4f30-f3ec-012111cfb58b"
      },
      "source": [
        "# checar se estou no diretório correto\n",
        "os.getcwd()"
      ],
      "execution_count": null,
      "outputs": [
        {
          "output_type": "execute_result",
          "data": {
            "application/vnd.google.colaboratory.intrinsic+json": {
              "type": "string"
            },
            "text/plain": [
              "'/content/gdrive/My Drive/relatorios'"
            ]
          },
          "metadata": {
            "tags": []
          },
          "execution_count": 23
        }
      ]
    },
    {
      "cell_type": "markdown",
      "metadata": {
        "id": "Vl9EpAzXCsV4",
        "colab_type": "text"
      },
      "source": [
        "Estamos no repositório correto. Para conferir os arquivos que temos dentro desse diretório, podemos usar o método `listdir`, que nos retorna uma lista do conteúdo do repositórios em que estamos.\n",
        "\n",
        "Vamos salvar essa informação em uma variável para que possamos acessar esses arquivos facilmente mais pra frente."
      ]
    },
    {
      "cell_type": "code",
      "metadata": {
        "id": "gDiO-AOvuTwL",
        "colab_type": "code",
        "colab": {
          "base_uri": "https://localhost:8080/",
          "height": 35
        },
        "outputId": "e80dd4c1-f30b-48cd-b0e5-c40daba6aaad"
      },
      "source": [
        "# imprimir lista com arquivos no diretório\n",
        "arquivos_semana = os.listdir()\n",
        "print(arquivos_semana)"
      ],
      "execution_count": null,
      "outputs": [
        {
          "output_type": "stream",
          "text": [
            "['20200801.pdf', '20200802.pdf', '20200803.pdf', '20200804.pdf', '20200805.pdf']\n"
          ],
          "name": "stdout"
        }
      ]
    },
    {
      "cell_type": "markdown",
      "metadata": {
        "id": "mMsrbV89De2z",
        "colab_type": "text"
      },
      "source": [
        "## Manipulando Relatórios\n",
        "\n",
        "Com todo o conteúdo à disposição, é hora de começar a manipular esses arquivos.\n",
        "\n",
        "Aqui, voltaremos a usar a biblioteca `pdfplumber`, que irá nos ajudar a manipular arquivos no formato pdf."
      ]
    },
    {
      "cell_type": "code",
      "metadata": {
        "id": "0e20tx0LuXJG",
        "colab_type": "code",
        "colab": {}
      },
      "source": [
        "# abrir um relatório de exemplo\n",
        "relatorio = pdfplumber.open(\"/content/gdrive/My Drive/relatorios/20200801.pdf\")"
      ],
      "execution_count": null,
      "outputs": []
    },
    {
      "cell_type": "markdown",
      "metadata": {
        "id": "6e0IXIJDD4bk",
        "colab_type": "text"
      },
      "source": [
        "Lembre-se: Mesmo que o arquivo tenha apenas uma página, sempre precisamos definir em que página iremos trabalhar.\n",
        "\n",
        "Vamos abrir a primeira página, e gravar essa informação em uma variável.\n",
        "\n",
        "Como a contagem começa em `0`, a primeira página do nosso arquivo está na posição `[0]`."
      ]
    },
    {
      "cell_type": "code",
      "metadata": {
        "id": "xA9BFSc1u3uo",
        "colab_type": "code",
        "colab": {}
      },
      "source": [
        "# abrir a primeira pagina do relatorio\n",
        "pagina = relatorio.pages[0]"
      ],
      "execution_count": null,
      "outputs": []
    },
    {
      "cell_type": "markdown",
      "metadata": {
        "id": "DSOMKSBcEM-B",
        "colab_type": "text"
      },
      "source": [
        "Mais uma vez, utilizaremos a função `extract_text()` para extrair as informações contidas no arquivo."
      ]
    },
    {
      "cell_type": "code",
      "metadata": {
        "id": "EncL3LP1vEmf",
        "colab_type": "code",
        "colab": {
          "base_uri": "https://localhost:8080/",
          "height": 449
        },
        "outputId": "90bf9465-0589-495c-bc4a-3e97de69d040"
      },
      "source": [
        "# extrair o texto da primeira página do primeiro relatório\n",
        "texto = pagina.extract_text()\n",
        "print(texto)"
      ],
      "execution_count": null,
      "outputs": [
        {
          "output_type": "stream",
          "text": [
            "SIGMOIDAL\t\n",
            "\t \t\n",
            "Relatório\tDiário\t\n",
            "Data:\t01/08/2020\t\n",
            "\t\n",
            "\t\n",
            "RECEITA:\tR$\t1297.00\t\n",
            "DADOS\tATUALIZADOS\tPOR\tCARLOS\tMELO\t\n",
            "\t\n",
            "\t\n",
            "Visitantes:\t1367\t\n",
            "A\tquantidade\tde\tvisitantes\tdiz\trespeito\ta\tvisitantes\túnicos\tvisitando\tqualquer\t\n",
            "página\tdo\tdomínio\tou\tsubdomínio\tsigmoidal.ai.\tCompreende,\tentão,\tcursos,\t\n",
            "blogs\te\tlanding\tpages.\t\n",
            "\t\n",
            "Inscritos:\t33\t\n",
            "É\tconsiderado\taqui\to\tnúmero\tde\tleads\tgerados\tpor\tmeio\tde\tcadastro\t\n",
            "voluntário\tnos\tformulários\tdo\tcabeçalho,\trodapé\tou\tmateriais\tricos\t(como\t\n",
            "eBook,\tinfográficos,\tentre\toutros).\t\n",
            "\t\n",
            "Assinantes:\t6\t\n",
            "Clientes\tassinantes\tda\tEscola\tde\tData\tScience,\tconsiderando-se\to\tplano\t\n",
            "renovável\tde\tassinatura\tmensal.\t\n",
            "\t\n"
          ],
          "name": "stdout"
        }
      ]
    },
    {
      "cell_type": "markdown",
      "metadata": {
        "id": "OPDHBguREW5m",
        "colab_type": "text"
      },
      "source": [
        "Para visualização, o processo feito acima já nos atende perfeitamente. Todas as informações estão visíveis e claras, facilitando muito a leitura das informações.\n",
        "\n",
        "Entretanto, não é assim que o Phython enxerga o que foi mostrado acima. E para que possamos manipular os dados contidos nesse arquivo e extrair deles as informações que precisamos, é necessário entender como o Python lida com esses dados."
      ]
    },
    {
      "cell_type": "markdown",
      "metadata": {
        "id": "6YyXoAuoEr8o",
        "colab_type": "text"
      },
      "source": [
        "## Strings\n",
        "O tipo de dado que estamos utilizando aqui chama-se `String`, como já vimos em aulas anteriores. \n",
        "\n",
        "`Strings` são o tipo de dado que utilizamos para lidar com palavras, letras, textos, enfim, nossa linguagem natural.\n",
        "\n",
        "Nós ainda iremos ver em mais detalhes as formas de manipular as strings, mas em bom estilo Sigmoidal, vamos ver como utilizaremos essas manipulações na prática, para que possamos nos aprofundar em seguida."
      ]
    },
    {
      "cell_type": "markdown",
      "metadata": {
        "id": "rdFWDKtXGk0a",
        "colab_type": "text"
      },
      "source": [
        "O texto é recebido pelo Python incluindo símbolos que representam:\n",
        "* `\\t` : a telca tab (Espaço entre palavras)\n",
        "* `\\n`: a tecla enter (Quebra de linha)"
      ]
    },
    {
      "cell_type": "code",
      "metadata": {
        "id": "FG2PC3FvxplA",
        "colab_type": "code",
        "colab": {
          "base_uri": "https://localhost:8080/",
          "height": 125
        },
        "outputId": "92d4cf2c-c186-4629-dbd0-490168d63dfd"
      },
      "source": [
        "# olhe como chega o texto\n",
        "texto"
      ],
      "execution_count": null,
      "outputs": [
        {
          "output_type": "execute_result",
          "data": {
            "application/vnd.google.colaboratory.intrinsic+json": {
              "type": "string"
            },
            "text/plain": [
              "'SIGMOIDAL\\t\\n\\t \\t\\nRelatório\\tDiário\\t\\nData:\\t01/08/2020\\t\\n\\t\\n\\t\\nRECEITA:\\tR$\\t1297.00\\t\\nDADOS\\tATUALIZADOS\\tPOR\\tCARLOS\\tMELO\\t\\n\\t\\n\\t\\nVisitantes:\\t1367\\t\\nA\\tquantidade\\tde\\tvisitantes\\tdiz\\trespeito\\ta\\tvisitantes\\túnicos\\tvisitando\\tqualquer\\t\\npágina\\tdo\\tdomínio\\tou\\tsubdomínio\\tsigmoidal.ai.\\tCompreende,\\tentão,\\tcursos,\\t\\nblogs\\te\\tlanding\\tpages.\\t\\n\\t\\nInscritos:\\t33\\t\\nÉ\\tconsiderado\\taqui\\to\\tnúmero\\tde\\tleads\\tgerados\\tpor\\tmeio\\tde\\tcadastro\\t\\nvoluntário\\tnos\\tformulários\\tdo\\tcabeçalho,\\trodapé\\tou\\tmateriais\\tricos\\t(como\\t\\neBook,\\tinfográficos,\\tentre\\toutros).\\t\\n\\t\\nAssinantes:\\t6\\t\\nClientes\\tassinantes\\tda\\tEscola\\tde\\tData\\tScience,\\tconsiderando-se\\to\\tplano\\t\\nrenovável\\tde\\tassinatura\\tmensal.\\t\\n\\t'"
            ]
          },
          "metadata": {
            "tags": []
          },
          "execution_count": 30
        }
      ]
    },
    {
      "cell_type": "markdown",
      "metadata": {
        "id": "g-8G5WpiIPrq",
        "colab_type": "text"
      },
      "source": [
        "### split()\n",
        "\n",
        "Utilizando o método split, nós podemos dizer ao Python que separe o texto a partir de um argumento que passaremos dentro dos parênteses. Nesse caso, vamos ver como ficaria o texto, caso fizéssemos o split a partir das linhas."
      ]
    },
    {
      "cell_type": "code",
      "metadata": {
        "id": "NoEUS0xPwBps",
        "colab_type": "code",
        "colab": {
          "base_uri": "https://localhost:8080/",
          "height": 449
        },
        "outputId": "e1e2a80a-1df5-461b-af57-d92aeb94686a"
      },
      "source": [
        "# dividindo o texto por linhas\n",
        "texto.split(\"\\n\")"
      ],
      "execution_count": null,
      "outputs": [
        {
          "output_type": "execute_result",
          "data": {
            "text/plain": [
              "['SIGMOIDAL\\t',\n",
              " '\\t \\t',\n",
              " 'Relatório\\tDiário\\t',\n",
              " 'Data:\\t01/08/2020\\t',\n",
              " '\\t',\n",
              " '\\t',\n",
              " 'RECEITA:\\tR$\\t1297.00\\t',\n",
              " 'DADOS\\tATUALIZADOS\\tPOR\\tCARLOS\\tMELO\\t',\n",
              " '\\t',\n",
              " '\\t',\n",
              " 'Visitantes:\\t1367\\t',\n",
              " 'A\\tquantidade\\tde\\tvisitantes\\tdiz\\trespeito\\ta\\tvisitantes\\túnicos\\tvisitando\\tqualquer\\t',\n",
              " 'página\\tdo\\tdomínio\\tou\\tsubdomínio\\tsigmoidal.ai.\\tCompreende,\\tentão,\\tcursos,\\t',\n",
              " 'blogs\\te\\tlanding\\tpages.\\t',\n",
              " '\\t',\n",
              " 'Inscritos:\\t33\\t',\n",
              " 'É\\tconsiderado\\taqui\\to\\tnúmero\\tde\\tleads\\tgerados\\tpor\\tmeio\\tde\\tcadastro\\t',\n",
              " 'voluntário\\tnos\\tformulários\\tdo\\tcabeçalho,\\trodapé\\tou\\tmateriais\\tricos\\t(como\\t',\n",
              " 'eBook,\\tinfográficos,\\tentre\\toutros).\\t',\n",
              " '\\t',\n",
              " 'Assinantes:\\t6\\t',\n",
              " 'Clientes\\tassinantes\\tda\\tEscola\\tde\\tData\\tScience,\\tconsiderando-se\\to\\tplano\\t',\n",
              " 'renovável\\tde\\tassinatura\\tmensal.\\t',\n",
              " '\\t']"
            ]
          },
          "metadata": {
            "tags": []
          },
          "execution_count": 31
        }
      ]
    },
    {
      "cell_type": "markdown",
      "metadata": {
        "id": "SwryYhAlIfsI",
        "colab_type": "text"
      },
      "source": [
        "Agora que sabemos uma forma de separar os dados, vamos buscar a informação que estamos buscando: a receita do dia.\n",
        "\n",
        "Analisando o output de cima, conseguimos identificar que essa informação está contida na sétima posição, que se encontra no índice 6, já que começamos a contagem do 0.\n",
        "\n",
        "Aqui, vamos fazer o split, como havíamos feito anteriormente, mas somente na linha [6]."
      ]
    },
    {
      "cell_type": "code",
      "metadata": {
        "id": "ikyDmT8dwKJi",
        "colab_type": "code",
        "colab": {
          "base_uri": "https://localhost:8080/",
          "height": 35
        },
        "outputId": "6baff580-6191-49c6-940d-590b6743c7ca"
      },
      "source": [
        "# vendas sempre aparecem na 7a posição (indice 6)\n",
        "texto.split(\"\\n\")[6]"
      ],
      "execution_count": null,
      "outputs": [
        {
          "output_type": "execute_result",
          "data": {
            "application/vnd.google.colaboratory.intrinsic+json": {
              "type": "string"
            },
            "text/plain": [
              "'RECEITA:\\tR$\\t1297.00\\t'"
            ]
          },
          "metadata": {
            "tags": []
          },
          "execution_count": 32
        }
      ]
    },
    {
      "cell_type": "markdown",
      "metadata": {
        "id": "8rFJQ4OYI3Ea",
        "colab_type": "text"
      },
      "source": [
        "### replace()\n",
        "\n",
        "Em inglês, `replace` significar substituir, e é exatamente isso que esse método faz. Utilizaremos ele para apagar as tabulações, que estão atrapalhando nossa visualização."
      ]
    },
    {
      "cell_type": "code",
      "metadata": {
        "id": "t57gS-r1wNYn",
        "colab_type": "code",
        "colab": {
          "base_uri": "https://localhost:8080/",
          "height": 35
        },
        "outputId": "93bb5deb-c4fb-4ff4-a590-c2308500749f"
      },
      "source": [
        "# retirando tabulações\n",
        "texto.split(\"\\n\")[6].replace(\"\\t\", \"\")"
      ],
      "execution_count": null,
      "outputs": [
        {
          "output_type": "execute_result",
          "data": {
            "application/vnd.google.colaboratory.intrinsic+json": {
              "type": "string"
            },
            "text/plain": [
              "'RECEITA:R$1297.00'"
            ]
          },
          "metadata": {
            "tags": []
          },
          "execution_count": 33
        }
      ]
    },
    {
      "cell_type": "markdown",
      "metadata": {
        "id": "py1HkAUOJJe1",
        "colab_type": "text"
      },
      "source": [
        "Avançando na extração da informação, podemos utilizar o split para separar o que vem antes e depois do R$. \n",
        "\n",
        "Nós sabemos que esses dados estão em reais brasileiros, e estamos interessados apenas na parte numérica, por isso, ele não é relevante nesse momento. Vamos retirá-lo."
      ]
    },
    {
      "cell_type": "code",
      "metadata": {
        "id": "jgnXhTQEwU99",
        "colab_type": "code",
        "colab": {
          "base_uri": "https://localhost:8080/",
          "height": 35
        },
        "outputId": "c727ff40-28ba-4040-e61b-b1fa569c4963"
      },
      "source": [
        "# como queremos o que vem depois do R$, pode ser usado str.split(\"R$\")\n",
        "texto.split(\"\\n\")[6].replace(\"\\t\", \"\").split(\"R$\")"
      ],
      "execution_count": null,
      "outputs": [
        {
          "output_type": "execute_result",
          "data": {
            "text/plain": [
              "['RECEITA:', '1297.00']"
            ]
          },
          "metadata": {
            "tags": []
          },
          "execution_count": 36
        }
      ]
    },
    {
      "cell_type": "markdown",
      "metadata": {
        "id": "roiEmJxbJYNr",
        "colab_type": "text"
      },
      "source": [
        "Como mencionamos anteriormente, estamos lidando com `strings`. \n",
        "\n",
        "Entretanto, estamos aqui para extrair e manipular números. Para que possamos fazer as operações necessárias, precisamos converter nosso resultado para uma forma numérica.\n",
        "\n",
        "Como estamos lidando com moedas, que possuem casa decimal, vamos utilizar o formato `float`.\n",
        "\n",
        "Veja a difereneça no resultado das operações caso não façamos a conversão:"
      ]
    },
    {
      "cell_type": "code",
      "metadata": {
        "id": "8Nv_JoiuJ5N1",
        "colab_type": "code",
        "colab": {}
      },
      "source": [
        "# somando strings\n",
        "strings = \"1\" + \"1\"\n",
        "print('Soma de Strings: ', strings)\n",
        "\n",
        "# somando floats\n",
        "floats = 1.0 + 1.0\n",
        "print('Soma de Floats: ', floats)"
      ],
      "execution_count": null,
      "outputs": []
    },
    {
      "cell_type": "markdown",
      "metadata": {
        "id": "sENkMtPfKL5g",
        "colab_type": "text"
      },
      "source": [
        "Para que possamos realizar operações matemáticas, precisamos converter esses números de strings, para um formato numérico.\n",
        "\n",
        "No nosso caso, como mencionamos, utilizaremos o formato float."
      ]
    },
    {
      "cell_type": "code",
      "metadata": {
        "id": "ZYSqUYb2waEj",
        "colab_type": "code",
        "colab": {
          "base_uri": "https://localhost:8080/",
          "height": 35
        },
        "outputId": "6c41b507-bbbe-43a6-a4e8-0fd28df92cd8"
      },
      "source": [
        "# valor ainda é string\n",
        "texto.split(\"\\n\")[6].replace(\"\\t\", \"\").split(\"R$\")[1]"
      ],
      "execution_count": null,
      "outputs": [
        {
          "output_type": "execute_result",
          "data": {
            "application/vnd.google.colaboratory.intrinsic+json": {
              "type": "string"
            },
            "text/plain": [
              "'1297.00'"
            ]
          },
          "metadata": {
            "tags": []
          },
          "execution_count": 37
        }
      ]
    },
    {
      "cell_type": "code",
      "metadata": {
        "id": "IPNxxZaEx6wK",
        "colab_type": "code",
        "colab": {
          "base_uri": "https://localhost:8080/",
          "height": 35
        },
        "outputId": "d2b0506a-2109-4cb9-d7e3-84063bcebfe3"
      },
      "source": [
        "# transformando em float\n",
        "float(texto.split(\"\\n\")[6].replace(\"\\t\", \"\").split(\"R$\")[1])"
      ],
      "execution_count": null,
      "outputs": [
        {
          "output_type": "execute_result",
          "data": {
            "text/plain": [
              "1297.0"
            ]
          },
          "metadata": {
            "tags": []
          },
          "execution_count": 38
        }
      ]
    },
    {
      "cell_type": "markdown",
      "metadata": {
        "id": "rCzyiWc7x9lv",
        "colab_type": "text"
      },
      "source": [
        "## Automatizando a Soma de Receita dos Relatórios\n",
        "\n",
        "Agora que sabemos como abrir, ler, e manipular os relatórios para extrair a receita de cada arquivo, é hora de criarmos uma função para fazer tudo isso pra nós.\n",
        "\n",
        "Basicamente, essa função vai iterar sobre nossos relatórios, fazer todos os passos que fizemos anteriormente, e extrair o valor de receita contido em cada um desses. Após receber os valores, ela vai somá-los, e nos retornar a receita total dos últimos 5 dias."
      ]
    },
    {
      "cell_type": "code",
      "metadata": {
        "id": "NraRRv5iWzt3",
        "colab_type": "code",
        "colab": {
          "base_uri": "https://localhost:8080/",
          "height": 89
        },
        "outputId": "1cf15c38-8190-45b5-c7f5-4ec364ad5d26"
      },
      "source": [
        "soma_teste = 0\n",
        "\n",
        "for letra in [1, 10, 34, 99]:\n",
        "    soma_teste = soma_teste + letra\n",
        "    print(soma_teste)"
      ],
      "execution_count": null,
      "outputs": [
        {
          "output_type": "stream",
          "text": [
            "1\n",
            "11\n",
            "45\n",
            "144\n"
          ],
          "name": "stdout"
        }
      ]
    },
    {
      "cell_type": "code",
      "metadata": {
        "id": "gCuEMJGWwdN1",
        "colab_type": "code",
        "colab": {
          "base_uri": "https://localhost:8080/",
          "height": 107
        },
        "outputId": "4941a2dc-4948-46ea-e180-92c9b9e9b6ed"
      },
      "source": [
        "# criando um contador\n",
        "soma = 0\n",
        "\n",
        "# criando a função\n",
        "for arquivo in arquivos_semana:\n",
        "    relatorio = pdfplumber.open(arquivo)\n",
        "    pagina = relatorio.pages[0]\n",
        "    texto = pagina.extract_text()\n",
        "    valor = texto.split(\"\\n\")[6].replace(\"\\t\", \"\").split(\"R$\")[1]\n",
        "    valor = float(valor)\n",
        "    soma = soma + valor\n",
        "    print(arquivo, \"--->\", valor)\n"
      ],
      "execution_count": null,
      "outputs": [
        {
          "output_type": "stream",
          "text": [
            "20200801.pdf ---> 1297.0\n",
            "20200802.pdf ---> 537.0\n",
            "20200803.pdf ---> 554.0\n",
            "20200804.pdf ---> 2554.0\n",
            "20200805.pdf ---> 154.0\n"
          ],
          "name": "stdout"
        }
      ]
    },
    {
      "cell_type": "markdown",
      "metadata": {
        "id": "LwEvr8j1LnrC",
        "colab_type": "text"
      },
      "source": [
        "Após visualizar o total de cada dia, vamos ver como ficou a soma:"
      ]
    },
    {
      "cell_type": "code",
      "metadata": {
        "id": "Qi-V_Hyzwinm",
        "colab_type": "code",
        "colab": {
          "base_uri": "https://localhost:8080/",
          "height": 35
        },
        "outputId": "105e424f-e3da-45fe-ed44-537fb7ea294a"
      },
      "source": [
        "#soma total\n",
        "print('Receita dos Últimos 5 dias: R$',soma)"
      ],
      "execution_count": null,
      "outputs": [
        {
          "output_type": "stream",
          "text": [
            "Receita dos Últimos 5 dias: R$ 5096.0\n"
          ],
          "name": "stdout"
        }
      ]
    },
    {
      "cell_type": "markdown",
      "metadata": {
        "id": "LXtJ8H-3gtLn",
        "colab_type": "text"
      },
      "source": [
        "## Dúvidas\n",
        "\n",
        "### Leitura de arquivos\n",
        "* https://pypi.org/project/gdoc-down/ - Biblioteca para ler arquivos gdoc, html,LaTeX, word, pdf, etc.\n",
        "* Pandas - csv, excel, etc.\n",
        "\n",
        "### Manipular Strings\n",
        "\n",
        "* split vs strip (Separador vs \"retirador\")\n",
        "* revisão do notebook\n"
      ]
    },
    {
      "cell_type": "code",
      "metadata": {
        "id": "yQNhLBnDs5uK",
        "colab_type": "code",
        "colab": {}
      },
      "source": [
        "texto_1 = 'Receita: R$200,00'\n",
        "texto_2 = 'R$200,00'"
      ],
      "execution_count": null,
      "outputs": []
    },
    {
      "cell_type": "code",
      "metadata": {
        "id": "xpNg1POWtFLL",
        "colab_type": "code",
        "colab": {
          "base_uri": "https://localhost:8080/",
          "height": 34
        },
        "outputId": "58bbc3d9-f386-4bf4-d2e5-d561a0271aa8"
      },
      "source": [
        "texto_1.split('R$')"
      ],
      "execution_count": null,
      "outputs": [
        {
          "output_type": "execute_result",
          "data": {
            "text/plain": [
              "['Receita: ', '200,00']"
            ]
          },
          "metadata": {
            "tags": []
          },
          "execution_count": 8
        }
      ]
    },
    {
      "cell_type": "code",
      "metadata": {
        "id": "8CvbnNCwtKw2",
        "colab_type": "code",
        "colab": {
          "base_uri": "https://localhost:8080/",
          "height": 37
        },
        "outputId": "c9148313-4522-4c5e-83f5-89448cf252df"
      },
      "source": [
        "texto_2.strip('R$')"
      ],
      "execution_count": null,
      "outputs": [
        {
          "output_type": "execute_result",
          "data": {
            "application/vnd.google.colaboratory.intrinsic+json": {
              "type": "string"
            },
            "text/plain": [
              "'200,00'"
            ]
          },
          "metadata": {
            "tags": []
          },
          "execution_count": 10
        }
      ]
    },
    {
      "cell_type": "markdown",
      "metadata": {
        "id": "Z4PmOJn_qdg5",
        "colab_type": "text"
      },
      "source": [
        "## Booleanos\n",
        "* Função de string + Booleanos/Condicionais - Uso"
      ]
    },
    {
      "cell_type": "code",
      "metadata": {
        "id": "6vOQArJLqOc2",
        "colab_type": "code",
        "colab": {
          "base_uri": "https://localhost:8080/",
          "height": 34
        },
        "outputId": "fb7d55f5-b3a1-4f7d-a692-579a2d6b589a"
      },
      "source": [
        "x = 'Carlos'\n",
        "y = 'carlos'\n",
        "\n",
        "x == y"
      ],
      "execution_count": null,
      "outputs": [
        {
          "output_type": "execute_result",
          "data": {
            "text/plain": [
              "False"
            ]
          },
          "metadata": {
            "tags": []
          },
          "execution_count": 3
        }
      ]
    },
    {
      "cell_type": "code",
      "metadata": {
        "id": "1102eljVqRv1",
        "colab_type": "code",
        "colab": {
          "base_uri": "https://localhost:8080/",
          "height": 34
        },
        "outputId": "2dc171f0-f110-4f5a-868a-960e14d75e6e"
      },
      "source": [
        "x = x.lower()\n",
        "\n",
        "x == y"
      ],
      "execution_count": null,
      "outputs": [
        {
          "output_type": "execute_result",
          "data": {
            "text/plain": [
              "True"
            ]
          },
          "metadata": {
            "tags": []
          },
          "execution_count": 4
        }
      ]
    },
    {
      "cell_type": "code",
      "metadata": {
        "id": "0h6DZgIPqYnL",
        "colab_type": "code",
        "colab": {}
      },
      "source": [
        ""
      ],
      "execution_count": null,
      "outputs": []
    }
  ]
}