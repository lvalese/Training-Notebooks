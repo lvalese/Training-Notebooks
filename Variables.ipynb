{
  "nbformat": 4,
  "nbformat_minor": 0,
  "metadata": {
    "colab": {
      "name": "Variables.ipynb",
      "provenance": [],
      "collapsed_sections": [],
      "toc_visible": true,
      "authorship_tag": "ABX9TyN8iOuG9S+h75yJml7oqriP",
      "include_colab_link": true
    },
    "kernelspec": {
      "name": "python3",
      "display_name": "Python 3"
    }
  },
  "cells": [
    {
      "cell_type": "markdown",
      "metadata": {
        "id": "view-in-github",
        "colab_type": "text"
      },
      "source": [
        "<a href=\"https://colab.research.google.com/github/lvalese/Training-Notebooks/blob/master/Variables.ipynb\" target=\"_parent\"><img src=\"https://colab.research.google.com/assets/colab-badge.svg\" alt=\"Open In Colab\"/></a>"
      ]
    },
    {
      "cell_type": "markdown",
      "metadata": {
        "id": "IhU3_VbIlTyX",
        "colab_type": "text"
      },
      "source": [
        "## Variables in Python\n",
        "A variable is a reserved memory location to store values. It must have a name so that you are able to find it again. The variable is always assigned with the equal sign, followed by the value of the variable\n",
        "\n"
      ]
    },
    {
      "cell_type": "code",
      "metadata": {
        "id": "qDrNiAMEebo2",
        "colab_type": "code",
        "colab": {}
      },
      "source": [
        "# First you have to store value(s) into variable:\n",
        "\n",
        "x = 2 + 3 + 12 + 13"
      ],
      "execution_count": 0,
      "outputs": []
    },
    {
      "cell_type": "code",
      "metadata": {
        "id": "NURQECdmebpL",
        "colab_type": "code",
        "outputId": "da7d2f5e-b713-4772-c189-b770459a9797",
        "colab": {
          "base_uri": "https://localhost:8080/",
          "height": 35
        }
      },
      "source": [
        "# To print out the value in variable, you have to call your variable:\n",
        "\n",
        "x"
      ],
      "execution_count": 3,
      "outputs": [
        {
          "output_type": "execute_result",
          "data": {
            "text/plain": [
              "30"
            ]
          },
          "metadata": {
            "tags": []
          },
          "execution_count": 3
        }
      ]
    },
    {
      "cell_type": "code",
      "metadata": {
        "id": "WwufYi7Vebpb",
        "colab_type": "code",
        "outputId": "19b2abd8-99c4-4089-a9c2-963ec2ef6976",
        "colab": {
          "base_uri": "https://localhost:8080/",
          "height": 35
        }
      },
      "source": [
        "# You could also perform operations with x and save the result to a new variable:\n",
        "\n",
        "y = x / 3\n",
        "y"
      ],
      "execution_count": 4,
      "outputs": [
        {
          "output_type": "execute_result",
          "data": {
            "text/plain": [
              "10.0"
            ]
          },
          "metadata": {
            "tags": []
          },
          "execution_count": 4
        }
      ]
    },
    {
      "cell_type": "code",
      "metadata": {
        "id": "5UN_CI35ebp4",
        "colab_type": "code",
        "outputId": "7db1ae5a-bae4-44a9-b677-84d97acde466",
        "colab": {
          "base_uri": "https://localhost:8080/",
          "height": 35
        }
      },
      "source": [
        "# For better understanding, you can use meaningful variable names, so you and others can read the code and understand it more easily:\n",
        "\n",
        "total_min = 45 + 15 + 45 # Total length of a soccer game, including  First Half, interval and Second Half\n",
        "total_min"
      ],
      "execution_count": 5,
      "outputs": [
        {
          "output_type": "execute_result",
          "data": {
            "text/plain": [
              "105"
            ]
          },
          "metadata": {
            "tags": []
          },
          "execution_count": 5
        }
      ]
    },
    {
      "cell_type": "code",
      "metadata": {
        "id": "bn6lF98EebqC",
        "colab_type": "code",
        "outputId": "f8815e24-d9b4-4d54-96f6-1b7e26d7ef50",
        "colab": {
          "base_uri": "https://localhost:8080/",
          "height": 35
        }
      },
      "source": [
        "# To get the total hours, you should call your variable and set a division expression as below:\n",
        "\n",
        "total_hours = total_min / 60 # Total length of a soccer game in hours \n",
        "total_hours"
      ],
      "execution_count": 6,
      "outputs": [
        {
          "output_type": "execute_result",
          "data": {
            "text/plain": [
              "1.75"
            ]
          },
          "metadata": {
            "tags": []
          },
          "execution_count": 6
        }
      ]
    },
    {
      "cell_type": "code",
      "metadata": {
        "id": "rCrxTLEvvxuI",
        "colab_type": "code",
        "colab": {}
      },
      "source": [
        "# This is the end of this Notebbok with some examples of Variables."
      ],
      "execution_count": 0,
      "outputs": []
    },
    {
      "cell_type": "markdown",
      "metadata": {
        "id": "XZFNsgr81ZgR",
        "colab_type": "text"
      },
      "source": [
        "Feel free to use and share at any time!\n",
        "\n",
        "Rgds,\n",
        "####**L.V.**"
      ]
    }
  ]
}