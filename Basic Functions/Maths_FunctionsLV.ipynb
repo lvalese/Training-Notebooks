{
  "nbformat": 4,
  "nbformat_minor": 0,
  "metadata": {
    "colab": {
      "name": "Maths_Functions.ipynb",
      "provenance": [],
      "collapsed_sections": [],
      "toc_visible": true,
      "authorship_tag": "ABX9TyP0asBeH3c6zyITxRcY2K+I",
      "include_colab_link": true
    },
    "kernelspec": {
      "name": "python3",
      "display_name": "Python 3"
    }
  },
  "cells": [
    {
      "cell_type": "markdown",
      "metadata": {
        "id": "view-in-github",
        "colab_type": "text"
      },
      "source": [
        "<a href=\"https://colab.research.google.com/github/lvalese/Training-Notebooks/blob/master/Maths_Functions.ipynb\" target=\"_parent\"><img src=\"https://colab.research.google.com/assets/colab-badge.svg\" alt=\"Open In Colab\"/></a>"
      ]
    },
    {
      "cell_type": "markdown",
      "metadata": {
        "id": "n0M6b6M9uz70",
        "colab_type": "text"
      },
      "source": [
        "# Mathematical Functions"
      ]
    },
    {
      "cell_type": "code",
      "metadata": {
        "id": "WYDVI9Gwu5v0",
        "colab_type": "code",
        "colab": {}
      },
      "source": [
        "# The objective of this notebook is to present the most common Mathematical functions that you could use in Python"
      ],
      "execution_count": 0,
      "outputs": []
    },
    {
      "cell_type": "markdown",
      "metadata": {
        "id": "9ioClQCkvQGA",
        "colab_type": "text"
      },
      "source": [
        "The most common Mathematical functions used in Python are:\n",
        "\n",
        "\n",
        "---\n",
        "\n",
        "\n",
        "* `+`  Addition (Sum)\n",
        "* `-`  Subtraction\n",
        "* `*`  Multiplication\n",
        "* `/`  Division\n",
        "* `**` Exponentiation\n",
        "* `//` Division (integer)\n"
      ]
    },
    {
      "cell_type": "markdown",
      "metadata": {
        "id": "z93BRlHuwarM",
        "colab_type": "text"
      },
      "source": [
        "#####*Addition (Sum):*\n",
        "\n"
      ]
    },
    {
      "cell_type": "code",
      "metadata": {
        "id": "MDTc2_jEw9Ql",
        "colab_type": "code",
        "outputId": "5f6ff578-a200-49b6-80ce-2497c0e308c3",
        "colab": {
          "base_uri": "https://localhost:8080/",
          "height": 35
        }
      },
      "source": [
        "# Addition (Sum)\n",
        "7+7"
      ],
      "execution_count": 0,
      "outputs": [
        {
          "output_type": "execute_result",
          "data": {
            "text/plain": [
              "14"
            ]
          },
          "metadata": {
            "tags": []
          },
          "execution_count": 6
        }
      ]
    },
    {
      "cell_type": "code",
      "metadata": {
        "id": "XoBKVSDSxB5Y",
        "colab_type": "code",
        "outputId": "94b02a49-f86c-4b07-bb40-cc7a12405ab9",
        "colab": {
          "base_uri": "https://localhost:8080/",
          "height": 35
        }
      },
      "source": [
        "-4+-8"
      ],
      "execution_count": 0,
      "outputs": [
        {
          "output_type": "execute_result",
          "data": {
            "text/plain": [
              "-12"
            ]
          },
          "metadata": {
            "tags": []
          },
          "execution_count": 7
        }
      ]
    },
    {
      "cell_type": "markdown",
      "metadata": {
        "colab_type": "text",
        "id": "HsOy6_uuxJ9V"
      },
      "source": [
        "#####*Subtraction:*\n",
        "\n"
      ]
    },
    {
      "cell_type": "code",
      "metadata": {
        "id": "zfuGL7t3xOxx",
        "colab_type": "code",
        "outputId": "dbf522ac-138a-4987-a42c-bdf4ede85928",
        "colab": {
          "base_uri": "https://localhost:8080/",
          "height": 35
        }
      },
      "source": [
        "# Subtraction\n",
        "7-7"
      ],
      "execution_count": 0,
      "outputs": [
        {
          "output_type": "execute_result",
          "data": {
            "text/plain": [
              "0"
            ]
          },
          "metadata": {
            "tags": []
          },
          "execution_count": 8
        }
      ]
    },
    {
      "cell_type": "code",
      "metadata": {
        "id": "49ePxt_CxSdw",
        "colab_type": "code",
        "outputId": "79c07675-f6f0-469a-c73a-58921b6aab99",
        "colab": {
          "base_uri": "https://localhost:8080/",
          "height": 35
        }
      },
      "source": [
        "-4--8"
      ],
      "execution_count": 0,
      "outputs": [
        {
          "output_type": "execute_result",
          "data": {
            "text/plain": [
              "4"
            ]
          },
          "metadata": {
            "tags": []
          },
          "execution_count": 9
        }
      ]
    },
    {
      "cell_type": "markdown",
      "metadata": {
        "colab_type": "text",
        "id": "FKKH7xulxbYJ"
      },
      "source": [
        "#####*Multiplication:*\n",
        "\n"
      ]
    },
    {
      "cell_type": "code",
      "metadata": {
        "id": "W2VVCIRfxiyq",
        "colab_type": "code",
        "outputId": "02928430-4ba9-4a83-eba4-e3d65da906a0",
        "colab": {
          "base_uri": "https://localhost:8080/",
          "height": 35
        }
      },
      "source": [
        "# Multiplication\n",
        "7*7"
      ],
      "execution_count": 0,
      "outputs": [
        {
          "output_type": "execute_result",
          "data": {
            "text/plain": [
              "49"
            ]
          },
          "metadata": {
            "tags": []
          },
          "execution_count": 10
        }
      ]
    },
    {
      "cell_type": "code",
      "metadata": {
        "id": "nWNgNkinxlfX",
        "colab_type": "code",
        "outputId": "512467fe-5a38-40c6-b7f8-579f8bc57d77",
        "colab": {
          "base_uri": "https://localhost:8080/",
          "height": 35
        }
      },
      "source": [
        "-4*-8"
      ],
      "execution_count": 0,
      "outputs": [
        {
          "output_type": "execute_result",
          "data": {
            "text/plain": [
              "32"
            ]
          },
          "metadata": {
            "tags": []
          },
          "execution_count": 11
        }
      ]
    },
    {
      "cell_type": "markdown",
      "metadata": {
        "colab_type": "text",
        "id": "1WtBiKUIxqqt"
      },
      "source": [
        "#####*Division:*\n",
        "\n"
      ]
    },
    {
      "cell_type": "code",
      "metadata": {
        "id": "xMBQejI5xvGk",
        "colab_type": "code",
        "outputId": "a3f79761-6581-4aeb-f2d2-31ff9d6f1201",
        "colab": {
          "base_uri": "https://localhost:8080/",
          "height": 35
        }
      },
      "source": [
        "# Division\n",
        "7/7"
      ],
      "execution_count": 0,
      "outputs": [
        {
          "output_type": "execute_result",
          "data": {
            "text/plain": [
              "1.0"
            ]
          },
          "metadata": {
            "tags": []
          },
          "execution_count": 12
        }
      ]
    },
    {
      "cell_type": "code",
      "metadata": {
        "id": "7EP2pVbUxzwA",
        "colab_type": "code",
        "outputId": "abf29835-24e7-43e8-fb05-7e5d5698ba9d",
        "colab": {
          "base_uri": "https://localhost:8080/",
          "height": 35
        }
      },
      "source": [
        "-4/-8"
      ],
      "execution_count": 0,
      "outputs": [
        {
          "output_type": "execute_result",
          "data": {
            "text/plain": [
              "0.5"
            ]
          },
          "metadata": {
            "tags": []
          },
          "execution_count": 13
        }
      ]
    },
    {
      "cell_type": "markdown",
      "metadata": {
        "colab_type": "text",
        "id": "sSftovxUx7Ty"
      },
      "source": [
        "#####*Exponentiation:*\n",
        "\n"
      ]
    },
    {
      "cell_type": "code",
      "metadata": {
        "id": "LW1mxMnHx95U",
        "colab_type": "code",
        "outputId": "1e495dce-08be-49b5-f004-1faa64ee39d5",
        "colab": {
          "base_uri": "https://localhost:8080/",
          "height": 35
        }
      },
      "source": [
        "7**7"
      ],
      "execution_count": 0,
      "outputs": [
        {
          "output_type": "execute_result",
          "data": {
            "text/plain": [
              "823543"
            ]
          },
          "metadata": {
            "tags": []
          },
          "execution_count": 14
        }
      ]
    },
    {
      "cell_type": "code",
      "metadata": {
        "id": "VSv86__HyCbO",
        "colab_type": "code",
        "outputId": "10d2cceb-225a-4f82-d234-3a4d190a4ffb",
        "colab": {
          "base_uri": "https://localhost:8080/",
          "height": 35
        }
      },
      "source": [
        "-4**-8"
      ],
      "execution_count": 0,
      "outputs": [
        {
          "output_type": "execute_result",
          "data": {
            "text/plain": [
              "-1.52587890625e-05"
            ]
          },
          "metadata": {
            "tags": []
          },
          "execution_count": 16
        }
      ]
    },
    {
      "cell_type": "markdown",
      "metadata": {
        "colab_type": "text",
        "id": "8subTC_DzQEJ"
      },
      "source": [
        "#####*Division (integer):*\n",
        "\n"
      ]
    },
    {
      "cell_type": "code",
      "metadata": {
        "id": "bNzaTLKlzgf1",
        "colab_type": "code",
        "outputId": "0072f69c-b384-4b1d-c0b4-3a604f5a5420",
        "colab": {
          "base_uri": "https://localhost:8080/",
          "height": 35
        }
      },
      "source": [
        "7//7"
      ],
      "execution_count": 0,
      "outputs": [
        {
          "output_type": "execute_result",
          "data": {
            "text/plain": [
              "1"
            ]
          },
          "metadata": {
            "tags": []
          },
          "execution_count": 17
        }
      ]
    },
    {
      "cell_type": "code",
      "metadata": {
        "id": "lRHvdFaiziQs",
        "colab_type": "code",
        "outputId": "ad40300d-7d4f-49e1-966c-3f988f467edb",
        "colab": {
          "base_uri": "https://localhost:8080/",
          "height": 35
        }
      },
      "source": [
        "-4//-8"
      ],
      "execution_count": 0,
      "outputs": [
        {
          "output_type": "execute_result",
          "data": {
            "text/plain": [
              "0"
            ]
          },
          "metadata": {
            "tags": []
          },
          "execution_count": 18
        }
      ]
    },
    {
      "cell_type": "markdown",
      "metadata": {
        "id": "PVgCBTmUgMWx",
        "colab_type": "text"
      },
      "source": [
        "At this point, you may already notice that Python interpreter can be used as a simple calculator! That said, I will show you bellow some interesting functions you can use in addition to those shown above:"
      ]
    },
    {
      "cell_type": "code",
      "metadata": {
        "id": "izN7L73DgqBb",
        "colab_type": "code",
        "colab": {
          "base_uri": "https://localhost:8080/",
          "height": 35
        },
        "outputId": "ea0885dc-4c3d-4ac4-f9ad-893d40726e01"
      },
      "source": [
        "# How to calculate the average:\n",
        "(2+3+5)/3"
      ],
      "execution_count": 1,
      "outputs": [
        {
          "output_type": "execute_result",
          "data": {
            "text/plain": [
              "3.3333333333333335"
            ]
          },
          "metadata": {
            "tags": []
          },
          "execution_count": 1
        }
      ]
    },
    {
      "cell_type": "code",
      "metadata": {
        "id": "YxXrLJ_Og2pY",
        "colab_type": "code",
        "colab": {
          "base_uri": "https://localhost:8080/",
          "height": 35
        },
        "outputId": "2ba7ecfa-3f37-4ed0-dd1a-5061c5eee5d9"
      },
      "source": [
        "# You can also use the equal sign (=) to assign a value to a variable\n",
        "\n",
        "Grade1 = 2\n",
        "Grade2 = 3\n",
        "Grade3 = 5\n",
        "\n",
        "(Grade1+Grade2+Grade3)/3\n"
      ],
      "execution_count": 19,
      "outputs": [
        {
          "output_type": "execute_result",
          "data": {
            "text/plain": [
              "3.3333333333333335"
            ]
          },
          "metadata": {
            "tags": []
          },
          "execution_count": 19
        }
      ]
    },
    {
      "cell_type": "code",
      "metadata": {
        "id": "_lxYkkZVzk4v",
        "colab_type": "code",
        "colab": {}
      },
      "source": [
        "# This is the end of this Notebook with some Mathematical Functions."
      ],
      "execution_count": 0,
      "outputs": []
    },
    {
      "cell_type": "markdown",
      "metadata": {
        "id": "XZFNsgr81ZgR",
        "colab_type": "text"
      },
      "source": [
        "Feel free to use and share at any time!\n",
        "\n",
        "Rgds,\n",
        "####**L.V.**"
      ]
    }
  ]
}
