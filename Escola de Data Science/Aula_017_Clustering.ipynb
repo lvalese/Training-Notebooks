{
  "nbformat": 4,
  "nbformat_minor": 0,
  "metadata": {
    "colab": {
      "name": "Aula 017 - Clustering",
      "provenance": [],
      "collapsed_sections": []
    },
    "kernelspec": {
      "name": "python3",
      "display_name": "Python 3"
    }
  },
  "cells": [
    {
      "cell_type": "markdown",
      "metadata": {
        "id": "ShFcg2yqhpc-",
        "colab_type": "text"
      },
      "source": [
        "<p align=\"center\"><img src=\"https://raw.githubusercontent.com/carlosfab/escola-data-science/master/img/eds.png\" height=\"100px\"></p>\n",
        "\n",
        "# Clustering\n",
        "\n",
        "O Spotify é um serviço de *streaming* de áudio, que está disponível em quase todos os países nas mais diversas plataformas. Ela tem por objetivo unir produtores e consumidores de músicas e podcasts, e uma plataforma eficiente, simples e prazerosa de se usar. Ao final de 2019, o Spotify contava com mais de 250 milhões de usuários.\n",
        "\n",
        "Como é de se imaginar, essa imensa popularidade entre artistas e ouvintes, o Spotify gera muitos dados, e faz muito bom uso desses dados, especialmente em seus sistemas de recomendação.\n",
        "\n",
        "<center><img width=\"60%\" src=\"http://www.luminmusic.com/images/streaming-icon-spotify.png\"></center>\n",
        "\n",
        "Quem usa o Spotify já está acostumado com *features* como:\n",
        "\n",
        "* Discover Weekly\n",
        "* Song Radios\n",
        "* You Year Wrapped\n",
        "* Daily Mix\n",
        "\n",
        "Entre outros. Você pode ver uma [palestra completa](https://www.youtube.com/watch?v=2VvM98flwq0&t=677s) sobre o sistema de recomendação do Spotify aqui.\n",
        "\n",
        "> O objetivo desse projeto é estudar uma das técnicas que integra o sistema de recomendação do Spotify e outras gigantes do entretenimento: Clustering."
      ]
    },
    {
      "cell_type": "markdown",
      "metadata": {
        "id": "5kREpv8Fn6fI",
        "colab_type": "text"
      },
      "source": [
        "## O que é Clustering?\n",
        "\n",
        "\n",
        "<center><img width=\"60%\" src=\"https://i.imgur.com/S65Sk9c.jpg\"></center>\n",
        "\n",
        "\n",
        "**Clustering** é uma técnica de *Machine Learning*, pertencente à classe de Aprendizado Não-Supervisionado.\n",
        "\n",
        "Em termos simples, o que queremos fazer é agrupar conjuntos de dados semelhantes em um mesmo *Cluster*. Mas como isso acontece?\n",
        "\n",
        "O algoritmo mais usado para esse tipo de atividade, que estudaremos aqui, é o [K-Means](https://scikit-learn.org/stable/modules/generated/sklearn.cluster.KMeans.html). Esse algortimo calcula a distância dos pontos até os *Centroids*, que ficarão no centro (daí o nome) de cada Cluster.\n",
        "\n",
        "\n"
      ]
    },
    {
      "cell_type": "markdown",
      "metadata": {
        "id": "OupqppAqqUc5",
        "colab_type": "text"
      },
      "source": [
        "## Como Saber Quantos Clusters Preciso Usar?\n",
        "\n",
        "\n",
        "<center><img width=\"40%\" src=\"https://github.com/rafaelnduarte/sigmoidal_data/blob/master/Elbow_Method.png?raw=true\"></center>\n",
        "\n",
        "É importante saber que o algoritmo não vai decidir sozinho quantos clusters usar. É nosso trabalho identificar a quantidade correta de clusters, e passar essa quantidade como parâmetro. Para identificar o melhor número de clusters para nossos dados, nós podemos utilizar, por exemplo, as seguintes métricas:\n",
        "\n",
        "* Inspeção Visual dos Dados.\n",
        "* Conhecimento pŕevio sobre os dados/objetivos e um número pré-definidos de clusters.\n",
        "* O *Elbow Method*, ou, em tradução livre, o \"Método do Cotovelo\". Esse método compara a distância média de cada ponto até o centro do cluster para diferentes números de clusters.\n",
        "\n",
        "\n"
      ]
    },
    {
      "cell_type": "markdown",
      "metadata": {
        "id": "u3w6Ogy8ECia",
        "colab_type": "text"
      },
      "source": [
        "## Informações Importantes Sobre K-Means\n",
        "\n",
        "O algoritmo K-Means trabalha com a distância entre os pontos, o que significa que ele é altamente sensível à escala dos dados. Por isso, é muito importante que, antes mesmo de descobrir quantos clusters vamos precisar, façamos uso de uma ferramenta como `StandardScaler` ou `MinMaxScaler` para que os dados estejam todos na mesma escala.\n",
        "\n",
        "Essas duas técnicas de pré-processamento de dados nos retornam valores em uma escala que podemos usar, mas funcionam de maneiras diferentes.\n",
        "\n",
        "O `StandardScaler` transforma os dados de forma a obter média 0 e desvio padrão 1.\n",
        "\n",
        "O `MinMaxScaler` coloca todos os números em uma escala entre 0 e 1.\n",
        "\n",
        "Efetivamente, o efeito que isso faz é trazer todos os pontos para mais perto uns dos outros. A título de curiosidade, essas técnicas também ajudam a diminuir o impacto de outliers em nossos dados.\n",
        "\n",
        "## Outros Detalhes\n",
        "\n",
        "Ao inicializarmos a otimização dos nossos clusters, os *centroids* são colocados aleatoriamente nos dados, o que significa, especialmente se não tivermos o número certo de clusters, que cada vez que inicializarmos o algoritmo, teremos clusters diferentes. Veremos isso na prática no exemplo gráfico abaixo."
      ]
    },
    {
      "cell_type": "markdown",
      "metadata": {
        "id": "WcUQxQY9LrrK",
        "colab_type": "text"
      },
      "source": [
        "## Como Funciona O Algoritmo do Spotify?\n",
        "\n",
        "Primeiro de tudo, é importante reconhecer o tamanho do Spotify, e com isso, a complexidade de sua operação. Gigantes da mídia como o Spotify, Netflix, Amazon, têm times e times de Ciências de Dados, trabalhando em diferentes tipos de algoritmos e processos de recomendação que trabalham em conjunto.\n",
        "\n",
        "<center><img width=\"80%\" src=\"https://github.com/rafaelnduarte/sigmoidal_data/blob/master/spotify_clusters.png?raw=true\"></center>\n",
        "\n",
        "Ainda sobre sistemas de recomendação, precisamos entender os tipos de sistemas de recomendação, para entendermos onde o nosso projeto se encaixa.\n",
        "\n",
        "* Collaborative Filtering - Comportamento de usuário.\n",
        "* Content-Based Filtering - Baseado nas informações dos produtos.\n",
        "* Hybrid Recommendation Systems - Combinação dos dois anteriores.\n",
        "\n",
        "Com isso em mente, e com o que falamos sobre o Spotify, nós já sabemos que eles têm um sistema híbrido em funcionamento. Mas onde nosso projeto se encaixa?\n",
        "\n",
        "> Aqui, vamos analisar as características das músicas, e agrupá-las de acordo com suas similaridades. Nossa análise, seria um dos passos para a criação de um sistema de recomendação do estilo *Content-Based Filtering*.\n",
        "\n",
        "Agora que sabemos onde estamos pisando, vamos começar a andar!"
      ]
    },
    {
      "cell_type": "code",
      "metadata": {
        "id": "YkitE3svmKlM",
        "colab_type": "code",
        "colab": {
          "base_uri": "https://localhost:8080/",
          "height": 51
        },
        "outputId": "55bac0d3-52d6-4f88-a5c6-161a9db406da"
      },
      "source": [
        "# importando os pacotes necessários\n",
        "import pandas as pd\n",
        "import matplotlib.pyplot as plt\n",
        "import numpy as np\n",
        "import seaborn as sns\n",
        "sns.set()\n",
        "\n",
        "from sklearn.preprocessing import MinMaxScaler\n",
        "from sklearn.cluster import KMeans\n",
        "from mpl_toolkits.mplot3d import Axes3D\n",
        "\n",
        "\n",
        "# allowing all the columns to be visualized\n",
        "pd.options.display.max_columns = None\n",
        "\n",
        "# rendering all graphics straight out of the notebook\n",
        "%matplotlib inline\n",
        "\n",
        "import warnings\n",
        "warnings.simplefilter(action='ignore', category=FutureWarning)"
      ],
      "execution_count": null,
      "outputs": [
        {
          "output_type": "stream",
          "text": [
            "/usr/local/lib/python3.6/dist-packages/statsmodels/tools/_testing.py:19: FutureWarning: pandas.util.testing is deprecated. Use the functions in the public API at pandas.testing instead.\n",
            "  import pandas.util.testing as tm\n"
          ],
          "name": "stderr"
        }
      ]
    },
    {
      "cell_type": "code",
      "metadata": {
        "id": "k9K1rBZCQX6f",
        "colab_type": "code",
        "colab": {
          "base_uri": "https://localhost:8080/",
          "height": 289
        },
        "outputId": "a2521c86-7151-42cb-8f63-e8020074a1ef"
      },
      "source": [
        "# importando os dados\n",
        "df = pd.read_csv('https://raw.githubusercontent.com/rafaelnduarte/sigmoidal_data/master/df_spotify.csv')\n",
        "\n",
        "# verificando as dimensões\n",
        "print('Dimensões do Dataset',\n",
        "    '\\nVariáveis: ',df.shape[1], \"\\n\"\n",
        "      'Entradas: ', df.shape[0])\n",
        "\n",
        "# verificando as primeiras entradas\n",
        "df.head()"
      ],
      "execution_count": null,
      "outputs": [
        {
          "output_type": "stream",
          "text": [
            "Dimensões do Dataset \n",
            "Variáveis:  17 \n",
            "Entradas:  300\n"
          ],
          "name": "stdout"
        },
        {
          "output_type": "execute_result",
          "data": {
            "text/html": [
              "<div>\n",
              "<style scoped>\n",
              "    .dataframe tbody tr th:only-of-type {\n",
              "        vertical-align: middle;\n",
              "    }\n",
              "\n",
              "    .dataframe tbody tr th {\n",
              "        vertical-align: top;\n",
              "    }\n",
              "\n",
              "    .dataframe thead th {\n",
              "        text-align: right;\n",
              "    }\n",
              "</style>\n",
              "<table border=\"1\" class=\"dataframe\">\n",
              "  <thead>\n",
              "    <tr style=\"text-align: right;\">\n",
              "      <th></th>\n",
              "      <th>artist_name</th>\n",
              "      <th>track_name</th>\n",
              "      <th>track_id</th>\n",
              "      <th>popularity</th>\n",
              "      <th>danceability</th>\n",
              "      <th>energy</th>\n",
              "      <th>key</th>\n",
              "      <th>loudness</th>\n",
              "      <th>mode</th>\n",
              "      <th>speechiness</th>\n",
              "      <th>acousticness</th>\n",
              "      <th>instrumentalness</th>\n",
              "      <th>liveness</th>\n",
              "      <th>valence</th>\n",
              "      <th>tempo</th>\n",
              "      <th>duration_ms</th>\n",
              "      <th>time_signature</th>\n",
              "    </tr>\n",
              "  </thead>\n",
              "  <tbody>\n",
              "    <tr>\n",
              "      <th>0</th>\n",
              "      <td>Dadá Boladão</td>\n",
              "      <td>Surtada - Remix Brega Funk</td>\n",
              "      <td>5F8ffc8KWKNawllr5WsW0r</td>\n",
              "      <td>86</td>\n",
              "      <td>0.832</td>\n",
              "      <td>0.550</td>\n",
              "      <td>5</td>\n",
              "      <td>-7.026</td>\n",
              "      <td>0</td>\n",
              "      <td>0.0587</td>\n",
              "      <td>0.2490</td>\n",
              "      <td>0.000008</td>\n",
              "      <td>0.182</td>\n",
              "      <td>0.881</td>\n",
              "      <td>154.064</td>\n",
              "      <td>152784</td>\n",
              "      <td>4</td>\n",
              "    </tr>\n",
              "    <tr>\n",
              "      <th>1</th>\n",
              "      <td>Marília Mendonça</td>\n",
              "      <td>Supera - Ao Vivo</td>\n",
              "      <td>3GmJxfnUDrIs1iCfKUELFz</td>\n",
              "      <td>85</td>\n",
              "      <td>0.665</td>\n",
              "      <td>0.743</td>\n",
              "      <td>4</td>\n",
              "      <td>-4.434</td>\n",
              "      <td>1</td>\n",
              "      <td>0.0567</td>\n",
              "      <td>0.0604</td>\n",
              "      <td>0.000000</td>\n",
              "      <td>0.959</td>\n",
              "      <td>0.658</td>\n",
              "      <td>131.573</td>\n",
              "      <td>147748</td>\n",
              "      <td>4</td>\n",
              "    </tr>\n",
              "    <tr>\n",
              "      <th>2</th>\n",
              "      <td>MC Du Black</td>\n",
              "      <td>Gaiola É o Troco</td>\n",
              "      <td>3Uq45ipGutypFPmETfaoaH</td>\n",
              "      <td>85</td>\n",
              "      <td>0.722</td>\n",
              "      <td>0.840</td>\n",
              "      <td>10</td>\n",
              "      <td>-3.240</td>\n",
              "      <td>0</td>\n",
              "      <td>0.0785</td>\n",
              "      <td>0.4200</td>\n",
              "      <td>0.000000</td>\n",
              "      <td>0.112</td>\n",
              "      <td>0.851</td>\n",
              "      <td>150.108</td>\n",
              "      <td>187246</td>\n",
              "      <td>4</td>\n",
              "    </tr>\n",
              "    <tr>\n",
              "      <th>3</th>\n",
              "      <td>Anitta</td>\n",
              "      <td>Some que ele vem atrás</td>\n",
              "      <td>2qD7VoDYcrAPY0cVEfpsR5</td>\n",
              "      <td>84</td>\n",
              "      <td>0.648</td>\n",
              "      <td>0.795</td>\n",
              "      <td>0</td>\n",
              "      <td>-5.536</td>\n",
              "      <td>0</td>\n",
              "      <td>0.1700</td>\n",
              "      <td>0.0748</td>\n",
              "      <td>0.000000</td>\n",
              "      <td>0.380</td>\n",
              "      <td>0.598</td>\n",
              "      <td>180.043</td>\n",
              "      <td>194771</td>\n",
              "      <td>4</td>\n",
              "    </tr>\n",
              "    <tr>\n",
              "      <th>4</th>\n",
              "      <td>Jorge &amp; Mateus</td>\n",
              "      <td>Cheirosa - Ao Vivo</td>\n",
              "      <td>2PWjKmjyTZeDpmOUa3a5da</td>\n",
              "      <td>84</td>\n",
              "      <td>0.528</td>\n",
              "      <td>0.870</td>\n",
              "      <td>11</td>\n",
              "      <td>-3.123</td>\n",
              "      <td>1</td>\n",
              "      <td>0.0851</td>\n",
              "      <td>0.2400</td>\n",
              "      <td>0.000000</td>\n",
              "      <td>0.333</td>\n",
              "      <td>0.714</td>\n",
              "      <td>152.370</td>\n",
              "      <td>181930</td>\n",
              "      <td>4</td>\n",
              "    </tr>\n",
              "  </tbody>\n",
              "</table>\n",
              "</div>"
            ],
            "text/plain": [
              "        artist_name                  track_name                track_id  \\\n",
              "0      Dadá Boladão  Surtada - Remix Brega Funk  5F8ffc8KWKNawllr5WsW0r   \n",
              "1  Marília Mendonça            Supera - Ao Vivo  3GmJxfnUDrIs1iCfKUELFz   \n",
              "2       MC Du Black            Gaiola É o Troco  3Uq45ipGutypFPmETfaoaH   \n",
              "3            Anitta      Some que ele vem atrás  2qD7VoDYcrAPY0cVEfpsR5   \n",
              "4    Jorge & Mateus          Cheirosa - Ao Vivo  2PWjKmjyTZeDpmOUa3a5da   \n",
              "\n",
              "   popularity  danceability  energy  key  loudness  mode  speechiness  \\\n",
              "0          86         0.832   0.550    5    -7.026     0       0.0587   \n",
              "1          85         0.665   0.743    4    -4.434     1       0.0567   \n",
              "2          85         0.722   0.840   10    -3.240     0       0.0785   \n",
              "3          84         0.648   0.795    0    -5.536     0       0.1700   \n",
              "4          84         0.528   0.870   11    -3.123     1       0.0851   \n",
              "\n",
              "   acousticness  instrumentalness  liveness  valence    tempo  duration_ms  \\\n",
              "0        0.2490          0.000008     0.182    0.881  154.064       152784   \n",
              "1        0.0604          0.000000     0.959    0.658  131.573       147748   \n",
              "2        0.4200          0.000000     0.112    0.851  150.108       187246   \n",
              "3        0.0748          0.000000     0.380    0.598  180.043       194771   \n",
              "4        0.2400          0.000000     0.333    0.714  152.370       181930   \n",
              "\n",
              "   time_signature  \n",
              "0               4  \n",
              "1               4  \n",
              "2               4  \n",
              "3               4  \n",
              "4               4  "
            ]
          },
          "metadata": {
            "tags": []
          },
          "execution_count": 2
        }
      ]
    },
    {
      "cell_type": "code",
      "metadata": {
        "id": "OuxqVf6HQ5EO",
        "colab_type": "code",
        "colab": {}
      },
      "source": [
        "# selecionando as features numéricas\n",
        "df_num = pd.DataFrame(df.iloc[:, [3,4,5,6,7,8,9,10,11,12,13,14,15,16]].values)\n",
        "\n",
        "# salvando os nomes das colunas\n",
        "cols = df.iloc[:, [3,4,5,6,7,8,9,10,11,12,13,14,15,16]].columns\n",
        "\n"
      ],
      "execution_count": null,
      "outputs": []
    },
    {
      "cell_type": "code",
      "metadata": {
        "id": "X6Gq_jbmRdtp",
        "colab_type": "code",
        "colab": {
          "base_uri": "https://localhost:8080/",
          "height": 204
        },
        "outputId": "f6f4df8f-4633-48a8-d1e8-d35b11eacc4e"
      },
      "source": [
        "# colocando os dados na mesma escala\n",
        "scaler = MinMaxScaler()\n",
        "scaled = pd.DataFrame(scaler.fit_transform(df_num))\n",
        "scaled.columns = cols\n",
        "\n",
        "scaled.head()"
      ],
      "execution_count": null,
      "outputs": [
        {
          "output_type": "execute_result",
          "data": {
            "text/html": [
              "<div>\n",
              "<style scoped>\n",
              "    .dataframe tbody tr th:only-of-type {\n",
              "        vertical-align: middle;\n",
              "    }\n",
              "\n",
              "    .dataframe tbody tr th {\n",
              "        vertical-align: top;\n",
              "    }\n",
              "\n",
              "    .dataframe thead th {\n",
              "        text-align: right;\n",
              "    }\n",
              "</style>\n",
              "<table border=\"1\" class=\"dataframe\">\n",
              "  <thead>\n",
              "    <tr style=\"text-align: right;\">\n",
              "      <th></th>\n",
              "      <th>popularity</th>\n",
              "      <th>danceability</th>\n",
              "      <th>energy</th>\n",
              "      <th>key</th>\n",
              "      <th>loudness</th>\n",
              "      <th>mode</th>\n",
              "      <th>speechiness</th>\n",
              "      <th>acousticness</th>\n",
              "      <th>instrumentalness</th>\n",
              "      <th>liveness</th>\n",
              "      <th>valence</th>\n",
              "      <th>tempo</th>\n",
              "      <th>duration_ms</th>\n",
              "      <th>time_signature</th>\n",
              "    </tr>\n",
              "  </thead>\n",
              "  <tbody>\n",
              "    <tr>\n",
              "      <th>0</th>\n",
              "      <td>0.86</td>\n",
              "      <td>0.819364</td>\n",
              "      <td>0.506928</td>\n",
              "      <td>0.454545</td>\n",
              "      <td>0.545212</td>\n",
              "      <td>0.0</td>\n",
              "      <td>0.038116</td>\n",
              "      <td>0.252951</td>\n",
              "      <td>0.000011</td>\n",
              "      <td>0.168483</td>\n",
              "      <td>0.903137</td>\n",
              "      <td>0.690948</td>\n",
              "      <td>0.086668</td>\n",
              "      <td>0.75</td>\n",
              "    </tr>\n",
              "    <tr>\n",
              "      <th>1</th>\n",
              "      <td>0.85</td>\n",
              "      <td>0.578035</td>\n",
              "      <td>0.729792</td>\n",
              "      <td>0.363636</td>\n",
              "      <td>0.706076</td>\n",
              "      <td>1.0</td>\n",
              "      <td>0.035657</td>\n",
              "      <td>0.059682</td>\n",
              "      <td>0.000000</td>\n",
              "      <td>0.975086</td>\n",
              "      <td>0.657677</td>\n",
              "      <td>0.508160</td>\n",
              "      <td>0.075697</td>\n",
              "      <td>0.75</td>\n",
              "    </tr>\n",
              "    <tr>\n",
              "      <th>2</th>\n",
              "      <td>0.85</td>\n",
              "      <td>0.660405</td>\n",
              "      <td>0.841801</td>\n",
              "      <td>0.909091</td>\n",
              "      <td>0.780177</td>\n",
              "      <td>0.0</td>\n",
              "      <td>0.062462</td>\n",
              "      <td>0.428185</td>\n",
              "      <td>0.000000</td>\n",
              "      <td>0.095816</td>\n",
              "      <td>0.870116</td>\n",
              "      <td>0.658797</td>\n",
              "      <td>0.161742</td>\n",
              "      <td>0.75</td>\n",
              "    </tr>\n",
              "    <tr>\n",
              "      <th>3</th>\n",
              "      <td>0.84</td>\n",
              "      <td>0.553468</td>\n",
              "      <td>0.789838</td>\n",
              "      <td>0.000000</td>\n",
              "      <td>0.637684</td>\n",
              "      <td>0.0</td>\n",
              "      <td>0.174966</td>\n",
              "      <td>0.074438</td>\n",
              "      <td>0.000000</td>\n",
              "      <td>0.374027</td>\n",
              "      <td>0.591635</td>\n",
              "      <td>0.902084</td>\n",
              "      <td>0.178135</td>\n",
              "      <td>0.75</td>\n",
              "    </tr>\n",
              "    <tr>\n",
              "      <th>4</th>\n",
              "      <td>0.84</td>\n",
              "      <td>0.380058</td>\n",
              "      <td>0.876443</td>\n",
              "      <td>1.000000</td>\n",
              "      <td>0.787439</td>\n",
              "      <td>1.0</td>\n",
              "      <td>0.070577</td>\n",
              "      <td>0.243728</td>\n",
              "      <td>0.000000</td>\n",
              "      <td>0.325236</td>\n",
              "      <td>0.719318</td>\n",
              "      <td>0.677181</td>\n",
              "      <td>0.150162</td>\n",
              "      <td>0.75</td>\n",
              "    </tr>\n",
              "  </tbody>\n",
              "</table>\n",
              "</div>"
            ],
            "text/plain": [
              "   popularity  danceability    energy       key  loudness  mode  speechiness  \\\n",
              "0        0.86      0.819364  0.506928  0.454545  0.545212   0.0     0.038116   \n",
              "1        0.85      0.578035  0.729792  0.363636  0.706076   1.0     0.035657   \n",
              "2        0.85      0.660405  0.841801  0.909091  0.780177   0.0     0.062462   \n",
              "3        0.84      0.553468  0.789838  0.000000  0.637684   0.0     0.174966   \n",
              "4        0.84      0.380058  0.876443  1.000000  0.787439   1.0     0.070577   \n",
              "\n",
              "   acousticness  instrumentalness  liveness   valence     tempo  duration_ms  \\\n",
              "0      0.252951          0.000011  0.168483  0.903137  0.690948     0.086668   \n",
              "1      0.059682          0.000000  0.975086  0.657677  0.508160     0.075697   \n",
              "2      0.428185          0.000000  0.095816  0.870116  0.658797     0.161742   \n",
              "3      0.074438          0.000000  0.374027  0.591635  0.902084     0.178135   \n",
              "4      0.243728          0.000000  0.325236  0.719318  0.677181     0.150162   \n",
              "\n",
              "   time_signature  \n",
              "0            0.75  \n",
              "1            0.75  \n",
              "2            0.75  \n",
              "3            0.75  \n",
              "4            0.75  "
            ]
          },
          "metadata": {
            "tags": []
          },
          "execution_count": 4
        }
      ]
    },
    {
      "cell_type": "markdown",
      "metadata": {
        "id": "MlmsbxCVTbp1",
        "colab_type": "text"
      },
      "source": [
        "Agora que os dados estão prontos, vamos descobrir quantos clusters precisaremos.\n",
        "\n",
        "A título de curiosidade, vamos plotar o Elbow Method para os dados balanceados e não balanceados, para que possamos ver a diferença."
      ]
    },
    {
      "cell_type": "code",
      "metadata": {
        "id": "AKgPtC6_TltP",
        "colab_type": "code",
        "colab": {
          "base_uri": "https://localhost:8080/",
          "height": 627
        },
        "outputId": "37c07558-de33-4e95-b5a9-b582be2af48e"
      },
      "source": [
        "# dados originais\n",
        "wcss = []\n",
        "for i in range(1,15):\n",
        "  # instanciando o modelo\n",
        "  kmeans = KMeans(n_clusters = i, init = 'k-means++', max_iter = 300, n_init = 10, random_state = 0)\n",
        "  # dando fit nos dados\n",
        "  kmeans.fit(df_num)\n",
        "  # salvando os resultados na lista\n",
        "  wcss.append(kmeans.inertia_)\n",
        "\n",
        "# plotando o Elbow Method  \n",
        "plt.figure(figsize=(15,10))\n",
        "plt.plot(range(1,15), wcss, 'o')\n",
        "plt.plot(range(1 , 15) , wcss , '-' , alpha = 0.5)\n",
        "plt.title('Elbow Method')\n",
        "plt.xlabel('Number of Clusters')\n",
        "plt.ylabel('WCSS')\n",
        "plt.savefig('Elbow_Method.png')\n",
        "plt.show()"
      ],
      "execution_count": null,
      "outputs": [
        {
          "output_type": "display_data",
          "data": {
            "image/png": "[encoded data removed]",
            "text/plain": [
              "<Figure size 1080x720 with 1 Axes>"
            ]
          },
          "metadata": {
            "tags": [],
            "needs_background": "light"
          }
        }
      ]
    },
    {
      "cell_type": "code",
      "metadata": {
        "id": "FPBiGyiwRXPW",
        "colab_type": "code",
        "colab": {
          "base_uri": "https://localhost:8080/",
          "height": 627
        },
        "outputId": "25ae75cd-7153-4805-b860-b1500fce25b3"
      },
      "source": [
        "# Dados Padronizados\n",
        "wcss = []\n",
        "for i in range(1,15):\n",
        "  # instanciando o modelo\n",
        "  kmeans = KMeans(n_clusters = i, init = 'k-means++', max_iter = 300, n_init = 10, random_state = 0)\n",
        "  # dando fit nos dados\n",
        "  kmeans.fit(scaled)\n",
        "  # salvando os resultados na lista\n",
        "  wcss.append(kmeans.inertia_)\n",
        "  \n",
        "# plotando o Elbow Method  \n",
        "plt.figure(figsize=(15,10))\n",
        "plt.plot(range(1,15), wcss, 'o')\n",
        "plt.plot(range(1 , 15) , wcss , '-' , alpha = 0.5)\n",
        "plt.title('Elbow Method')\n",
        "plt.xlabel('Number of Clusters')\n",
        "plt.ylabel('WCSS')\n",
        "plt.savefig('Elbow_Method.png')\n",
        "plt.show()"
      ],
      "execution_count": null,
      "outputs": [
        {
          "output_type": "display_data",
          "data": {
            "image/png": "[encoded data removed]",
            "text/plain": [
              "<Figure size 1080x720 with 1 Axes>"
            ]
          },
          "metadata": {
            "tags": [],
            "needs_background": "light"
          }
        }
      ]
    },
    {
      "cell_type": "code",
      "metadata": {
        "id": "QMVjKDH8S915",
        "colab_type": "code",
        "colab": {
          "base_uri": "https://localhost:8080/",
          "height": 54
        },
        "outputId": "30e34a62-f448-4de2-8f44-9455ed336201"
      },
      "source": [
        "# verificar os resultados\n",
        "print('Lista Com Erros: ', wcss)"
      ],
      "execution_count": null,
      "outputs": [
        {
          "output_type": "stream",
          "text": [
            "Lista Com Erros:  [243.41045994827238, 168.01043365483952, 147.5040317325812, 136.57941523049, 125.76854377064898, 117.19883003172328, 111.25783231874576, 105.59526740107572, 99.9326326976386, 95.7147490709151, 92.66125490489951, 89.20940285873435, 87.4882852011755, 84.68381664081177]\n"
          ],
          "name": "stdout"
        }
      ]
    },
    {
      "cell_type": "code",
      "metadata": {
        "id": "KG1j5GgSR0zF",
        "colab_type": "code",
        "colab": {
          "base_uri": "https://localhost:8080/",
          "height": 68
        },
        "outputId": "0bc710cb-ea97-4cc2-b06b-0e2e946f2d19"
      },
      "source": [
        "# diferença entre os elementos\n",
        "dif = np.diff(wcss)\n",
        "print('Diferença Entre os Elementos: ', dif)"
      ],
      "execution_count": null,
      "outputs": [
        {
          "output_type": "stream",
          "text": [
            "Diferença Entre os Elementos:  [-75.40002629 -20.50640192 -10.9246165  -10.81087146  -8.56971374\n",
            "  -5.94099771  -5.66256492  -5.6626347   -4.21788363  -3.05349417\n",
            "  -3.45185205  -1.72111766  -2.80446856]\n"
          ],
          "name": "stdout"
        }
      ]
    },
    {
      "cell_type": "markdown",
      "metadata": {
        "id": "KhW_AU7QTy4z",
        "colab_type": "text"
      },
      "source": [
        "Aparentemente, 6 é um bom número de Clusters.\n",
        "\n",
        "Agora vamos instanciar o modelo que vamos usar, definindo o número correto de clusters, e vamos ver como nossos dados foram separados."
      ]
    },
    {
      "cell_type": "code",
      "metadata": {
        "id": "sKE1JFoZSVi0",
        "colab_type": "code",
        "colab": {}
      },
      "source": [
        "# instanciando o modelo\n",
        "kmeans = KMeans(n_clusters = 6, init = 'k-means++', max_iter = 300, n_init = 10, random_state = 0)\n",
        "y_kmeans = kmeans.fit_predict(scaled)"
      ],
      "execution_count": null,
      "outputs": []
    },
    {
      "cell_type": "code",
      "metadata": {
        "id": "YZGSUU6lShzV",
        "colab_type": "code",
        "colab": {
          "base_uri": "https://localhost:8080/",
          "height": 652
        },
        "outputId": "396e6134-ea04-41da-a89f-eb8a58ba9c8b"
      },
      "source": [
        "# visualizando os clusters\n",
        "fig, ax = plt.subplots(figsize=(13,11))\n",
        "scaled = scaler.fit_transform(df_num)\n",
        "# definindo a figura em 3 dimensões\n",
        "ax = fig.add_subplot(111, projection='3d')\n",
        "# plotando os clusters\n",
        "plt.scatter(scaled[y_kmeans == 0,0],scaled[y_kmeans == 0,1], s= 50, c= 'red',label= 'Cluster 1')\n",
        "plt.scatter(scaled[y_kmeans == 1,0], scaled[y_kmeans == 1,1], s= 50, c= 'blue', label= 'Cluster 2')\n",
        "plt.scatter(scaled[y_kmeans == 2,0], scaled[y_kmeans == 2,1], s= 50, c= 'green', label= 'Cluster 3')\n",
        "plt.scatter(scaled[y_kmeans == 3,0], scaled[y_kmeans == 3,1], s= 50, c= 'cyan', label= 'Cluster 4')\n",
        "plt.scatter(scaled[y_kmeans == 4,0], scaled[y_kmeans == 4,1], s= 50, c= 'magenta', label= 'Cluster 5')\n",
        "plt.scatter(scaled[y_kmeans == 5,0], scaled[y_kmeans == 5,1], s= 50, c= 'gray', label= 'Cluster 6')\n",
        "\n",
        "\n",
        "# centroids\n",
        "plt.scatter(kmeans.cluster_centers_[:, 0], kmeans.cluster_centers_[:,1], s= 300, c= 'yellow', label= 'Centroids')\n",
        "plt.title('Clusters')\n",
        "plt.legend()\n",
        "plt.savefig('clusters.png')\n",
        "plt.show()"
      ],
      "execution_count": null,
      "outputs": [
        {
          "output_type": "display_data",
          "data": {
            "image/png": "[encoded data removed]",
            "text/plain": [
              "<Figure size 936x792 with 2 Axes>"
            ]
          },
          "metadata": {
            "tags": [],
            "needs_background": "light"
          }
        }
      ]
    },
    {
      "cell_type": "markdown",
      "metadata": {
        "id": "jGNwFgIdmG2I",
        "colab_type": "text"
      },
      "source": [
        "## [Visualizar Os Clusters](https://plotly.com/~rafaelnduarte/1/)"
      ]
    },
    {
      "cell_type": "code",
      "metadata": {
        "id": "RCEhUYYYUyS6",
        "colab_type": "code",
        "colab": {
          "base_uri": "https://localhost:8080/",
          "height": 255
        },
        "outputId": "44af1295-2bf9-40cb-98d1-1b4c4bdd36ec"
      },
      "source": [
        "# visualizando as previsões\n",
        "y_kmeans"
      ],
      "execution_count": null,
      "outputs": [
        {
          "output_type": "execute_result",
          "data": {
            "text/plain": [
              "array([0, 1, 0, 5, 4, 0, 4, 5, 2, 2, 1, 0, 5, 4, 4, 4, 2, 0, 1, 1, 4, 4,\n",
              "       4, 1, 0, 2, 1, 1, 2, 2, 1, 1, 4, 4, 0, 1, 2, 4, 4, 4, 1, 0, 1, 0,\n",
              "       2, 1, 2, 4, 0, 1, 1, 2, 4, 4, 4, 2, 0, 2, 0, 0, 0, 0, 1, 5, 1, 5,\n",
              "       0, 2, 5, 5, 2, 5, 3, 4, 3, 1, 0, 2, 0, 0, 5, 4, 4, 0, 1, 1, 4, 4,\n",
              "       4, 0, 0, 2, 0, 1, 0, 0, 0, 1, 5, 0, 0, 4, 0, 4, 2, 1, 4, 2, 3, 1,\n",
              "       1, 0, 4, 2, 0, 1, 0, 4, 5, 5, 4, 2, 5, 0, 4, 1, 4, 5, 5, 4, 1, 5,\n",
              "       4, 2, 4, 0, 0, 5, 5, 0, 5, 0, 0, 0, 0, 2, 1, 0, 0, 0, 5, 2, 5, 5,\n",
              "       4, 0, 2, 1, 2, 1, 5, 0, 2, 1, 1, 2, 1, 4, 0, 4, 5, 0, 1, 2, 4, 1,\n",
              "       1, 2, 1, 2, 5, 1, 4, 4, 2, 5, 4, 0, 4, 0, 0, 1, 4, 4, 0, 2, 0, 1,\n",
              "       2, 1, 4, 0, 0, 2, 4, 0, 3, 2, 1, 2, 1, 5, 1, 1, 0, 1, 4, 5, 4, 1,\n",
              "       1, 0, 0, 0, 0, 5, 5, 1, 0, 5, 3, 4, 5, 2, 4, 1, 2, 0, 0, 4, 0, 4,\n",
              "       2, 4, 5, 4, 2, 5, 0, 5, 0, 4, 4, 1, 1, 0, 5, 0, 5, 4, 0, 1, 4, 2,\n",
              "       5, 0, 5, 4, 5, 5, 4, 3, 0, 2, 2, 0, 0, 2, 4, 0, 2, 5, 0, 3, 5, 0,\n",
              "       0, 0, 0, 4, 5, 3, 3, 4, 0, 5, 5, 3, 3, 4], dtype=int32)"
            ]
          },
          "metadata": {
            "tags": []
          },
          "execution_count": 11
        }
      ]
    },
    {
      "cell_type": "code",
      "metadata": {
        "id": "Fra-xmtDVWAz",
        "colab_type": "code",
        "colab": {
          "base_uri": "https://localhost:8080/",
          "height": 221
        },
        "outputId": "3794f4df-1ae0-46d0-a78e-8df17e9bf847"
      },
      "source": [
        "# convertendo as previsões para um dataframe\n",
        "kmeans = pd.DataFrame(data=y_kmeans, dtype=int)\n",
        "kmeans.columns = ['cluster']\n",
        "\n",
        "# previsões como um df\n",
        "print(kmeans.shape)\n",
        "kmeans.head()"
      ],
      "execution_count": null,
      "outputs": [
        {
          "output_type": "stream",
          "text": [
            "(300, 1)\n"
          ],
          "name": "stdout"
        },
        {
          "output_type": "execute_result",
          "data": {
            "text/html": [
              "<div>\n",
              "<style scoped>\n",
              "    .dataframe tbody tr th:only-of-type {\n",
              "        vertical-align: middle;\n",
              "    }\n",
              "\n",
              "    .dataframe tbody tr th {\n",
              "        vertical-align: top;\n",
              "    }\n",
              "\n",
              "    .dataframe thead th {\n",
              "        text-align: right;\n",
              "    }\n",
              "</style>\n",
              "<table border=\"1\" class=\"dataframe\">\n",
              "  <thead>\n",
              "    <tr style=\"text-align: right;\">\n",
              "      <th></th>\n",
              "      <th>cluster</th>\n",
              "    </tr>\n",
              "  </thead>\n",
              "  <tbody>\n",
              "    <tr>\n",
              "      <th>0</th>\n",
              "      <td>0</td>\n",
              "    </tr>\n",
              "    <tr>\n",
              "      <th>1</th>\n",
              "      <td>1</td>\n",
              "    </tr>\n",
              "    <tr>\n",
              "      <th>2</th>\n",
              "      <td>0</td>\n",
              "    </tr>\n",
              "    <tr>\n",
              "      <th>3</th>\n",
              "      <td>5</td>\n",
              "    </tr>\n",
              "    <tr>\n",
              "      <th>4</th>\n",
              "      <td>4</td>\n",
              "    </tr>\n",
              "  </tbody>\n",
              "</table>\n",
              "</div>"
            ],
            "text/plain": [
              "   cluster\n",
              "0        0\n",
              "1        1\n",
              "2        0\n",
              "3        5\n",
              "4        4"
            ]
          },
          "metadata": {
            "tags": []
          },
          "execution_count": 12
        }
      ]
    },
    {
      "cell_type": "code",
      "metadata": {
        "id": "0J10X-a7VdUD",
        "colab_type": "code",
        "colab": {
          "base_uri": "https://localhost:8080/",
          "height": 323
        },
        "outputId": "77ea5a2b-6212-4049-b6c2-446a9c82a69c"
      },
      "source": [
        "# concatenando os clusters \n",
        "df = pd.concat([df, kmeans], axis=1)\n",
        "\n",
        "# conferindo os dataframes\n",
        "print(df.shape)\n",
        "df.head()"
      ],
      "execution_count": null,
      "outputs": [
        {
          "output_type": "stream",
          "text": [
            "(300, 18)\n"
          ],
          "name": "stdout"
        },
        {
          "output_type": "execute_result",
          "data": {
            "text/html": [
              "<div>\n",
              "<style scoped>\n",
              "    .dataframe tbody tr th:only-of-type {\n",
              "        vertical-align: middle;\n",
              "    }\n",
              "\n",
              "    .dataframe tbody tr th {\n",
              "        vertical-align: top;\n",
              "    }\n",
              "\n",
              "    .dataframe thead th {\n",
              "        text-align: right;\n",
              "    }\n",
              "</style>\n",
              "<table border=\"1\" class=\"dataframe\">\n",
              "  <thead>\n",
              "    <tr style=\"text-align: right;\">\n",
              "      <th></th>\n",
              "      <th>artist_name</th>\n",
              "      <th>track_name</th>\n",
              "      <th>track_id</th>\n",
              "      <th>popularity</th>\n",
              "      <th>danceability</th>\n",
              "      <th>energy</th>\n",
              "      <th>key</th>\n",
              "      <th>loudness</th>\n",
              "      <th>mode</th>\n",
              "      <th>speechiness</th>\n",
              "      <th>acousticness</th>\n",
              "      <th>instrumentalness</th>\n",
              "      <th>liveness</th>\n",
              "      <th>valence</th>\n",
              "      <th>tempo</th>\n",
              "      <th>duration_ms</th>\n",
              "      <th>time_signature</th>\n",
              "      <th>cluster</th>\n",
              "    </tr>\n",
              "  </thead>\n",
              "  <tbody>\n",
              "    <tr>\n",
              "      <th>0</th>\n",
              "      <td>Dadá Boladão</td>\n",
              "      <td>Surtada - Remix Brega Funk</td>\n",
              "      <td>5F8ffc8KWKNawllr5WsW0r</td>\n",
              "      <td>86</td>\n",
              "      <td>0.832</td>\n",
              "      <td>0.550</td>\n",
              "      <td>5</td>\n",
              "      <td>-7.026</td>\n",
              "      <td>0</td>\n",
              "      <td>0.0587</td>\n",
              "      <td>0.2490</td>\n",
              "      <td>0.000008</td>\n",
              "      <td>0.182</td>\n",
              "      <td>0.881</td>\n",
              "      <td>154.064</td>\n",
              "      <td>152784</td>\n",
              "      <td>4</td>\n",
              "      <td>0</td>\n",
              "    </tr>\n",
              "    <tr>\n",
              "      <th>1</th>\n",
              "      <td>Marília Mendonça</td>\n",
              "      <td>Supera - Ao Vivo</td>\n",
              "      <td>3GmJxfnUDrIs1iCfKUELFz</td>\n",
              "      <td>85</td>\n",
              "      <td>0.665</td>\n",
              "      <td>0.743</td>\n",
              "      <td>4</td>\n",
              "      <td>-4.434</td>\n",
              "      <td>1</td>\n",
              "      <td>0.0567</td>\n",
              "      <td>0.0604</td>\n",
              "      <td>0.000000</td>\n",
              "      <td>0.959</td>\n",
              "      <td>0.658</td>\n",
              "      <td>131.573</td>\n",
              "      <td>147748</td>\n",
              "      <td>4</td>\n",
              "      <td>1</td>\n",
              "    </tr>\n",
              "    <tr>\n",
              "      <th>2</th>\n",
              "      <td>MC Du Black</td>\n",
              "      <td>Gaiola É o Troco</td>\n",
              "      <td>3Uq45ipGutypFPmETfaoaH</td>\n",
              "      <td>85</td>\n",
              "      <td>0.722</td>\n",
              "      <td>0.840</td>\n",
              "      <td>10</td>\n",
              "      <td>-3.240</td>\n",
              "      <td>0</td>\n",
              "      <td>0.0785</td>\n",
              "      <td>0.4200</td>\n",
              "      <td>0.000000</td>\n",
              "      <td>0.112</td>\n",
              "      <td>0.851</td>\n",
              "      <td>150.108</td>\n",
              "      <td>187246</td>\n",
              "      <td>4</td>\n",
              "      <td>0</td>\n",
              "    </tr>\n",
              "    <tr>\n",
              "      <th>3</th>\n",
              "      <td>Anitta</td>\n",
              "      <td>Some que ele vem atrás</td>\n",
              "      <td>2qD7VoDYcrAPY0cVEfpsR5</td>\n",
              "      <td>84</td>\n",
              "      <td>0.648</td>\n",
              "      <td>0.795</td>\n",
              "      <td>0</td>\n",
              "      <td>-5.536</td>\n",
              "      <td>0</td>\n",
              "      <td>0.1700</td>\n",
              "      <td>0.0748</td>\n",
              "      <td>0.000000</td>\n",
              "      <td>0.380</td>\n",
              "      <td>0.598</td>\n",
              "      <td>180.043</td>\n",
              "      <td>194771</td>\n",
              "      <td>4</td>\n",
              "      <td>5</td>\n",
              "    </tr>\n",
              "    <tr>\n",
              "      <th>4</th>\n",
              "      <td>Jorge &amp; Mateus</td>\n",
              "      <td>Cheirosa - Ao Vivo</td>\n",
              "      <td>2PWjKmjyTZeDpmOUa3a5da</td>\n",
              "      <td>84</td>\n",
              "      <td>0.528</td>\n",
              "      <td>0.870</td>\n",
              "      <td>11</td>\n",
              "      <td>-3.123</td>\n",
              "      <td>1</td>\n",
              "      <td>0.0851</td>\n",
              "      <td>0.2400</td>\n",
              "      <td>0.000000</td>\n",
              "      <td>0.333</td>\n",
              "      <td>0.714</td>\n",
              "      <td>152.370</td>\n",
              "      <td>181930</td>\n",
              "      <td>4</td>\n",
              "      <td>4</td>\n",
              "    </tr>\n",
              "  </tbody>\n",
              "</table>\n",
              "</div>"
            ],
            "text/plain": [
              "        artist_name                  track_name                track_id  \\\n",
              "0      Dadá Boladão  Surtada - Remix Brega Funk  5F8ffc8KWKNawllr5WsW0r   \n",
              "1  Marília Mendonça            Supera - Ao Vivo  3GmJxfnUDrIs1iCfKUELFz   \n",
              "2       MC Du Black            Gaiola É o Troco  3Uq45ipGutypFPmETfaoaH   \n",
              "3            Anitta      Some que ele vem atrás  2qD7VoDYcrAPY0cVEfpsR5   \n",
              "4    Jorge & Mateus          Cheirosa - Ao Vivo  2PWjKmjyTZeDpmOUa3a5da   \n",
              "\n",
              "   popularity  danceability  energy  key  loudness  mode  speechiness  \\\n",
              "0          86         0.832   0.550    5    -7.026     0       0.0587   \n",
              "1          85         0.665   0.743    4    -4.434     1       0.0567   \n",
              "2          85         0.722   0.840   10    -3.240     0       0.0785   \n",
              "3          84         0.648   0.795    0    -5.536     0       0.1700   \n",
              "4          84         0.528   0.870   11    -3.123     1       0.0851   \n",
              "\n",
              "   acousticness  instrumentalness  liveness  valence    tempo  duration_ms  \\\n",
              "0        0.2490          0.000008     0.182    0.881  154.064       152784   \n",
              "1        0.0604          0.000000     0.959    0.658  131.573       147748   \n",
              "2        0.4200          0.000000     0.112    0.851  150.108       187246   \n",
              "3        0.0748          0.000000     0.380    0.598  180.043       194771   \n",
              "4        0.2400          0.000000     0.333    0.714  152.370       181930   \n",
              "\n",
              "   time_signature  cluster  \n",
              "0               4        0  \n",
              "1               4        1  \n",
              "2               4        0  \n",
              "3               4        5  \n",
              "4               4        4  "
            ]
          },
          "metadata": {
            "tags": []
          },
          "execution_count": 13
        }
      ]
    },
    {
      "cell_type": "code",
      "metadata": {
        "id": "gm9BwEZwVjah",
        "colab_type": "code",
        "colab": {
          "base_uri": "https://localhost:8080/",
          "height": 340
        },
        "outputId": "85f63984-9013-47ea-e525-dd713f03c86f"
      },
      "source": [
        "# checando valores nulos\n",
        "(df.isnull().sum()/ df.shape[0]).sort_values(ascending=False)"
      ],
      "execution_count": null,
      "outputs": [
        {
          "output_type": "execute_result",
          "data": {
            "text/plain": [
              "cluster             0.0\n",
              "time_signature      0.0\n",
              "track_name          0.0\n",
              "track_id            0.0\n",
              "popularity          0.0\n",
              "danceability        0.0\n",
              "energy              0.0\n",
              "key                 0.0\n",
              "loudness            0.0\n",
              "mode                0.0\n",
              "speechiness         0.0\n",
              "acousticness        0.0\n",
              "instrumentalness    0.0\n",
              "liveness            0.0\n",
              "valence             0.0\n",
              "tempo               0.0\n",
              "duration_ms         0.0\n",
              "artist_name         0.0\n",
              "dtype: float64"
            ]
          },
          "metadata": {
            "tags": []
          },
          "execution_count": 14
        }
      ]
    },
    {
      "cell_type": "code",
      "metadata": {
        "id": "bPOwpx6GVnV0",
        "colab_type": "code",
        "colab": {
          "base_uri": "https://localhost:8080/",
          "height": 153
        },
        "outputId": "22f8d223-4ac9-41d5-ed9a-3f57677cd886"
      },
      "source": [
        "# média de popularidade por cluster\n",
        "df.groupby(['cluster']).popularity.mean().sort_values(ascending=False)"
      ],
      "execution_count": null,
      "outputs": [
        {
          "output_type": "execute_result",
          "data": {
            "text/plain": [
              "cluster\n",
              "2    76.111111\n",
              "0    73.975000\n",
              "4    73.421875\n",
              "5    72.434783\n",
              "1    67.888889\n",
              "3    67.090909\n",
              "Name: popularity, dtype: float64"
            ]
          },
          "metadata": {
            "tags": []
          },
          "execution_count": 15
        }
      ]
    },
    {
      "cell_type": "code",
      "metadata": {
        "id": "4vhXLeWMVsnI",
        "colab_type": "code",
        "colab": {
          "base_uri": "https://localhost:8080/",
          "height": 136
        },
        "outputId": "a3257cca-acbb-41e7-d3ef-aeffbcda24d3"
      },
      "source": [
        "# conferindo o número de músicas por cluster\n",
        "df['cluster'].value_counts()"
      ],
      "execution_count": null,
      "outputs": [
        {
          "output_type": "execute_result",
          "data": {
            "text/plain": [
              "0    80\n",
              "4    64\n",
              "1    54\n",
              "5    46\n",
              "2    45\n",
              "3    11\n",
              "Name: cluster, dtype: int64"
            ]
          },
          "metadata": {
            "tags": []
          },
          "execution_count": 16
        }
      ]
    },
    {
      "cell_type": "code",
      "metadata": {
        "id": "ZEnXdnLuWJ7S",
        "colab_type": "code",
        "colab": {
          "base_uri": "https://localhost:8080/",
          "height": 583
        },
        "outputId": "f4e5f8b3-8adb-4f49-a874-edf95855d32c"
      },
      "source": [
        "# checando as músicas no cluster\n",
        "df.loc[df['cluster'] == 3][:10]"
      ],
      "execution_count": null,
      "outputs": [
        {
          "output_type": "execute_result",
          "data": {
            "text/html": [
              "<div>\n",
              "<style scoped>\n",
              "    .dataframe tbody tr th:only-of-type {\n",
              "        vertical-align: middle;\n",
              "    }\n",
              "\n",
              "    .dataframe tbody tr th {\n",
              "        vertical-align: top;\n",
              "    }\n",
              "\n",
              "    .dataframe thead th {\n",
              "        text-align: right;\n",
              "    }\n",
              "</style>\n",
              "<table border=\"1\" class=\"dataframe\">\n",
              "  <thead>\n",
              "    <tr style=\"text-align: right;\">\n",
              "      <th></th>\n",
              "      <th>artist_name</th>\n",
              "      <th>track_name</th>\n",
              "      <th>track_id</th>\n",
              "      <th>popularity</th>\n",
              "      <th>danceability</th>\n",
              "      <th>energy</th>\n",
              "      <th>key</th>\n",
              "      <th>loudness</th>\n",
              "      <th>mode</th>\n",
              "      <th>speechiness</th>\n",
              "      <th>acousticness</th>\n",
              "      <th>instrumentalness</th>\n",
              "      <th>liveness</th>\n",
              "      <th>valence</th>\n",
              "      <th>tempo</th>\n",
              "      <th>duration_ms</th>\n",
              "      <th>time_signature</th>\n",
              "      <th>cluster</th>\n",
              "    </tr>\n",
              "  </thead>\n",
              "  <tbody>\n",
              "    <tr>\n",
              "      <th>72</th>\n",
              "      <td>MC Kevin o Chris</td>\n",
              "      <td>Ela É do Tipo</td>\n",
              "      <td>2x8TNY9KwNvD19gVGs4WOP</td>\n",
              "      <td>76</td>\n",
              "      <td>0.632</td>\n",
              "      <td>0.398</td>\n",
              "      <td>6</td>\n",
              "      <td>-6.615</td>\n",
              "      <td>1</td>\n",
              "      <td>0.3730</td>\n",
              "      <td>0.945</td>\n",
              "      <td>0.000000</td>\n",
              "      <td>0.2280</td>\n",
              "      <td>0.6330</td>\n",
              "      <td>90.695</td>\n",
              "      <td>204931</td>\n",
              "      <td>4</td>\n",
              "      <td>3</td>\n",
              "    </tr>\n",
              "    <tr>\n",
              "      <th>74</th>\n",
              "      <td>Selena Gomez</td>\n",
              "      <td>Lose You To Love Me</td>\n",
              "      <td>1HfMVBKM75vxSfsQ5VefZ5</td>\n",
              "      <td>98</td>\n",
              "      <td>0.505</td>\n",
              "      <td>0.340</td>\n",
              "      <td>4</td>\n",
              "      <td>-9.005</td>\n",
              "      <td>1</td>\n",
              "      <td>0.0438</td>\n",
              "      <td>0.576</td>\n",
              "      <td>0.000000</td>\n",
              "      <td>0.2100</td>\n",
              "      <td>0.0916</td>\n",
              "      <td>101.993</td>\n",
              "      <td>206459</td>\n",
              "      <td>4</td>\n",
              "      <td>3</td>\n",
              "    </tr>\n",
              "    <tr>\n",
              "      <th>108</th>\n",
              "      <td>Lewis Capaldi</td>\n",
              "      <td>Someone You Loved</td>\n",
              "      <td>7qEHsqek33rTcFNT9PFqLf</td>\n",
              "      <td>96</td>\n",
              "      <td>0.501</td>\n",
              "      <td>0.405</td>\n",
              "      <td>1</td>\n",
              "      <td>-5.679</td>\n",
              "      <td>1</td>\n",
              "      <td>0.0319</td>\n",
              "      <td>0.751</td>\n",
              "      <td>0.000000</td>\n",
              "      <td>0.1050</td>\n",
              "      <td>0.4460</td>\n",
              "      <td>109.891</td>\n",
              "      <td>182161</td>\n",
              "      <td>4</td>\n",
              "      <td>3</td>\n",
              "    </tr>\n",
              "    <tr>\n",
              "      <th>206</th>\n",
              "      <td>MC Caverinha</td>\n",
              "      <td>Flash</td>\n",
              "      <td>3UEm2avDtIIaT3UvuvsxES</td>\n",
              "      <td>70</td>\n",
              "      <td>0.913</td>\n",
              "      <td>0.366</td>\n",
              "      <td>7</td>\n",
              "      <td>-14.341</td>\n",
              "      <td>1</td>\n",
              "      <td>0.3290</td>\n",
              "      <td>0.731</td>\n",
              "      <td>0.000023</td>\n",
              "      <td>0.1480</td>\n",
              "      <td>0.1230</td>\n",
              "      <td>125.035</td>\n",
              "      <td>155937</td>\n",
              "      <td>4</td>\n",
              "      <td>3</td>\n",
              "    </tr>\n",
              "    <tr>\n",
              "      <th>230</th>\n",
              "      <td>ANAVITÓRIA</td>\n",
              "      <td>relicário</td>\n",
              "      <td>1fZgxJgmmOl8zCyHgcKAWE</td>\n",
              "      <td>65</td>\n",
              "      <td>0.431</td>\n",
              "      <td>0.260</td>\n",
              "      <td>0</td>\n",
              "      <td>-12.001</td>\n",
              "      <td>1</td>\n",
              "      <td>0.0382</td>\n",
              "      <td>0.840</td>\n",
              "      <td>0.000150</td>\n",
              "      <td>0.1040</td>\n",
              "      <td>0.1570</td>\n",
              "      <td>159.567</td>\n",
              "      <td>245539</td>\n",
              "      <td>3</td>\n",
              "      <td>3</td>\n",
              "    </tr>\n",
              "    <tr>\n",
              "      <th>271</th>\n",
              "      <td>ANAVITÓRIA</td>\n",
              "      <td>pra você guardei o amor</td>\n",
              "      <td>1TNXJFbHrXe3gVch3HxD7p</td>\n",
              "      <td>62</td>\n",
              "      <td>0.579</td>\n",
              "      <td>0.221</td>\n",
              "      <td>2</td>\n",
              "      <td>-13.962</td>\n",
              "      <td>1</td>\n",
              "      <td>0.0325</td>\n",
              "      <td>0.928</td>\n",
              "      <td>0.002670</td>\n",
              "      <td>0.1090</td>\n",
              "      <td>0.3140</td>\n",
              "      <td>77.113</td>\n",
              "      <td>228785</td>\n",
              "      <td>4</td>\n",
              "      <td>3</td>\n",
              "    </tr>\n",
              "    <tr>\n",
              "      <th>283</th>\n",
              "      <td>Billie Eilish</td>\n",
              "      <td>when the party's over</td>\n",
              "      <td>43zdsphuZLzwA9k4DJhU0I</td>\n",
              "      <td>90</td>\n",
              "      <td>0.367</td>\n",
              "      <td>0.111</td>\n",
              "      <td>4</td>\n",
              "      <td>-14.084</td>\n",
              "      <td>1</td>\n",
              "      <td>0.0972</td>\n",
              "      <td>0.978</td>\n",
              "      <td>0.000040</td>\n",
              "      <td>0.0897</td>\n",
              "      <td>0.1980</td>\n",
              "      <td>82.642</td>\n",
              "      <td>196077</td>\n",
              "      <td>4</td>\n",
              "      <td>3</td>\n",
              "    </tr>\n",
              "    <tr>\n",
              "      <th>291</th>\n",
              "      <td>ANAVITÓRIA</td>\n",
              "      <td>por onde andei</td>\n",
              "      <td>22AAo9zdJD18OX6tC1VR95</td>\n",
              "      <td>61</td>\n",
              "      <td>0.602</td>\n",
              "      <td>0.474</td>\n",
              "      <td>0</td>\n",
              "      <td>-11.731</td>\n",
              "      <td>1</td>\n",
              "      <td>0.0647</td>\n",
              "      <td>0.925</td>\n",
              "      <td>0.011100</td>\n",
              "      <td>0.1940</td>\n",
              "      <td>0.4330</td>\n",
              "      <td>168.035</td>\n",
              "      <td>208573</td>\n",
              "      <td>4</td>\n",
              "      <td>3</td>\n",
              "    </tr>\n",
              "    <tr>\n",
              "      <th>292</th>\n",
              "      <td>Maroon 5</td>\n",
              "      <td>Happy Christmas (War Is Over) - Bonus Track</td>\n",
              "      <td>1nEN1kpLEZ0sJWKRUQT03k</td>\n",
              "      <td>0</td>\n",
              "      <td>0.441</td>\n",
              "      <td>0.157</td>\n",
              "      <td>2</td>\n",
              "      <td>-10.792</td>\n",
              "      <td>1</td>\n",
              "      <td>0.0307</td>\n",
              "      <td>0.936</td>\n",
              "      <td>0.000000</td>\n",
              "      <td>0.1070</td>\n",
              "      <td>0.1860</td>\n",
              "      <td>143.241</td>\n",
              "      <td>206707</td>\n",
              "      <td>3</td>\n",
              "      <td>3</td>\n",
              "    </tr>\n",
              "    <tr>\n",
              "      <th>297</th>\n",
              "      <td>ANAVITÓRIA</td>\n",
              "      <td>as coisas tão mais lindas</td>\n",
              "      <td>2qvSChyYgm8ybTncALA4pD</td>\n",
              "      <td>60</td>\n",
              "      <td>0.490</td>\n",
              "      <td>0.290</td>\n",
              "      <td>0</td>\n",
              "      <td>-13.905</td>\n",
              "      <td>1</td>\n",
              "      <td>0.0312</td>\n",
              "      <td>0.844</td>\n",
              "      <td>0.000247</td>\n",
              "      <td>0.1560</td>\n",
              "      <td>0.1840</td>\n",
              "      <td>81.724</td>\n",
              "      <td>218275</td>\n",
              "      <td>4</td>\n",
              "      <td>3</td>\n",
              "    </tr>\n",
              "  </tbody>\n",
              "</table>\n",
              "</div>"
            ],
            "text/plain": [
              "          artist_name                                   track_name  \\\n",
              "72   MC Kevin o Chris                                Ela É do Tipo   \n",
              "74       Selena Gomez                          Lose You To Love Me   \n",
              "108     Lewis Capaldi                            Someone You Loved   \n",
              "206      MC Caverinha                                        Flash   \n",
              "230        ANAVITÓRIA                                    relicário   \n",
              "271        ANAVITÓRIA                      pra você guardei o amor   \n",
              "283     Billie Eilish                        when the party's over   \n",
              "291        ANAVITÓRIA                               por onde andei   \n",
              "292          Maroon 5  Happy Christmas (War Is Over) - Bonus Track   \n",
              "297        ANAVITÓRIA                    as coisas tão mais lindas   \n",
              "\n",
              "                   track_id  popularity  danceability  energy  key  loudness  \\\n",
              "72   2x8TNY9KwNvD19gVGs4WOP          76         0.632   0.398    6    -6.615   \n",
              "74   1HfMVBKM75vxSfsQ5VefZ5          98         0.505   0.340    4    -9.005   \n",
              "108  7qEHsqek33rTcFNT9PFqLf          96         0.501   0.405    1    -5.679   \n",
              "206  3UEm2avDtIIaT3UvuvsxES          70         0.913   0.366    7   -14.341   \n",
              "230  1fZgxJgmmOl8zCyHgcKAWE          65         0.431   0.260    0   -12.001   \n",
              "271  1TNXJFbHrXe3gVch3HxD7p          62         0.579   0.221    2   -13.962   \n",
              "283  43zdsphuZLzwA9k4DJhU0I          90         0.367   0.111    4   -14.084   \n",
              "291  22AAo9zdJD18OX6tC1VR95          61         0.602   0.474    0   -11.731   \n",
              "292  1nEN1kpLEZ0sJWKRUQT03k           0         0.441   0.157    2   -10.792   \n",
              "297  2qvSChyYgm8ybTncALA4pD          60         0.490   0.290    0   -13.905   \n",
              "\n",
              "     mode  speechiness  acousticness  instrumentalness  liveness  valence  \\\n",
              "72      1       0.3730         0.945          0.000000    0.2280   0.6330   \n",
              "74      1       0.0438         0.576          0.000000    0.2100   0.0916   \n",
              "108     1       0.0319         0.751          0.000000    0.1050   0.4460   \n",
              "206     1       0.3290         0.731          0.000023    0.1480   0.1230   \n",
              "230     1       0.0382         0.840          0.000150    0.1040   0.1570   \n",
              "271     1       0.0325         0.928          0.002670    0.1090   0.3140   \n",
              "283     1       0.0972         0.978          0.000040    0.0897   0.1980   \n",
              "291     1       0.0647         0.925          0.011100    0.1940   0.4330   \n",
              "292     1       0.0307         0.936          0.000000    0.1070   0.1860   \n",
              "297     1       0.0312         0.844          0.000247    0.1560   0.1840   \n",
              "\n",
              "       tempo  duration_ms  time_signature  cluster  \n",
              "72    90.695       204931               4        3  \n",
              "74   101.993       206459               4        3  \n",
              "108  109.891       182161               4        3  \n",
              "206  125.035       155937               4        3  \n",
              "230  159.567       245539               3        3  \n",
              "271   77.113       228785               4        3  \n",
              "283   82.642       196077               4        3  \n",
              "291  168.035       208573               4        3  \n",
              "292  143.241       206707               3        3  \n",
              "297   81.724       218275               4        3  "
            ]
          },
          "metadata": {
            "tags": []
          },
          "execution_count": 19
        }
      ]
    },
    {
      "cell_type": "code",
      "metadata": {
        "id": "HFEuttzMW5BT",
        "colab_type": "code",
        "colab": {}
      },
      "source": [
        ""
      ],
      "execution_count": null,
      "outputs": []
    }
  ]
}