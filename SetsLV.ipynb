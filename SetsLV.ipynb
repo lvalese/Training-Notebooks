{
  "nbformat": 4,
  "nbformat_minor": 0,
  "metadata": {
    "colab": {
      "name": "SetsLV.ipynb",
      "provenance": [],
      "collapsed_sections": [],
      "authorship_tag": "ABX9TyN8QMV7gt7EdCfQ0B0lOAe3",
      "include_colab_link": true
    },
    "kernelspec": {
      "name": "python3",
      "display_name": "Python 3"
    }
  },
  "cells": [
    {
      "cell_type": "markdown",
      "metadata": {
        "id": "view-in-github",
        "colab_type": "text"
      },
      "source": [
        "<a href=\"https://colab.research.google.com/github/lvalese/Training-Notebooks/blob/master/SetsLV.ipynb\" target=\"_parent\"><img src=\"https://colab.research.google.com/assets/colab-badge.svg\" alt=\"Open In Colab\"/></a>"
      ]
    },
    {
      "cell_type": "markdown",
      "metadata": {
        "id": "IhU3_VbIlTyX",
        "colab_type": "text"
      },
      "source": [
        "## Sets in Python\n",
        "Set is an unordered collection with no duplicate elements. Basic uses include membership testing and eliminating duplicate entries. Set objects also support mathematical operations like union, intersection, difference, and symmetric difference.\n",
        "\n",
        "---\n"
      ]
    },
    {
      "cell_type": "code",
      "metadata": {
        "id": "LVYXaXa8Il6Q",
        "colab_type": "code",
        "colab": {
          "base_uri": "https://localhost:8080/",
          "height": 33
        },
        "outputId": "0dae5a46-dcae-495a-9599-6d3d6f6e366a"
      },
      "source": [
        "# Create a set \n",
        "# A set is a unique collection of objects in Python. You can denote a set with a curly bracket {}. Python will automatically remove duplicate items\n",
        "\n",
        "setA = {\"Palmeiras\", \"Corinthians\", \"Santos\", \"Cruzeiro\", \"Santos\", \"Flamengo\", \"Cruzeiro\", \"Palmeiras\"}\n",
        "setA"
      ],
      "execution_count": 1,
      "outputs": [
        {
          "output_type": "execute_result",
          "data": {
            "text/plain": [
              "{'Corinthians', 'Cruzeiro', 'Flamengo', 'Palmeiras', 'Santos'}"
            ]
          },
          "metadata": {
            "tags": []
          },
          "execution_count": 1
        }
      ]
    },
    {
      "cell_type": "code",
      "metadata": {
        "id": "B7sA8dXpMLeP",
        "colab_type": "code",
        "colab": {
          "base_uri": "https://localhost:8080/",
          "height": 33
        },
        "outputId": "b99098d5-9e0d-4d14-b601-00acdd30798f"
      },
      "source": [
        "# We can add an element to a set\n",
        "\n",
        "setA.add(\"Bahia\")\n",
        "setA"
      ],
      "execution_count": 2,
      "outputs": [
        {
          "output_type": "execute_result",
          "data": {
            "text/plain": [
              "{'Bahia', 'Corinthians', 'Cruzeiro', 'Flamengo', 'Palmeiras', 'Santos'}"
            ]
          },
          "metadata": {
            "tags": []
          },
          "execution_count": 2
        }
      ]
    },
    {
      "cell_type": "code",
      "metadata": {
        "id": "CkxOJ_EmMbYB",
        "colab_type": "code",
        "colab": {
          "base_uri": "https://localhost:8080/",
          "height": 33
        },
        "outputId": "d39ca64b-0f65-442a-9fed-0a70c3ee6d16"
      },
      "source": [
        "# We can remove an element from a set\n",
        "\n",
        "setA.remove (\"Flamengo\")\n",
        "setA"
      ],
      "execution_count": 4,
      "outputs": [
        {
          "output_type": "execute_result",
          "data": {
            "text/plain": [
              "{'Bahia', 'Corinthians', 'Cruzeiro', 'Palmeiras', 'Santos'}"
            ]
          },
          "metadata": {
            "tags": []
          },
          "execution_count": 4
        }
      ]
    },
    {
      "cell_type": "code",
      "metadata": {
        "id": "XlueoqAjMozx",
        "colab_type": "code",
        "colab": {
          "base_uri": "https://localhost:8080/",
          "height": 33
        },
        "outputId": "1f9b511f-510d-4b58-8a9b-21fc09934dfc"
      },
      "source": [
        "# We can verify if an element is in the set\n",
        "\n",
        "\"Palmeiras\" in setA"
      ],
      "execution_count": 5,
      "outputs": [
        {
          "output_type": "execute_result",
          "data": {
            "text/plain": [
              "True"
            ]
          },
          "metadata": {
            "tags": []
          },
          "execution_count": 5
        }
      ]
    },
    {
      "cell_type": "markdown",
      "metadata": {
        "id": "uuaYD4YLNAQt",
        "colab_type": "text"
      },
      "source": [
        "You can check the difference between sets, as well as the symmetric difference, intersection, and union:"
      ]
    },
    {
      "cell_type": "code",
      "metadata": {
        "id": "KAIW1qWFM1PA",
        "colab_type": "code",
        "colab": {
          "base_uri": "https://localhost:8080/",
          "height": 50
        },
        "outputId": "2404cf11-a351-4f09-c2c8-94808af52f7b"
      },
      "source": [
        "# Considering the below Sample Sets:\n",
        "\n",
        "setA = {\"Palmeiras\", \"Corinthians\", \"Santos\", \"Cruzeiro\", \"Santos\", \"Cruzeiro\", \"Palmeiras\"}\n",
        "setB = {\"Palmeiras\", \"Cruzeiro\", \"Flamengo\", \"Cruzeiro\", \"Palmeiras\", \"Bahia\"}\n",
        "setA, setB"
      ],
      "execution_count": 6,
      "outputs": [
        {
          "output_type": "execute_result",
          "data": {
            "text/plain": [
              "({'Corinthians', 'Cruzeiro', 'Palmeiras', 'Santos'},\n",
              " {'Bahia', 'Cruzeiro', 'Flamengo', 'Palmeiras'})"
            ]
          },
          "metadata": {
            "tags": []
          },
          "execution_count": 6
        }
      ]
    },
    {
      "cell_type": "code",
      "metadata": {
        "id": "aEsyQRLJNcPT",
        "colab_type": "code",
        "colab": {
          "base_uri": "https://localhost:8080/",
          "height": 33
        },
        "outputId": "005212db-5a79-43e3-ca0b-361313bf6e17"
      },
      "source": [
        "# We can find the intersections:\n",
        "\n",
        "intersection = setA & setB\n",
        "intersection"
      ],
      "execution_count": 7,
      "outputs": [
        {
          "output_type": "execute_result",
          "data": {
            "text/plain": [
              "{'Cruzeiro', 'Palmeiras'}"
            ]
          },
          "metadata": {
            "tags": []
          },
          "execution_count": 7
        }
      ]
    },
    {
      "cell_type": "code",
      "metadata": {
        "id": "6av_NsIbNoMe",
        "colab_type": "code",
        "colab": {
          "base_uri": "https://localhost:8080/",
          "height": 33
        },
        "outputId": "08bec6de-0bdb-4a9f-de6a-f957010b5286"
      },
      "source": [
        "# We can find the elements that are in setB, but not in setA:\n",
        "\n",
        "setB.difference(setA)  "
      ],
      "execution_count": 8,
      "outputs": [
        {
          "output_type": "execute_result",
          "data": {
            "text/plain": [
              "{'Bahia', 'Flamengo'}"
            ]
          },
          "metadata": {
            "tags": []
          },
          "execution_count": 8
        }
      ]
    },
    {
      "cell_type": "code",
      "metadata": {
        "id": "SPcroGmUNyiD",
        "colab_type": "code",
        "colab": {
          "base_uri": "https://localhost:8080/",
          "height": 33
        },
        "outputId": "f2f25347-a573-4f35-c0bb-149f91c8785f"
      },
      "source": [
        "# We can find the union of two sets\n",
        "\n",
        "setA.union(setB)"
      ],
      "execution_count": 9,
      "outputs": [
        {
          "output_type": "execute_result",
          "data": {
            "text/plain": [
              "{'Bahia', 'Corinthians', 'Cruzeiro', 'Flamengo', 'Palmeiras', 'Santos'}"
            ]
          },
          "metadata": {
            "tags": []
          },
          "execution_count": 9
        }
      ]
    },
    {
      "cell_type": "code",
      "metadata": {
        "id": "xIZYqpDsOF6w",
        "colab_type": "code",
        "colab": {}
      },
      "source": [
        "# This is the end of this Notebook with some examples of the usage of Sets.\n"
      ],
      "execution_count": 0,
      "outputs": []
    },
    {
      "cell_type": "markdown",
      "metadata": {
        "id": "XZFNsgr81ZgR",
        "colab_type": "text"
      },
      "source": [
        "Feel free to use and share at any time!\n",
        "\n",
        "Rgds,\n",
        "####**L.V.**"
      ]
    }
  ]
}