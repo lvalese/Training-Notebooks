{
  "nbformat": 4,
  "nbformat_minor": 0,
  "metadata": {
    "colab": {
      "name": "TuplesLV.ipynb",
      "provenance": [],
      "collapsed_sections": [],
      "toc_visible": true,
      "authorship_tag": "ABX9TyNd50sorzzrYX32wrmfIk9A",
      "include_colab_link": true
    },
    "kernelspec": {
      "name": "python3",
      "display_name": "Python 3"
    }
  },
  "cells": [
    {
      "cell_type": "markdown",
      "metadata": {
        "id": "view-in-github",
        "colab_type": "text"
      },
      "source": [
        "<a href=\"https://colab.research.google.com/github/lvalese/Training-Notebooks/blob/master/TuplesLV.ipynb\" target=\"_parent\"><img src=\"https://colab.research.google.com/assets/colab-badge.svg\" alt=\"Open In Colab\"/></a>"
      ]
    },
    {
      "cell_type": "markdown",
      "metadata": {
        "id": "IhU3_VbIlTyX",
        "colab_type": "text"
      },
      "source": [
        "## Tuples in Python\n",
        "A tuple is a sequence of **immutable** Python objects. Tuples are sequences, just like lists.\n",
        "List and Tuple in Python are the class of data structure. The list is dynamic, whereas tuple has static characteristics. Tuple is also a sequence data type that can contain elements of different data types, but these are immutable in nature. In other words, a tuple is a collection of Python objects separated by commas.\n",
        "Tuples are used to group together related data, such as a person's name, their age, and their gender. An assignment to all of the elements in a tuple using a single assignment statement.\n",
        "\n",
        "---\n"
      ]
    },
    {
      "cell_type": "code",
      "metadata": {
        "id": "CY-wyNRD3moI",
        "colab_type": "code",
        "outputId": "6d554645-7aaa-46ee-9f84-4d320e251303",
        "colab": {
          "base_uri": "https://localhost:8080/",
          "height": 35
        }
      },
      "source": [
        "# Create a tuple:\n",
        "\n",
        "MyDaughter = (\"Lavinia\", 2019, 0.5, \"female\")\n",
        "MyDaughter\n",
        "\n",
        "\n",
        "\n"
      ],
      "execution_count": 2,
      "outputs": [
        {
          "output_type": "execute_result",
          "data": {
            "text/plain": [
              "('Lavinia', 2019, 0.5, 'female')"
            ]
          },
          "metadata": {
            "tags": []
          },
          "execution_count": 2
        }
      ]
    },
    {
      "cell_type": "code",
      "metadata": {
        "id": "q9xum1lgs0JZ",
        "colab_type": "code",
        "colab": {
          "base_uri": "https://localhost:8080/",
          "height": 35
        },
        "outputId": "212345f1-3a1e-44d6-edb5-c8a593d4b402"
      },
      "source": [
        "# You can print the type of this variable\n",
        "type (MyDaughter)"
      ],
      "execution_count": 4,
      "outputs": [
        {
          "output_type": "execute_result",
          "data": {
            "text/plain": [
              "tuple"
            ]
          },
          "metadata": {
            "tags": []
          },
          "execution_count": 4
        }
      ]
    },
    {
      "cell_type": "markdown",
      "metadata": {
        "id": "z93BRlHuwarM",
        "colab_type": "text"
      },
      "source": [
        "#####*Indexing:*\n",
        "\n"
      ]
    },
    {
      "cell_type": "code",
      "metadata": {
        "id": "pcgr3mkbvgo-",
        "colab_type": "code",
        "colab": {}
      },
      "source": [
        "# Each element in the Tuple can be accessed using an index represented by the array of numbers:"
      ],
      "execution_count": 0,
      "outputs": []
    },
    {
      "cell_type": "markdown",
      "metadata": {
        "id": "pr6fyckAwI9X",
        "colab_type": "text"
      },
      "source": [
        "| **0** | **1** | **2** | **3** |\n",
        "|:-----:|:-----:|:-----:|:-----:|\n",
        "Lavinia|2019|0.5|Female|"
      ]
    },
    {
      "cell_type": "code",
      "metadata": {
        "id": "L679-F-J6JfL",
        "colab_type": "code",
        "outputId": "f30351e2-34dd-4466-ef62-ced234e223c0",
        "colab": {
          "base_uri": "https://localhost:8080/",
          "height": 35
        }
      },
      "source": [
        "# Indexing returns the item:\n",
        "MyDaughter [0]"
      ],
      "execution_count": 5,
      "outputs": [
        {
          "output_type": "execute_result",
          "data": {
            "text/plain": [
              "'Lavinia'"
            ]
          },
          "metadata": {
            "tags": []
          },
          "execution_count": 5
        }
      ]
    },
    {
      "cell_type": "code",
      "metadata": {
        "id": "WLBihYPH6TIH",
        "colab_type": "code",
        "outputId": "edaea77f-f3b9-4594-cbb4-b6f1fbee8c85",
        "colab": {
          "base_uri": "https://localhost:8080/",
          "height": 87
        }
      },
      "source": [
        "# Indexing returns the type of value in each index:\n",
        "print(type(MyDaughter[0]))\n",
        "print(type(MyDaughter[1]))\n",
        "print(type(MyDaughter[2]))\n",
        "print(type(MyDaughter[3]))"
      ],
      "execution_count": 6,
      "outputs": [
        {
          "output_type": "stream",
          "text": [
            "<class 'str'>\n",
            "<class 'int'>\n",
            "<class 'float'>\n",
            "<class 'str'>\n"
          ],
          "name": "stdout"
        }
      ]
    },
    {
      "cell_type": "markdown",
      "metadata": {
        "colab_type": "text",
        "id": "Ez_TNKFh6bDE"
      },
      "source": [
        "#####*Slicing:*\n",
        "\n"
      ]
    },
    {
      "cell_type": "code",
      "metadata": {
        "id": "7KSChpIb6U5I",
        "colab_type": "code",
        "outputId": "35369cde-a5af-465e-e0f0-d3508211647e",
        "colab": {
          "base_uri": "https://localhost:8080/",
          "height": 35
        }
      },
      "source": [
        "# We can slice tuples, obtaining new tuples with the corresponding elements:\n",
        "MyDaughter [0:2]"
      ],
      "execution_count": 7,
      "outputs": [
        {
          "output_type": "execute_result",
          "data": {
            "text/plain": [
              "('Lavinia', 2019)"
            ]
          },
          "metadata": {
            "tags": []
          },
          "execution_count": 7
        }
      ]
    },
    {
      "cell_type": "markdown",
      "metadata": {
        "colab_type": "text",
        "id": "s0foRb1N62Fx"
      },
      "source": [
        "#####*Lenght:*\n",
        "\n"
      ]
    },
    {
      "cell_type": "code",
      "metadata": {
        "id": "Yax2ScvcvfOL",
        "colab_type": "code",
        "colab": {
          "base_uri": "https://localhost:8080/",
          "height": 35
        },
        "outputId": "0292fc31-cfbd-48c4-ea94-6727d50ba92c"
      },
      "source": [
        "# We can find the lenght of a tuple:\n",
        "len (MyDaughter)"
      ],
      "execution_count": 15,
      "outputs": [
        {
          "output_type": "execute_result",
          "data": {
            "text/plain": [
              "4"
            ]
          },
          "metadata": {
            "tags": []
          },
          "execution_count": 15
        }
      ]
    },
    {
      "cell_type": "markdown",
      "metadata": {
        "colab_type": "text",
        "id": "XMr4gueO61vZ"
      },
      "source": [
        "#####*Sorting:*\n",
        "\n"
      ]
    },
    {
      "cell_type": "code",
      "metadata": {
        "id": "woo3Pd0x6oOm",
        "colab_type": "code",
        "outputId": "428d34e7-a2ec-4cfe-ec3b-f98296a7dcb1",
        "colab": {
          "base_uri": "https://localhost:8080/",
          "height": 35
        }
      },
      "source": [
        "# Consider the following Tuple:\n",
        "Months = (3, 11, 4, 6, 1, 7, 10, 8, 2, 5, 9, 12)\n",
        "Months \n",
        "\n"
      ],
      "execution_count": 11,
      "outputs": [
        {
          "output_type": "execute_result",
          "data": {
            "text/plain": [
              "(3, 11, 4, 6, 1, 7, 10, 8, 2, 5, 9, 12)"
            ]
          },
          "metadata": {
            "tags": []
          },
          "execution_count": 11
        }
      ]
    },
    {
      "cell_type": "code",
      "metadata": {
        "id": "PrZL_fYwvBMJ",
        "colab_type": "code",
        "colab": {
          "base_uri": "https://localhost:8080/",
          "height": 35
        },
        "outputId": "c4aa2797-e486-4f22-e810-7b07e2c84dc5"
      },
      "source": [
        "# We can sort a Tuple\n",
        "OrganizedMonths = sorted(Months)\n",
        "OrganizedMonths"
      ],
      "execution_count": 13,
      "outputs": [
        {
          "output_type": "execute_result",
          "data": {
            "text/plain": [
              "[1, 2, 3, 4, 5, 6, 7, 8, 9, 10, 11, 12]"
            ]
          },
          "metadata": {
            "tags": []
          },
          "execution_count": 13
        }
      ]
    },
    {
      "cell_type": "code",
      "metadata": {
        "id": "6MS8zlFX2Vls",
        "colab_type": "code",
        "colab": {}
      },
      "source": [
        "# This is the end of this Notebook with some examples of the usage of Tuples."
      ],
      "execution_count": 0,
      "outputs": []
    },
    {
      "cell_type": "markdown",
      "metadata": {
        "id": "XZFNsgr81ZgR",
        "colab_type": "text"
      },
      "source": [
        "Feel free to use and share at any time!\n",
        "\n",
        "Rgds,\n",
        "####**L.V.**"
      ]
    }
  ]
}
