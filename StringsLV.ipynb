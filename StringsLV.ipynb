{
  "nbformat": 4,
  "nbformat_minor": 0,
  "metadata": {
    "colab": {
      "name": "StringsLV.ipynb",
      "provenance": [],
      "collapsed_sections": [],
      "toc_visible": true,
      "authorship_tag": "ABX9TyPYr62UZi3fr1jh7XnsWtaP",
      "include_colab_link": true
    },
    "kernelspec": {
      "name": "python3",
      "display_name": "Python 3"
    }
  },
  "cells": [
    {
      "cell_type": "markdown",
      "metadata": {
        "id": "view-in-github",
        "colab_type": "text"
      },
      "source": [
        "<a href=\"https://colab.research.google.com/github/lvalese/Training-Notebooks/blob/master/StringsLV.ipynb\" target=\"_parent\"><img src=\"https://colab.research.google.com/assets/colab-badge.svg\" alt=\"Open In Colab\"/></a>"
      ]
    },
    {
      "cell_type": "code",
      "metadata": {
        "id": "kf4-_0uDrWW6",
        "colab_type": "code",
        "colab": {}
      },
      "source": [
        ""
      ],
      "execution_count": 0,
      "outputs": []
    },
    {
      "cell_type": "markdown",
      "metadata": {
        "id": "IhU3_VbIlTyX",
        "colab_type": "text"
      },
      "source": [
        "## Strings in Python\n",
        "We already learned that a string in Python is a sequence of characters.\n",
        "In this notebooks we will learn some functions of Strig in Python:\n",
        "\n",
        "---\n",
        "\n",
        "* `Indexing`\n",
        "* `Lenght`\n",
        "* `Slice`\n",
        "* `Stride`\n",
        "* `Split`\n",
        "* `Replace`\n",
        "* `Strip`\n",
        "* `Concatenate`"
      ]
    },
    {
      "cell_type": "code",
      "metadata": {
        "id": "V1ieGGdqsZvb",
        "colab_type": "code",
        "colab": {}
      },
      "source": [
        "# First let's start defining our variables:\n",
        "\n",
        "Name = \"Leonardo\"\n",
        "SoccerClub = \"Palmeiras\"\n",
        "Hobby = \"Play soccer\"\n",
        "FavouritePlayer = \"Dudu\""
      ],
      "execution_count": 0,
      "outputs": []
    },
    {
      "cell_type": "code",
      "metadata": {
        "id": "8jj8XLnwt52W",
        "colab_type": "code",
        "colab": {
          "base_uri": "https://localhost:8080/",
          "height": 35
        },
        "outputId": "734dfb05-4407-43b2-f9e5-bb45c70f676e"
      },
      "source": [
        "# Now we can call print to any variable we want:\n",
        "print (Name)"
      ],
      "execution_count": 3,
      "outputs": [
        {
          "output_type": "stream",
          "text": [
            "Leonardo\n"
          ],
          "name": "stdout"
        }
      ]
    },
    {
      "cell_type": "code",
      "metadata": {
        "id": "hn6NSE3cuPsy",
        "colab_type": "code",
        "colab": {
          "base_uri": "https://localhost:8080/",
          "height": 35
        },
        "outputId": "a32d9aeb-0275-4649-dc35-5f19f125b4f9"
      },
      "source": [
        "print (Hobby)"
      ],
      "execution_count": 5,
      "outputs": [
        {
          "output_type": "stream",
          "text": [
            "Play soccer\n"
          ],
          "name": "stdout"
        }
      ]
    },
    {
      "cell_type": "code",
      "metadata": {
        "id": "Fus7mafYuSNH",
        "colab_type": "code",
        "colab": {
          "base_uri": "https://localhost:8080/",
          "height": 35
        },
        "outputId": "e2aca53e-ac6a-441d-b12a-098d76e97428"
      },
      "source": [
        "print (SoccerClub, FavouritePlayer)"
      ],
      "execution_count": 8,
      "outputs": [
        {
          "output_type": "stream",
          "text": [
            "Palmeiras Dudu\n"
          ],
          "name": "stdout"
        }
      ]
    },
    {
      "cell_type": "code",
      "metadata": {
        "id": "kdjnP8o6ucPr",
        "colab_type": "code",
        "colab": {
          "base_uri": "https://localhost:8080/",
          "height": 35
        },
        "outputId": "f8bee7fd-1266-4440-8362-4283b1018905"
      },
      "source": [
        "print (\"My Soccer Club is\", SoccerClub)"
      ],
      "execution_count": 10,
      "outputs": [
        {
          "output_type": "stream",
          "text": [
            "My Soccer Club is Palmeiras\n"
          ],
          "name": "stdout"
        }
      ]
    },
    {
      "cell_type": "markdown",
      "metadata": {
        "id": "z93BRlHuwarM",
        "colab_type": "text"
      },
      "source": [
        "#####*Indexing:*\n",
        "\n"
      ]
    },
    {
      "cell_type": "code",
      "metadata": {
        "id": "pcgr3mkbvgo-",
        "colab_type": "code",
        "colab": {}
      },
      "source": [
        "# Each element in the sequence can be accessed using an index represented by the array of numbers:"
      ],
      "execution_count": 0,
      "outputs": []
    },
    {
      "cell_type": "markdown",
      "metadata": {
        "id": "pr6fyckAwI9X",
        "colab_type": "text"
      },
      "source": [
        "| **0** | **1** | **2** | **3** | **4** | **5** |**6** | **7** | **8** |\n",
        "|:-----:|:-----:|:-----:|:-----:|:-----:|:-----:|:-----:|:-----:|:-----:|\n",
        "| P     | a     | l     | m     | e     | i     | r     | a     | s     |"
      ]
    },
    {
      "cell_type": "code",
      "metadata": {
        "id": "vRgOGeexwAPC",
        "colab_type": "code",
        "colab": {
          "base_uri": "https://localhost:8080/",
          "height": 35
        },
        "outputId": "590d7b95-64b6-4c7f-e685-dbbe59a6949c"
      },
      "source": [
        "SoccerClub"
      ],
      "execution_count": 13,
      "outputs": [
        {
          "output_type": "execute_result",
          "data": {
            "text/plain": [
              "'Palmeiras'"
            ]
          },
          "metadata": {
            "tags": []
          },
          "execution_count": 13
        }
      ]
    },
    {
      "cell_type": "code",
      "metadata": {
        "id": "ayQlt-7gw3vJ",
        "colab_type": "code",
        "colab": {
          "base_uri": "https://localhost:8080/",
          "height": 35
        },
        "outputId": "77d97041-968b-4650-a93f-a79bbd3edcc6"
      },
      "source": [
        "# To call the first element of this string: \n",
        "\n",
        "SoccerClub[0]"
      ],
      "execution_count": 15,
      "outputs": [
        {
          "output_type": "execute_result",
          "data": {
            "text/plain": [
              "'P'"
            ]
          },
          "metadata": {
            "tags": []
          },
          "execution_count": 15
        }
      ]
    },
    {
      "cell_type": "code",
      "metadata": {
        "colab_type": "code",
        "outputId": "d3bf58e1-6fd9-4db1-f846-ef6432793d79",
        "id": "dc_-yNT6xL5t",
        "colab": {
          "base_uri": "https://localhost:8080/",
          "height": 35
        }
      },
      "source": [
        "# To call the fourth element of this string: \n",
        "\n",
        "SoccerClub[3]"
      ],
      "execution_count": 18,
      "outputs": [
        {
          "output_type": "execute_result",
          "data": {
            "text/plain": [
              "'m'"
            ]
          },
          "metadata": {
            "tags": []
          },
          "execution_count": 18
        }
      ]
    },
    {
      "cell_type": "code",
      "metadata": {
        "colab_type": "code",
        "outputId": "347d8495-b993-495b-be20-a22aadf38ea6",
        "id": "ac6sbIwWxRgA",
        "colab": {
          "base_uri": "https://localhost:8080/",
          "height": 35
        }
      },
      "source": [
        "# To call the last element of a string:\n",
        "\n",
        "SoccerClub[-1]"
      ],
      "execution_count": 19,
      "outputs": [
        {
          "output_type": "execute_result",
          "data": {
            "text/plain": [
              "'s'"
            ]
          },
          "metadata": {
            "tags": []
          },
          "execution_count": 19
        }
      ]
    },
    {
      "cell_type": "markdown",
      "metadata": {
        "colab_type": "text",
        "id": "aXPXhbRjvaNt"
      },
      "source": [
        "#####*Lenght:*\n",
        "\n"
      ]
    },
    {
      "cell_type": "code",
      "metadata": {
        "id": "ZuauQBgcx1s8",
        "colab_type": "code",
        "colab": {
          "base_uri": "https://localhost:8080/",
          "height": 35
        },
        "outputId": "04358043-beb0-477d-e42c-aa01aa20bfee"
      },
      "source": [
        "# You can discover the lenght of a string with the function (len)\n",
        "\n",
        "len(SoccerClub)"
      ],
      "execution_count": 20,
      "outputs": [
        {
          "output_type": "execute_result",
          "data": {
            "text/plain": [
              "9"
            ]
          },
          "metadata": {
            "tags": []
          },
          "execution_count": 20
        }
      ]
    },
    {
      "cell_type": "markdown",
      "metadata": {
        "colab_type": "text",
        "id": "avbejLP1vakf"
      },
      "source": [
        "#####*Slice:*\n",
        "\n"
      ]
    },
    {
      "cell_type": "code",
      "metadata": {
        "id": "smPWLNuJybMl",
        "colab_type": "code",
        "colab": {
          "base_uri": "https://localhost:8080/",
          "height": 35
        },
        "outputId": "14fb8cbf-2415-4814-d65b-087e507a0f0f"
      },
      "source": [
        "# You can obtain multiple characters from a string using slicing []:\n",
        "\n",
        "SoccerClub[0:3]"
      ],
      "execution_count": 23,
      "outputs": [
        {
          "output_type": "execute_result",
          "data": {
            "text/plain": [
              "'Pal'"
            ]
          },
          "metadata": {
            "tags": []
          },
          "execution_count": 23
        }
      ]
    },
    {
      "cell_type": "markdown",
      "metadata": {
        "colab_type": "text",
        "id": "4eS-klMnvatE"
      },
      "source": [
        "#####*Stride:*\n",
        "\n"
      ]
    },
    {
      "cell_type": "code",
      "metadata": {
        "id": "C8K2VBDFyvdD",
        "colab_type": "code",
        "colab": {
          "base_uri": "https://localhost:8080/",
          "height": 35
        },
        "outputId": "028e8411-8f43-42f4-ce3e-36c3598f2d69"
      },
      "source": [
        "# You can input a stride value as follows, with the '2' indicating that we are selecting every second variable:\n",
        "\n",
        "SoccerClub[::2]"
      ],
      "execution_count": 24,
      "outputs": [
        {
          "output_type": "execute_result",
          "data": {
            "text/plain": [
              "'Plers'"
            ]
          },
          "metadata": {
            "tags": []
          },
          "execution_count": 24
        }
      ]
    },
    {
      "cell_type": "markdown",
      "metadata": {
        "colab_type": "text",
        "id": "sYUYQD6vvaYM"
      },
      "source": [
        "#####*Split:*\n",
        "\n"
      ]
    },
    {
      "cell_type": "code",
      "metadata": {
        "id": "iuU0qHl-ziME",
        "colab_type": "code",
        "colab": {
          "base_uri": "https://localhost:8080/",
          "height": 35
        },
        "outputId": "956c9c8b-86c5-4912-e81b-f7e08ef0e020"
      },
      "source": [
        "# The split() method splits a string into a list:\n",
        "\n",
        "SoccerClubsBrazil = (\"Palmeiras,Flamengo,Bahia\")\n",
        "SoccerClubsBrazil.split(',')\n",
        "\n"
      ],
      "execution_count": 27,
      "outputs": [
        {
          "output_type": "execute_result",
          "data": {
            "text/plain": [
              "['Palmeiras', 'Flamengo', 'Bahia']"
            ]
          },
          "metadata": {
            "tags": []
          },
          "execution_count": 27
        }
      ]
    },
    {
      "cell_type": "markdown",
      "metadata": {
        "colab_type": "text",
        "id": "bgd3ITSGzUCk"
      },
      "source": [
        "#####*Replace:*\n",
        "\n"
      ]
    },
    {
      "cell_type": "code",
      "metadata": {
        "id": "pvFCYSCN0aA_",
        "colab_type": "code",
        "colab": {
          "base_uri": "https://localhost:8080/",
          "height": 35
        },
        "outputId": "4a78082c-9e9e-49e7-ec9e-9b5421d2cee9"
      },
      "source": [
        "# Function used to replace characters inside a string:\n",
        "\n",
        "\"Corinthians is a big club\".replace (\"big\" , \"small\")"
      ],
      "execution_count": 28,
      "outputs": [
        {
          "output_type": "execute_result",
          "data": {
            "text/plain": [
              "'Corinthians is a small club'"
            ]
          },
          "metadata": {
            "tags": []
          },
          "execution_count": 28
        }
      ]
    },
    {
      "cell_type": "markdown",
      "metadata": {
        "colab_type": "text",
        "id": "jpfu_lJHvbAf"
      },
      "source": [
        "#####*Strip:*\n",
        "\n"
      ]
    },
    {
      "cell_type": "code",
      "metadata": {
        "id": "3nhfFzQAvtpr",
        "colab_type": "code",
        "colab": {
          "base_uri": "https://localhost:8080/",
          "height": 35
        },
        "outputId": "42a15609-d5f6-414e-a637-fe1264b215ad"
      },
      "source": [
        "# Function used to remove blank spaces or undersirable characters:\n",
        "\n",
        "Stadium = \"     Allianz Parque     \"\n",
        "Stadium.strip( )"
      ],
      "execution_count": 29,
      "outputs": [
        {
          "output_type": "execute_result",
          "data": {
            "text/plain": [
              "'Allianz Parque'"
            ]
          },
          "metadata": {
            "tags": []
          },
          "execution_count": 29
        }
      ]
    },
    {
      "cell_type": "code",
      "metadata": {
        "id": "c60t7B0v1zWx",
        "colab_type": "code",
        "colab": {
          "base_uri": "https://localhost:8080/",
          "height": 35
        },
        "outputId": "0ce18429-c909-45dc-d564-f35c0b510d09"
      },
      "source": [
        "Animal = \"Elephants\"\n",
        "Animal.strip(\"s\")"
      ],
      "execution_count": 32,
      "outputs": [
        {
          "output_type": "execute_result",
          "data": {
            "text/plain": [
              "'Elephant'"
            ]
          },
          "metadata": {
            "tags": []
          },
          "execution_count": 32
        }
      ]
    },
    {
      "cell_type": "markdown",
      "metadata": {
        "colab_type": "text",
        "id": "aEductlM1J05"
      },
      "source": [
        "#####*Concatenate:*\n",
        "\n"
      ]
    },
    {
      "cell_type": "code",
      "metadata": {
        "id": "jnMJflYN2LRr",
        "colab_type": "code",
        "colab": {
          "base_uri": "https://localhost:8080/",
          "height": 35
        },
        "outputId": "fe5869f5-faa5-4994-b82f-70dd5942da29"
      },
      "source": [
        "# You can concatenate two strings:\n",
        "\n",
        "Animal = \"Elefante Branco \"\n",
        "Arena = \"de Itaquera\"\n",
        "NewName = Animal+Arena\n",
        "print(NewName)"
      ],
      "execution_count": 39,
      "outputs": [
        {
          "output_type": "stream",
          "text": [
            "Elefante Branco de Itaquera\n"
          ],
          "name": "stdout"
        }
      ]
    },
    {
      "cell_type": "code",
      "metadata": {
        "id": "6MS8zlFX2Vls",
        "colab_type": "code",
        "colab": {}
      },
      "source": [
        "# This is the end of this Notebook with some examples of the most common expression Types."
      ],
      "execution_count": 0,
      "outputs": []
    },
    {
      "cell_type": "markdown",
      "metadata": {
        "id": "XZFNsgr81ZgR",
        "colab_type": "text"
      },
      "source": [
        "Feel free to use and share at any time!\n",
        "\n",
        "Rgds,\n",
        "####**L.V.**"
      ]
    }
  ]
}