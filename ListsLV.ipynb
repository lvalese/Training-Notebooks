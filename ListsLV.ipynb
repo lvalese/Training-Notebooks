{
  "nbformat": 4,
  "nbformat_minor": 0,
  "metadata": {
    "colab": {
      "name": "ListsLV.ipynb",
      "provenance": [],
      "collapsed_sections": [],
      "toc_visible": true,
      "authorship_tag": "ABX9TyMxKFxyMkaWEUxELd6y/msW",
      "include_colab_link": true
    },
    "kernelspec": {
      "name": "python3",
      "display_name": "Python 3"
    }
  },
  "cells": [
    {
      "cell_type": "markdown",
      "metadata": {
        "id": "view-in-github",
        "colab_type": "text"
      },
      "source": [
        "<a href=\"https://colab.research.google.com/github/lvalese/Training-Notebooks/blob/master/ListsLV.ipynb\" target=\"_parent\"><img src=\"https://colab.research.google.com/assets/colab-badge.svg\" alt=\"Open In Colab\"/></a>"
      ]
    },
    {
      "cell_type": "markdown",
      "metadata": {
        "id": "IhU3_VbIlTyX",
        "colab_type": "text"
      },
      "source": [
        "## Lists in Python\n",
        "A list is a data structure in Python that is a mutable/ or changeable, ordered sequence of elements. Each element or value that is inside of a list is called an item. Just as strings are defined as characters between quotes, lists are defined by having values between square brackets [  ]\n",
        "\n",
        "---\n"
      ]
    },
    {
      "cell_type": "code",
      "metadata": {
        "id": "CY-wyNRD3moI",
        "colab_type": "code",
        "colab": {
          "base_uri": "https://localhost:8080/",
          "height": 173
        },
        "outputId": "7a1d6c32-1091-4da9-ad19-cc7e4d2610b5"
      },
      "source": [
        "# Create a list (The idea is to create a list of Brazilian Soccer Clubs):\n",
        "\n",
        "Clubs = [\"Palmeiras\", \"Corinthians\", \"Santos\", \"Sao Paulo\", \"Flamengo\", \"Cruzeiro\", \"Gremio\", \"Bahia\", \"Paysandu\"]\n",
        "Clubs\n",
        "\n",
        "\n"
      ],
      "execution_count": 2,
      "outputs": [
        {
          "output_type": "execute_result",
          "data": {
            "text/plain": [
              "['Palmeiras',\n",
              " 'Corinthians',\n",
              " 'Santos',\n",
              " 'Sao Paulo',\n",
              " 'Flamengo',\n",
              " 'Cruzeiro',\n",
              " 'Gremio',\n",
              " 'Bahia',\n",
              " 'Paysandu']"
            ]
          },
          "metadata": {
            "tags": []
          },
          "execution_count": 2
        }
      ]
    },
    {
      "cell_type": "markdown",
      "metadata": {
        "id": "z93BRlHuwarM",
        "colab_type": "text"
      },
      "source": [
        "#####*Indexing:*\n",
        "\n"
      ]
    },
    {
      "cell_type": "code",
      "metadata": {
        "id": "pcgr3mkbvgo-",
        "colab_type": "code",
        "colab": {}
      },
      "source": [
        "# Each element in the list can be accessed using an index represented by the array of numbers:"
      ],
      "execution_count": 0,
      "outputs": []
    },
    {
      "cell_type": "markdown",
      "metadata": {
        "id": "pr6fyckAwI9X",
        "colab_type": "text"
      },
      "source": [
        "| **0** | **1** | **2** | **3** | **4** | **5** |**6** | **7** | **8** |\n",
        "|:-----:|:-----:|:-----:|:-----:|:-----:|:-----:|:-----:|:-----:|:-----:|\n",
        "|Palmeiras|Corinthians|Santos|Sao Paulo|Flamengo| Cruzeiro| Gremio |Bahia| Paysandu|     "
      ]
    },
    {
      "cell_type": "code",
      "metadata": {
        "id": "L679-F-J6JfL",
        "colab_type": "code",
        "colab": {
          "base_uri": "https://localhost:8080/",
          "height": 35
        },
        "outputId": "4e9e31ba-04a6-4bcc-a778-0bd0eb6de40a"
      },
      "source": [
        "# Indexing returns the item:\n",
        "Clubs [0]"
      ],
      "execution_count": 3,
      "outputs": [
        {
          "output_type": "execute_result",
          "data": {
            "text/plain": [
              "'Palmeiras'"
            ]
          },
          "metadata": {
            "tags": []
          },
          "execution_count": 3
        }
      ]
    },
    {
      "cell_type": "code",
      "metadata": {
        "id": "WLBihYPH6TIH",
        "colab_type": "code",
        "colab": {
          "base_uri": "https://localhost:8080/",
          "height": 35
        },
        "outputId": "c3c03fc5-5cd8-4d18-a051-72325d65991b"
      },
      "source": [
        "Clubs [-1]"
      ],
      "execution_count": 4,
      "outputs": [
        {
          "output_type": "execute_result",
          "data": {
            "text/plain": [
              "'Paysandu'"
            ]
          },
          "metadata": {
            "tags": []
          },
          "execution_count": 4
        }
      ]
    },
    {
      "cell_type": "markdown",
      "metadata": {
        "colab_type": "text",
        "id": "Ez_TNKFh6bDE"
      },
      "source": [
        "#####*Slicing:*\n",
        "\n"
      ]
    },
    {
      "cell_type": "code",
      "metadata": {
        "id": "7KSChpIb6U5I",
        "colab_type": "code",
        "colab": {
          "base_uri": "https://localhost:8080/",
          "height": 35
        },
        "outputId": "3a244625-8816-43b5-fe85-df0439af2840"
      },
      "source": [
        "# Slicing returns a new list:\n",
        "Clubs [0:4]"
      ],
      "execution_count": 5,
      "outputs": [
        {
          "output_type": "execute_result",
          "data": {
            "text/plain": [
              "['Palmeiras', 'Corinthians', 'Santos', 'Sao Paulo']"
            ]
          },
          "metadata": {
            "tags": []
          },
          "execution_count": 5
        }
      ]
    },
    {
      "cell_type": "code",
      "metadata": {
        "id": "4qWhF0wb6lcx",
        "colab_type": "code",
        "colab": {
          "base_uri": "https://localhost:8080/",
          "height": 35
        },
        "outputId": "060a9cd5-4166-41af-ed93-1212407a14c7"
      },
      "source": [
        "Clubs [4:7]"
      ],
      "execution_count": 7,
      "outputs": [
        {
          "output_type": "execute_result",
          "data": {
            "text/plain": [
              "['Flamengo', 'Cruzeiro', 'Gremio']"
            ]
          },
          "metadata": {
            "tags": []
          },
          "execution_count": 7
        }
      ]
    },
    {
      "cell_type": "markdown",
      "metadata": {
        "colab_type": "text",
        "id": "XMr4gueO61vZ"
      },
      "source": [
        "#####*Extend:*\n",
        "\n"
      ]
    },
    {
      "cell_type": "code",
      "metadata": {
        "id": "woo3Pd0x6oOm",
        "colab_type": "code",
        "colab": {
          "base_uri": "https://localhost:8080/",
          "height": 243
        },
        "outputId": "65fc7f25-5be7-47e0-9e98-c00a3e60baca"
      },
      "source": [
        "# Use extend to add elements to list\n",
        "Clubs.extend([\"Goias\", \"Vasco\"])\n",
        "Clubs"
      ],
      "execution_count": 9,
      "outputs": [
        {
          "output_type": "execute_result",
          "data": {
            "text/plain": [
              "['Palmeiras',\n",
              " 'Corinthians',\n",
              " 'Santos',\n",
              " 'Sao Paulo',\n",
              " 'Flamengo',\n",
              " 'Cruzeiro',\n",
              " 'Gremio',\n",
              " 'Bahia',\n",
              " 'Paysandu',\n",
              " 'Goias',\n",
              " 'Vasco',\n",
              " 'Goias',\n",
              " 'Vasco']"
            ]
          },
          "metadata": {
            "tags": []
          },
          "execution_count": 9
        }
      ]
    },
    {
      "cell_type": "markdown",
      "metadata": {
        "colab_type": "text",
        "id": "s0foRb1N62Fx"
      },
      "source": [
        "#####*Append:*\n",
        "\n"
      ]
    },
    {
      "cell_type": "code",
      "metadata": {
        "id": "OkrnT81g67Na",
        "colab_type": "code",
        "colab": {
          "base_uri": "https://localhost:8080/",
          "height": 260
        },
        "outputId": "098e9792-a29b-4003-bd2c-6f5315e36d04"
      },
      "source": [
        "# Use append to add elements to list. Append adds its argument as a single element to the end of a list. The length of the list itself will increase by one:\n",
        "Clubs.append([\"Botafogo\", \"Fluminense\"])\n",
        "Clubs\n"
      ],
      "execution_count": 11,
      "outputs": [
        {
          "output_type": "execute_result",
          "data": {
            "text/plain": [
              "['Palmeiras',\n",
              " 'Corinthians',\n",
              " 'Santos',\n",
              " 'Sao Paulo',\n",
              " 'Flamengo',\n",
              " 'Cruzeiro',\n",
              " 'Gremio',\n",
              " 'Bahia',\n",
              " 'Paysandu',\n",
              " 'Goias',\n",
              " 'Vasco',\n",
              " 'Goias',\n",
              " 'Vasco',\n",
              " ['Botafogo', 'Fluminense']]"
            ]
          },
          "metadata": {
            "tags": []
          },
          "execution_count": 11
        }
      ]
    },
    {
      "cell_type": "markdown",
      "metadata": {
        "colab_type": "text",
        "id": "Q7c7tGma8JyJ"
      },
      "source": [
        "#####*Delete:*\n",
        "\n"
      ]
    },
    {
      "cell_type": "code",
      "metadata": {
        "id": "9kfv4eG57ppv",
        "colab_type": "code",
        "colab": {
          "base_uri": "https://localhost:8080/",
          "height": 72
        },
        "outputId": "a246c74c-b3fb-4eb2-acb9-59c10ea63252"
      },
      "source": [
        "# Delete the element based on the index:\n",
        "\n",
        "print('Before change:', Clubs)\n",
        "del(Clubs[-1])\n",
        "print('After change:', Clubs)\n"
      ],
      "execution_count": 12,
      "outputs": [
        {
          "output_type": "stream",
          "text": [
            "Before change: ['Palmeiras', 'Corinthians', 'Santos', 'Sao Paulo', 'Flamengo', 'Cruzeiro', 'Gremio', 'Bahia', 'Paysandu', 'Goias', 'Vasco', 'Goias', 'Vasco', ['Botafogo', 'Fluminense']]\n",
            "After change: ['Palmeiras', 'Corinthians', 'Santos', 'Sao Paulo', 'Flamengo', 'Cruzeiro', 'Gremio', 'Bahia', 'Paysandu', 'Goias', 'Vasco', 'Goias', 'Vasco']\n"
          ],
          "name": "stdout"
        }
      ]
    },
    {
      "cell_type": "code",
      "metadata": {
        "id": "6MS8zlFX2Vls",
        "colab_type": "code",
        "colab": {}
      },
      "source": [
        "# This is the end of this Notebook with some examples of the most common expression Types."
      ],
      "execution_count": 0,
      "outputs": []
    },
    {
      "cell_type": "markdown",
      "metadata": {
        "id": "XZFNsgr81ZgR",
        "colab_type": "text"
      },
      "source": [
        "Feel free to use and share at any time!\n",
        "\n",
        "Rgds,\n",
        "####**L.V.**"
      ]
    }
  ]
}